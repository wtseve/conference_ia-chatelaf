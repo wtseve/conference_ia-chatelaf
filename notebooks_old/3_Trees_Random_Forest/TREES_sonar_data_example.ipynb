{
 "cells": [
  {
   "cell_type": "markdown",
   "metadata": {},
   "source": [
    "# Bagging : Trees and random forest\n",
    "# Boosting : AdaBoost\n",
    "## Examples on sonar data\n",
    "\n",
    "### Read Sonar Data from CSV file\n",
    "See Perceptron_sonar_example for details on the sonar data."
   ]
  },
  {
   "cell_type": "code",
   "execution_count": 2,
   "metadata": {},
   "outputs": [
    {
     "ename": "FileNotFoundError",
     "evalue": "[Errno 2] No such file or directory: 'sonar.all-data.csv'",
     "output_type": "error",
     "traceback": [
      "\u001b[0;31m---------------------------------------------------------------------------\u001b[0m",
      "\u001b[0;31mFileNotFoundError\u001b[0m                         Traceback (most recent call last)",
      "\u001b[0;32m<ipython-input-2-e26a59e130fb>\u001b[0m in \u001b[0;36m<module>\u001b[0;34m\u001b[0m\n\u001b[1;32m     31\u001b[0m \u001b[0;31m# load and prepare data\u001b[0m\u001b[0;34m\u001b[0m\u001b[0;34m\u001b[0m\u001b[0;34m\u001b[0m\u001b[0m\n\u001b[1;32m     32\u001b[0m \u001b[0mfilename\u001b[0m \u001b[0;34m=\u001b[0m \u001b[0;34m'sonar.all-data.csv'\u001b[0m\u001b[0;34m\u001b[0m\u001b[0;34m\u001b[0m\u001b[0m\n\u001b[0;32m---> 33\u001b[0;31m \u001b[0mdataset\u001b[0m \u001b[0;34m=\u001b[0m \u001b[0mload_csv\u001b[0m\u001b[0;34m(\u001b[0m\u001b[0mfilename\u001b[0m\u001b[0;34m)\u001b[0m\u001b[0;34m\u001b[0m\u001b[0;34m\u001b[0m\u001b[0m\n\u001b[0m\u001b[1;32m     34\u001b[0m \u001b[0;32mfor\u001b[0m \u001b[0mi\u001b[0m \u001b[0;32min\u001b[0m \u001b[0mrange\u001b[0m\u001b[0;34m(\u001b[0m\u001b[0mlen\u001b[0m\u001b[0;34m(\u001b[0m\u001b[0mdataset\u001b[0m\u001b[0;34m[\u001b[0m\u001b[0;36m0\u001b[0m\u001b[0;34m]\u001b[0m\u001b[0;34m)\u001b[0m\u001b[0;34m-\u001b[0m\u001b[0;36m1\u001b[0m\u001b[0;34m)\u001b[0m\u001b[0;34m:\u001b[0m\u001b[0;34m\u001b[0m\u001b[0;34m\u001b[0m\u001b[0m\n\u001b[1;32m     35\u001b[0m         \u001b[0mstr_column_to_float\u001b[0m\u001b[0;34m(\u001b[0m\u001b[0mdataset\u001b[0m\u001b[0;34m,\u001b[0m \u001b[0mi\u001b[0m\u001b[0;34m)\u001b[0m\u001b[0;34m\u001b[0m\u001b[0;34m\u001b[0m\u001b[0m\n",
      "\u001b[0;32m<ipython-input-2-e26a59e130fb>\u001b[0m in \u001b[0;36mload_csv\u001b[0;34m(filename)\u001b[0m\n\u001b[1;32m      5\u001b[0m \u001b[0;32mdef\u001b[0m \u001b[0mload_csv\u001b[0m\u001b[0;34m(\u001b[0m\u001b[0mfilename\u001b[0m\u001b[0;34m)\u001b[0m\u001b[0;34m:\u001b[0m\u001b[0;34m\u001b[0m\u001b[0;34m\u001b[0m\u001b[0m\n\u001b[1;32m      6\u001b[0m         \u001b[0mdataset\u001b[0m \u001b[0;34m=\u001b[0m \u001b[0mlist\u001b[0m\u001b[0;34m(\u001b[0m\u001b[0;34m)\u001b[0m\u001b[0;34m\u001b[0m\u001b[0;34m\u001b[0m\u001b[0m\n\u001b[0;32m----> 7\u001b[0;31m         \u001b[0;32mwith\u001b[0m \u001b[0mopen\u001b[0m\u001b[0;34m(\u001b[0m\u001b[0mfilename\u001b[0m\u001b[0;34m,\u001b[0m \u001b[0;34m'r'\u001b[0m\u001b[0;34m)\u001b[0m \u001b[0;32mas\u001b[0m \u001b[0mfile\u001b[0m\u001b[0;34m:\u001b[0m\u001b[0;34m\u001b[0m\u001b[0;34m\u001b[0m\u001b[0m\n\u001b[0m\u001b[1;32m      8\u001b[0m                 \u001b[0mcsv_reader\u001b[0m \u001b[0;34m=\u001b[0m \u001b[0mreader\u001b[0m\u001b[0;34m(\u001b[0m\u001b[0mfile\u001b[0m\u001b[0;34m)\u001b[0m\u001b[0;34m\u001b[0m\u001b[0;34m\u001b[0m\u001b[0m\n\u001b[1;32m      9\u001b[0m                 \u001b[0;32mfor\u001b[0m \u001b[0mrow\u001b[0m \u001b[0;32min\u001b[0m \u001b[0mcsv_reader\u001b[0m\u001b[0;34m:\u001b[0m\u001b[0;34m\u001b[0m\u001b[0;34m\u001b[0m\u001b[0m\n",
      "\u001b[0;31mFileNotFoundError\u001b[0m: [Errno 2] No such file or directory: 'sonar.all-data.csv'"
     ]
    }
   ],
   "source": [
    "from csv import reader\n",
    "import numpy as np\n",
    "\n",
    "# Load a CSV file\n",
    "def load_csv(filename):\n",
    "\tdataset = list()\n",
    "\twith open(filename, 'r') as file:\n",
    "\t\tcsv_reader = reader(file)\n",
    "\t\tfor row in csv_reader:\n",
    "\t\t\tif not row:\n",
    "\t\t\t\tcontinue\n",
    "\t\t\tdataset.append(row)\n",
    "\treturn dataset\n",
    "\n",
    "# Convert string column to float\n",
    "def str_column_to_float(dataset, column):\n",
    "\tfor row in dataset:\n",
    "\t\trow[column] = float(row[column].strip())\n",
    " \n",
    "# Convert string column to integer\n",
    "def str_column_to_int(dataset, column):\n",
    "\tclass_values = [row[column] for row in dataset]\n",
    "\tunique = set(class_values)\n",
    "\tlookup = dict()\n",
    "\tfor i, value in enumerate(unique):\n",
    "\t\tlookup[value] = i\n",
    "\tfor row in dataset:\n",
    "\t\trow[column] = lookup[row[column]]\n",
    "\treturn lookup\n",
    "\n",
    "# load and prepare data\n",
    "filename = 'sonar.all-data.csv'\n",
    "dataset = load_csv(filename)\n",
    "for i in range(len(dataset[0])-1):\n",
    "\tstr_column_to_float(dataset, i)\n",
    "# convert string class to integers\n",
    "str_column_to_int(dataset, len(dataset[0])-1)\n",
    "print(\"size of sonar dataset = {}\".format(np.asarray(dataset).shape))\n",
    "\n",
    "dataset_X=list()\n",
    "dataset_y=list()\n",
    "for i in range(len(dataset)):\n",
    "    dataset_X.append(dataset[i][:-1])\n",
    "    dataset_y.append(dataset[i][-1])\n",
    "\n"
   ]
  },
  {
   "cell_type": "markdown",
   "metadata": {},
   "source": [
    "## Decision Tree"
   ]
  },
  {
   "cell_type": "code",
   "execution_count": 2,
   "metadata": {},
   "outputs": [
    {
     "name": "stdout",
     "output_type": "stream",
     "text": [
      "resp. length of X_train and X_test are [166] and [42] \n"
     ]
    },
    {
     "data": {
      "text/plain": [
       "DecisionTreeClassifier(class_weight=None, criterion='gini', max_depth=3,\n",
       "            max_features=None, max_leaf_nodes=None,\n",
       "            min_impurity_decrease=0.0, min_impurity_split=None,\n",
       "            min_samples_leaf=1, min_samples_split=2,\n",
       "            min_weight_fraction_leaf=0.0, presort=False, random_state=None,\n",
       "            splitter='best')"
      ]
     },
     "execution_count": 2,
     "metadata": {},
     "output_type": "execute_result"
    }
   ],
   "source": [
    "from sklearn import tree\n",
    "from sklearn import metrics\n",
    "import graphviz \n",
    "from sklearn.model_selection import train_test_split\n",
    "import matplotlib.pyplot as plt\n",
    "\n",
    "nbdepth=3   # try 4 or 5 and decide wether more depth are usefull... \n",
    "estimator = tree.DecisionTreeClassifier(max_depth=nbdepth,criterion='gini')\n",
    "\n",
    "\n",
    "X_train, X_test, y_train, y_test = train_test_split(dataset_X, dataset_y, test_size=.2,random_state=0)\n",
    "print(\"resp. length of X_train and X_test are {0} and {1} \".format([len(X_train)],[len(X_test)]))\n",
    "\n",
    "estimator = estimator.fit(X_train, y_train)\n",
    "estimator"
   ]
  },
  {
   "cell_type": "code",
   "execution_count": 3,
   "metadata": {},
   "outputs": [
    {
     "data": {
      "image/svg+xml": [
       "<?xml version=\"1.0\" encoding=\"UTF-8\" standalone=\"no\"?>\n",
       "<!DOCTYPE svg PUBLIC \"-//W3C//DTD SVG 1.1//EN\"\n",
       " \"http://www.w3.org/Graphics/SVG/1.1/DTD/svg11.dtd\">\n",
       "<!-- Generated by graphviz version 2.40.1 (20161225.0304)\n",
       " -->\n",
       "<!-- Title: Tree Pages: 1 -->\n",
       "<svg width=\"691pt\" height=\"418pt\"\n",
       " viewBox=\"0.00 0.00 691.00 418.00\" xmlns=\"http://www.w3.org/2000/svg\" xmlns:xlink=\"http://www.w3.org/1999/xlink\">\n",
       "<g id=\"graph0\" class=\"graph\" transform=\"scale(1 1) rotate(0) translate(4 414)\">\n",
       "<title>Tree</title>\n",
       "<polygon fill=\"#ffffff\" stroke=\"transparent\" points=\"-4,4 -4,-414 687,-414 687,4 -4,4\"/>\n",
       "<!-- 0 -->\n",
       "<g id=\"node1\" class=\"node\">\n",
       "<title>0</title>\n",
       "<polygon fill=\"#e58139\" fill-opacity=\"0.156863\" stroke=\"#000000\" points=\"389.5,-410 283.5,-410 283.5,-332 389.5,-332 389.5,-410\"/>\n",
       "<text text-anchor=\"start\" x=\"301.5\" y=\"-395.8\" font-family=\"Times,serif\" font-size=\"14.00\" fill=\"#000000\">X</text>\n",
       "<text text-anchor=\"start\" x=\"312.5\" y=\"-395.8\" font-family=\"Times,serif\" baseline-shift=\"sub\" font-size=\"14.00\" fill=\"#000000\">10</text>\n",
       "<text text-anchor=\"start\" x=\"324.5\" y=\"-395.8\" font-family=\"Times,serif\" font-size=\"14.00\" fill=\"#000000\"> ≤ 0.198</text>\n",
       "<text text-anchor=\"start\" x=\"302\" y=\"-381.8\" font-family=\"Times,serif\" font-size=\"14.00\" fill=\"#000000\">gini = 0.496</text>\n",
       "<text text-anchor=\"start\" x=\"295.5\" y=\"-367.8\" font-family=\"Times,serif\" font-size=\"14.00\" fill=\"#000000\">samples = 166</text>\n",
       "<text text-anchor=\"start\" x=\"291.5\" y=\"-353.8\" font-family=\"Times,serif\" font-size=\"14.00\" fill=\"#000000\">value = [90, 76]</text>\n",
       "<text text-anchor=\"start\" x=\"303\" y=\"-339.8\" font-family=\"Times,serif\" font-size=\"14.00\" fill=\"#000000\">class = rock</text>\n",
       "</g>\n",
       "<!-- 1 -->\n",
       "<g id=\"node2\" class=\"node\">\n",
       "<title>1</title>\n",
       "<polygon fill=\"#399de5\" fill-opacity=\"0.690196\" stroke=\"#000000\" points=\"327.5,-296 221.5,-296 221.5,-218 327.5,-218 327.5,-296\"/>\n",
       "<text text-anchor=\"start\" x=\"242.5\" y=\"-281.8\" font-family=\"Times,serif\" font-size=\"14.00\" fill=\"#000000\">X</text>\n",
       "<text text-anchor=\"start\" x=\"253.5\" y=\"-281.8\" font-family=\"Times,serif\" baseline-shift=\"sub\" font-size=\"14.00\" fill=\"#000000\">0</text>\n",
       "<text text-anchor=\"start\" x=\"259.5\" y=\"-281.8\" font-family=\"Times,serif\" font-size=\"14.00\" fill=\"#000000\"> ≤ 0.039</text>\n",
       "<text text-anchor=\"start\" x=\"240\" y=\"-267.8\" font-family=\"Times,serif\" font-size=\"14.00\" fill=\"#000000\">gini = 0.361</text>\n",
       "<text text-anchor=\"start\" x=\"237\" y=\"-253.8\" font-family=\"Times,serif\" font-size=\"14.00\" fill=\"#000000\">samples = 72</text>\n",
       "<text text-anchor=\"start\" x=\"229.5\" y=\"-239.8\" font-family=\"Times,serif\" font-size=\"14.00\" fill=\"#000000\">value = [17, 55]</text>\n",
       "<text text-anchor=\"start\" x=\"239\" y=\"-225.8\" font-family=\"Times,serif\" font-size=\"14.00\" fill=\"#000000\">class = mine</text>\n",
       "</g>\n",
       "<!-- 0&#45;&gt;1 -->\n",
       "<g id=\"edge1\" class=\"edge\">\n",
       "<title>0&#45;&gt;1</title>\n",
       "<path fill=\"none\" stroke=\"#000000\" d=\"M315.1631,-331.7677C310.5356,-323.259 305.5888,-314.1634 300.7957,-305.3502\"/>\n",
       "<polygon fill=\"#000000\" stroke=\"#000000\" points=\"303.7287,-303.4173 295.8762,-296.3046 297.5793,-306.7617 303.7287,-303.4173\"/>\n",
       "<text text-anchor=\"middle\" x=\"288.7926\" y=\"-316.5801\" font-family=\"Times,serif\" font-size=\"14.00\" fill=\"#000000\">True</text>\n",
       "</g>\n",
       "<!-- 6 -->\n",
       "<g id=\"node7\" class=\"node\">\n",
       "<title>6</title>\n",
       "<polygon fill=\"#e58139\" fill-opacity=\"0.713725\" stroke=\"#000000\" points=\"451.5,-296 345.5,-296 345.5,-218 451.5,-218 451.5,-296\"/>\n",
       "<text text-anchor=\"start\" x=\"363.5\" y=\"-281.8\" font-family=\"Times,serif\" font-size=\"14.00\" fill=\"#000000\">X</text>\n",
       "<text text-anchor=\"start\" x=\"374.5\" y=\"-281.8\" font-family=\"Times,serif\" baseline-shift=\"sub\" font-size=\"14.00\" fill=\"#000000\">16</text>\n",
       "<text text-anchor=\"start\" x=\"386.5\" y=\"-281.8\" font-family=\"Times,serif\" font-size=\"14.00\" fill=\"#000000\"> ≤ 0.669</text>\n",
       "<text text-anchor=\"start\" x=\"364\" y=\"-267.8\" font-family=\"Times,serif\" font-size=\"14.00\" fill=\"#000000\">gini = 0.347</text>\n",
       "<text text-anchor=\"start\" x=\"361\" y=\"-253.8\" font-family=\"Times,serif\" font-size=\"14.00\" fill=\"#000000\">samples = 94</text>\n",
       "<text text-anchor=\"start\" x=\"353.5\" y=\"-239.8\" font-family=\"Times,serif\" font-size=\"14.00\" fill=\"#000000\">value = [73, 21]</text>\n",
       "<text text-anchor=\"start\" x=\"365\" y=\"-225.8\" font-family=\"Times,serif\" font-size=\"14.00\" fill=\"#000000\">class = rock</text>\n",
       "</g>\n",
       "<!-- 0&#45;&gt;6 -->\n",
       "<g id=\"edge6\" class=\"edge\">\n",
       "<title>0&#45;&gt;6</title>\n",
       "<path fill=\"none\" stroke=\"#000000\" d=\"M357.8369,-331.7677C362.4644,-323.259 367.4112,-314.1634 372.2043,-305.3502\"/>\n",
       "<polygon fill=\"#000000\" stroke=\"#000000\" points=\"375.4207,-306.7617 377.1238,-296.3046 369.2713,-303.4173 375.4207,-306.7617\"/>\n",
       "<text text-anchor=\"middle\" x=\"384.2074\" y=\"-316.5801\" font-family=\"Times,serif\" font-size=\"14.00\" fill=\"#000000\">False</text>\n",
       "</g>\n",
       "<!-- 2 -->\n",
       "<g id=\"node3\" class=\"node\">\n",
       "<title>2</title>\n",
       "<polygon fill=\"#399de5\" fill-opacity=\"0.800000\" stroke=\"#000000\" points=\"213.5,-182 107.5,-182 107.5,-104 213.5,-104 213.5,-182\"/>\n",
       "<text text-anchor=\"start\" x=\"129\" y=\"-167.8\" font-family=\"Times,serif\" font-size=\"14.00\" fill=\"#000000\">X</text>\n",
       "<text text-anchor=\"start\" x=\"140\" y=\"-167.8\" font-family=\"Times,serif\" baseline-shift=\"sub\" font-size=\"14.00\" fill=\"#000000\">16</text>\n",
       "<text text-anchor=\"start\" x=\"152\" y=\"-167.8\" font-family=\"Times,serif\" font-size=\"14.00\" fill=\"#000000\"> ≤ 0.37</text>\n",
       "<text text-anchor=\"start\" x=\"126\" y=\"-153.8\" font-family=\"Times,serif\" font-size=\"14.00\" fill=\"#000000\">gini = 0.278</text>\n",
       "<text text-anchor=\"start\" x=\"123\" y=\"-139.8\" font-family=\"Times,serif\" font-size=\"14.00\" fill=\"#000000\">samples = 66</text>\n",
       "<text text-anchor=\"start\" x=\"115.5\" y=\"-125.8\" font-family=\"Times,serif\" font-size=\"14.00\" fill=\"#000000\">value = [11, 55]</text>\n",
       "<text text-anchor=\"start\" x=\"125\" y=\"-111.8\" font-family=\"Times,serif\" font-size=\"14.00\" fill=\"#000000\">class = mine</text>\n",
       "</g>\n",
       "<!-- 1&#45;&gt;2 -->\n",
       "<g id=\"edge2\" class=\"edge\">\n",
       "<title>1&#45;&gt;2</title>\n",
       "<path fill=\"none\" stroke=\"#000000\" d=\"M235.2677,-217.7677C226.132,-208.632 216.3198,-198.8198 206.907,-189.407\"/>\n",
       "<polygon fill=\"#000000\" stroke=\"#000000\" points=\"209.3506,-186.9009 199.8046,-182.3046 204.4009,-191.8506 209.3506,-186.9009\"/>\n",
       "</g>\n",
       "<!-- 5 -->\n",
       "<g id=\"node6\" class=\"node\">\n",
       "<title>5</title>\n",
       "<polygon fill=\"#e58139\" stroke=\"#000000\" points=\"323.5,-177 231.5,-177 231.5,-109 323.5,-109 323.5,-177\"/>\n",
       "<text text-anchor=\"start\" x=\"250\" y=\"-161.8\" font-family=\"Times,serif\" font-size=\"14.00\" fill=\"#000000\">gini = 0.0</text>\n",
       "<text text-anchor=\"start\" x=\"243.5\" y=\"-146.8\" font-family=\"Times,serif\" font-size=\"14.00\" fill=\"#000000\">samples = 6</text>\n",
       "<text text-anchor=\"start\" x=\"239.5\" y=\"-131.8\" font-family=\"Times,serif\" font-size=\"14.00\" fill=\"#000000\">value = [6, 0]</text>\n",
       "<text text-anchor=\"start\" x=\"244\" y=\"-116.8\" font-family=\"Times,serif\" font-size=\"14.00\" fill=\"#000000\">class = rock</text>\n",
       "</g>\n",
       "<!-- 1&#45;&gt;5 -->\n",
       "<g id=\"edge5\" class=\"edge\">\n",
       "<title>1&#45;&gt;5</title>\n",
       "<path fill=\"none\" stroke=\"#000000\" d=\"M275.5324,-217.7677C275.789,-208.0161 276.066,-197.4937 276.3287,-187.509\"/>\n",
       "<polygon fill=\"#000000\" stroke=\"#000000\" points=\"279.8316,-187.4422 276.596,-177.3535 272.834,-187.258 279.8316,-187.4422\"/>\n",
       "</g>\n",
       "<!-- 3 -->\n",
       "<g id=\"node4\" class=\"node\">\n",
       "<title>3</title>\n",
       "<polygon fill=\"#399de5\" fill-opacity=\"0.952941\" stroke=\"#000000\" points=\"99,-68 0,-68 0,0 99,0 99,-68\"/>\n",
       "<text text-anchor=\"start\" x=\"15\" y=\"-52.8\" font-family=\"Times,serif\" font-size=\"14.00\" fill=\"#000000\">gini = 0.087</text>\n",
       "<text text-anchor=\"start\" x=\"12\" y=\"-37.8\" font-family=\"Times,serif\" font-size=\"14.00\" fill=\"#000000\">samples = 44</text>\n",
       "<text text-anchor=\"start\" x=\"8\" y=\"-22.8\" font-family=\"Times,serif\" font-size=\"14.00\" fill=\"#000000\">value = [2, 42]</text>\n",
       "<text text-anchor=\"start\" x=\"14\" y=\"-7.8\" font-family=\"Times,serif\" font-size=\"14.00\" fill=\"#000000\">class = mine</text>\n",
       "</g>\n",
       "<!-- 2&#45;&gt;3 -->\n",
       "<g id=\"edge3\" class=\"edge\">\n",
       "<title>2&#45;&gt;3</title>\n",
       "<path fill=\"none\" stroke=\"#000000\" d=\"M120.74,-103.9564C111.2222,-94.6101 101.0312,-84.6027 91.4192,-75.1639\"/>\n",
       "<polygon fill=\"#000000\" stroke=\"#000000\" points=\"93.7899,-72.5865 84.2025,-68.0772 88.8853,-77.581 93.7899,-72.5865\"/>\n",
       "</g>\n",
       "<!-- 4 -->\n",
       "<g id=\"node5\" class=\"node\">\n",
       "<title>4</title>\n",
       "<polygon fill=\"#399de5\" fill-opacity=\"0.305882\" stroke=\"#000000\" points=\"216,-68 117,-68 117,0 216,0 216,-68\"/>\n",
       "<text text-anchor=\"start\" x=\"132\" y=\"-52.8\" font-family=\"Times,serif\" font-size=\"14.00\" fill=\"#000000\">gini = 0.483</text>\n",
       "<text text-anchor=\"start\" x=\"129\" y=\"-37.8\" font-family=\"Times,serif\" font-size=\"14.00\" fill=\"#000000\">samples = 22</text>\n",
       "<text text-anchor=\"start\" x=\"125\" y=\"-22.8\" font-family=\"Times,serif\" font-size=\"14.00\" fill=\"#000000\">value = [9, 13]</text>\n",
       "<text text-anchor=\"start\" x=\"131\" y=\"-7.8\" font-family=\"Times,serif\" font-size=\"14.00\" fill=\"#000000\">class = mine</text>\n",
       "</g>\n",
       "<!-- 2&#45;&gt;4 -->\n",
       "<g id=\"edge4\" class=\"edge\">\n",
       "<title>2&#45;&gt;4</title>\n",
       "<path fill=\"none\" stroke=\"#000000\" d=\"M162.6492,-103.9564C163.1082,-95.618 163.5961,-86.7535 164.065,-78.2359\"/>\n",
       "<polygon fill=\"#000000\" stroke=\"#000000\" points=\"167.5692,-78.2545 164.6242,-68.0772 160.5798,-77.8697 167.5692,-78.2545\"/>\n",
       "</g>\n",
       "<!-- 7 -->\n",
       "<g id=\"node8\" class=\"node\">\n",
       "<title>7</title>\n",
       "<polygon fill=\"#e58139\" fill-opacity=\"0.894118\" stroke=\"#000000\" points=\"446,-182 347,-182 347,-104 446,-104 446,-182\"/>\n",
       "<text text-anchor=\"start\" x=\"361.5\" y=\"-167.8\" font-family=\"Times,serif\" font-size=\"14.00\" fill=\"#000000\">X</text>\n",
       "<text text-anchor=\"start\" x=\"372.5\" y=\"-167.8\" font-family=\"Times,serif\" baseline-shift=\"sub\" font-size=\"14.00\" fill=\"#000000\">46</text>\n",
       "<text text-anchor=\"start\" x=\"384.5\" y=\"-167.8\" font-family=\"Times,serif\" font-size=\"14.00\" fill=\"#000000\"> ≤ 0.061</text>\n",
       "<text text-anchor=\"start\" x=\"362\" y=\"-153.8\" font-family=\"Times,serif\" font-size=\"14.00\" fill=\"#000000\">gini = 0.172</text>\n",
       "<text text-anchor=\"start\" x=\"359\" y=\"-139.8\" font-family=\"Times,serif\" font-size=\"14.00\" fill=\"#000000\">samples = 63</text>\n",
       "<text text-anchor=\"start\" x=\"355\" y=\"-125.8\" font-family=\"Times,serif\" font-size=\"14.00\" fill=\"#000000\">value = [57, 6]</text>\n",
       "<text text-anchor=\"start\" x=\"363\" y=\"-111.8\" font-family=\"Times,serif\" font-size=\"14.00\" fill=\"#000000\">class = rock</text>\n",
       "</g>\n",
       "<!-- 6&#45;&gt;7 -->\n",
       "<g id=\"edge7\" class=\"edge\">\n",
       "<title>6&#45;&gt;7</title>\n",
       "<path fill=\"none\" stroke=\"#000000\" d=\"M397.8117,-217.7677C397.6687,-209.6172 397.5163,-200.9283 397.3678,-192.4649\"/>\n",
       "<polygon fill=\"#000000\" stroke=\"#000000\" points=\"400.8645,-192.2417 397.1896,-182.3046 393.8656,-192.3645 400.8645,-192.2417\"/>\n",
       "</g>\n",
       "<!-- 10 -->\n",
       "<g id=\"node11\" class=\"node\">\n",
       "<title>10</title>\n",
       "<polygon fill=\"#e58139\" fill-opacity=\"0.062745\" stroke=\"#000000\" points=\"570.5,-182 464.5,-182 464.5,-104 570.5,-104 570.5,-182\"/>\n",
       "<text text-anchor=\"start\" x=\"482.5\" y=\"-167.8\" font-family=\"Times,serif\" font-size=\"14.00\" fill=\"#000000\">X</text>\n",
       "<text text-anchor=\"start\" x=\"493.5\" y=\"-167.8\" font-family=\"Times,serif\" baseline-shift=\"sub\" font-size=\"14.00\" fill=\"#000000\">30</text>\n",
       "<text text-anchor=\"start\" x=\"505.5\" y=\"-167.8\" font-family=\"Times,serif\" font-size=\"14.00\" fill=\"#000000\"> ≤ 0.374</text>\n",
       "<text text-anchor=\"start\" x=\"483\" y=\"-153.8\" font-family=\"Times,serif\" font-size=\"14.00\" fill=\"#000000\">gini = 0.499</text>\n",
       "<text text-anchor=\"start\" x=\"480\" y=\"-139.8\" font-family=\"Times,serif\" font-size=\"14.00\" fill=\"#000000\">samples = 31</text>\n",
       "<text text-anchor=\"start\" x=\"472.5\" y=\"-125.8\" font-family=\"Times,serif\" font-size=\"14.00\" fill=\"#000000\">value = [16, 15]</text>\n",
       "<text text-anchor=\"start\" x=\"484\" y=\"-111.8\" font-family=\"Times,serif\" font-size=\"14.00\" fill=\"#000000\">class = rock</text>\n",
       "</g>\n",
       "<!-- 6&#45;&gt;10 -->\n",
       "<g id=\"edge10\" class=\"edge\">\n",
       "<title>6&#45;&gt;10</title>\n",
       "<path fill=\"none\" stroke=\"#000000\" d=\"M439.453,-217.7677C448.9894,-208.632 459.232,-198.8198 469.0576,-189.407\"/>\n",
       "<polygon fill=\"#000000\" stroke=\"#000000\" points=\"471.6715,-191.7498 476.4715,-182.3046 466.8291,-186.695 471.6715,-191.7498\"/>\n",
       "</g>\n",
       "<!-- 8 -->\n",
       "<g id=\"node9\" class=\"node\">\n",
       "<title>8</title>\n",
       "<polygon fill=\"#399de5\" fill-opacity=\"0.749020\" stroke=\"#000000\" points=\"329.5,-68 237.5,-68 237.5,0 329.5,0 329.5,-68\"/>\n",
       "<text text-anchor=\"start\" x=\"252.5\" y=\"-52.8\" font-family=\"Times,serif\" font-size=\"14.00\" fill=\"#000000\">gini = 0.32</text>\n",
       "<text text-anchor=\"start\" x=\"249.5\" y=\"-37.8\" font-family=\"Times,serif\" font-size=\"14.00\" fill=\"#000000\">samples = 5</text>\n",
       "<text text-anchor=\"start\" x=\"245.5\" y=\"-22.8\" font-family=\"Times,serif\" font-size=\"14.00\" fill=\"#000000\">value = [1, 4]</text>\n",
       "<text text-anchor=\"start\" x=\"248\" y=\"-7.8\" font-family=\"Times,serif\" font-size=\"14.00\" fill=\"#000000\">class = mine</text>\n",
       "</g>\n",
       "<!-- 7&#45;&gt;8 -->\n",
       "<g id=\"edge8\" class=\"edge\">\n",
       "<title>7&#45;&gt;8</title>\n",
       "<path fill=\"none\" stroke=\"#000000\" d=\"M356.0236,-103.9564C346.3343,-94.6101 335.9597,-84.6027 326.1745,-75.1639\"/>\n",
       "<polygon fill=\"#000000\" stroke=\"#000000\" points=\"328.455,-72.5007 318.8278,-68.0772 323.5952,-77.5389 328.455,-72.5007\"/>\n",
       "</g>\n",
       "<!-- 9 -->\n",
       "<g id=\"node10\" class=\"node\">\n",
       "<title>9</title>\n",
       "<polygon fill=\"#e58139\" fill-opacity=\"0.964706\" stroke=\"#000000\" points=\"447,-68 348,-68 348,0 447,0 447,-68\"/>\n",
       "<text text-anchor=\"start\" x=\"363\" y=\"-52.8\" font-family=\"Times,serif\" font-size=\"14.00\" fill=\"#000000\">gini = 0.067</text>\n",
       "<text text-anchor=\"start\" x=\"360\" y=\"-37.8\" font-family=\"Times,serif\" font-size=\"14.00\" fill=\"#000000\">samples = 58</text>\n",
       "<text text-anchor=\"start\" x=\"356\" y=\"-22.8\" font-family=\"Times,serif\" font-size=\"14.00\" fill=\"#000000\">value = [56, 2]</text>\n",
       "<text text-anchor=\"start\" x=\"364\" y=\"-7.8\" font-family=\"Times,serif\" font-size=\"14.00\" fill=\"#000000\">class = rock</text>\n",
       "</g>\n",
       "<!-- 7&#45;&gt;9 -->\n",
       "<g id=\"edge9\" class=\"edge\">\n",
       "<title>7&#45;&gt;9</title>\n",
       "<path fill=\"none\" stroke=\"#000000\" d=\"M396.8582,-103.9564C396.9347,-95.618 397.016,-86.7535 397.0942,-78.2359\"/>\n",
       "<polygon fill=\"#000000\" stroke=\"#000000\" points=\"400.5954,-78.109 397.1874,-68.0772 393.5957,-78.0447 400.5954,-78.109\"/>\n",
       "</g>\n",
       "<!-- 11 -->\n",
       "<g id=\"node12\" class=\"node\">\n",
       "<title>11</title>\n",
       "<polygon fill=\"#e58139\" fill-opacity=\"0.713725\" stroke=\"#000000\" points=\"566,-68 467,-68 467,0 566,0 566,-68\"/>\n",
       "<text text-anchor=\"start\" x=\"482\" y=\"-52.8\" font-family=\"Times,serif\" font-size=\"14.00\" fill=\"#000000\">gini = 0.346</text>\n",
       "<text text-anchor=\"start\" x=\"479\" y=\"-37.8\" font-family=\"Times,serif\" font-size=\"14.00\" fill=\"#000000\">samples = 18</text>\n",
       "<text text-anchor=\"start\" x=\"475\" y=\"-22.8\" font-family=\"Times,serif\" font-size=\"14.00\" fill=\"#000000\">value = [14, 4]</text>\n",
       "<text text-anchor=\"start\" x=\"483\" y=\"-7.8\" font-family=\"Times,serif\" font-size=\"14.00\" fill=\"#000000\">class = rock</text>\n",
       "</g>\n",
       "<!-- 10&#45;&gt;11 -->\n",
       "<g id=\"edge11\" class=\"edge\">\n",
       "<title>10&#45;&gt;11</title>\n",
       "<path fill=\"none\" stroke=\"#000000\" d=\"M517.1418,-103.9564C517.0653,-95.618 516.984,-86.7535 516.9058,-78.2359\"/>\n",
       "<polygon fill=\"#000000\" stroke=\"#000000\" points=\"520.4043,-78.0447 516.8126,-68.0772 513.4046,-78.109 520.4043,-78.0447\"/>\n",
       "</g>\n",
       "<!-- 12 -->\n",
       "<g id=\"node13\" class=\"node\">\n",
       "<title>12</title>\n",
       "<polygon fill=\"#399de5\" fill-opacity=\"0.819608\" stroke=\"#000000\" points=\"683,-68 584,-68 584,0 683,0 683,-68\"/>\n",
       "<text text-anchor=\"start\" x=\"602.5\" y=\"-52.8\" font-family=\"Times,serif\" font-size=\"14.00\" fill=\"#000000\">gini = 0.26</text>\n",
       "<text text-anchor=\"start\" x=\"596\" y=\"-37.8\" font-family=\"Times,serif\" font-size=\"14.00\" fill=\"#000000\">samples = 13</text>\n",
       "<text text-anchor=\"start\" x=\"592\" y=\"-22.8\" font-family=\"Times,serif\" font-size=\"14.00\" fill=\"#000000\">value = [2, 11]</text>\n",
       "<text text-anchor=\"start\" x=\"598\" y=\"-7.8\" font-family=\"Times,serif\" font-size=\"14.00\" fill=\"#000000\">class = mine</text>\n",
       "</g>\n",
       "<!-- 10&#45;&gt;12 -->\n",
       "<g id=\"edge12\" class=\"edge\">\n",
       "<title>10&#45;&gt;12</title>\n",
       "<path fill=\"none\" stroke=\"#000000\" d=\"M559.051,-103.9564C568.9975,-94.6101 579.6476,-84.6027 589.6925,-75.1639\"/>\n",
       "<polygon fill=\"#000000\" stroke=\"#000000\" points=\"592.3435,-77.4757 597.2343,-68.0772 587.55,-72.3744 592.3435,-77.4757\"/>\n",
       "</g>\n",
       "</g>\n",
       "</svg>\n"
      ],
      "text/plain": [
       "<graphviz.files.Source at 0x10e26d780>"
      ]
     },
     "execution_count": 3,
     "metadata": {},
     "output_type": "execute_result"
    }
   ],
   "source": [
    "echo_types=['rock','mine']\n",
    "dot_data = tree.export_graphviz(estimator, out_file=None) \n",
    "dot_data = tree.export_graphviz(estimator, out_file=None, \n",
    "                                class_names=echo_types,  \n",
    "                                filled=True,  \n",
    "                                special_characters=True\n",
    "                               )  \n",
    "graph = graphviz.Source(dot_data) \n",
    "#graph.render(\"iris\")            #for making a pdf output\n",
    "graph                           "
   ]
  },
  {
   "cell_type": "code",
   "execution_count": 5,
   "metadata": {},
   "outputs": [
    {
     "name": "stdout",
     "output_type": "stream",
     "text": [
      "Confusion matrix from training set :\n",
      "[[76  6]\n",
      " [14 70]]\n",
      "accuracy= 0.8795180722891566\n",
      "Confusion matrix from test set :\n",
      "[[17  5]\n",
      " [ 4 16]]\n",
      "accuracy= 0.7857142857142857\n"
     ]
    }
   ],
   "source": [
    "y_est=estimator.predict(X_train)\n",
    "print(\"Confusion matrix from training set :\")\n",
    "print(\"{}\".format(metrics.confusion_matrix(y_est,y_train)))\n",
    "print(\"accuracy= {}\".format(metrics.accuracy_score(y_est,y_train)))\n",
    "\n",
    "y_est=estimator.predict(X_test)\n",
    "print(\"Confusion matrix from test set :\")\n",
    "print(\"{}\".format(metrics.confusion_matrix(y_est,y_test)))\n",
    "print(\"accuracy= {}\".format(metrics.accuracy_score(y_est,y_test)))"
   ]
  },
  {
   "cell_type": "markdown",
   "metadata": {},
   "source": [
    "### cross validated performance evaluation"
   ]
  },
  {
   "cell_type": "code",
   "execution_count": 10,
   "metadata": {},
   "outputs": [
    {
     "name": "stdout",
     "output_type": "stream",
     "text": [
      "Mean Accuracy and 95 percent confidence interval : 0.68 (+/- 0.26)\n"
     ]
    }
   ],
   "source": [
    "from sklearn.model_selection import cross_val_score\n",
    "from sklearn.model_selection import ShuffleSplit\n",
    "cv = ShuffleSplit(n_splits=10, test_size=0.1, random_state=0)\n",
    "scores = cross_val_score(estimator, dataset_X, dataset_y, cv=cv)\n",
    "print(\"Mean Accuracy and 95 percent confidence interval : %0.2f (+/- %0.2f)\" % (scores.mean(), scores.std() *2))\n"
   ]
  },
  {
   "cell_type": "markdown",
   "metadata": {},
   "source": [
    "### Random forest and randomized trees bagging"
   ]
  },
  {
   "cell_type": "code",
   "execution_count": 11,
   "metadata": {},
   "outputs": [
    {
     "name": "stdout",
     "output_type": "stream",
     "text": [
      "Mean Accuracy and 95 percent confidence interval RandomForest: 0.72 (+/- 0.23)\n",
      "Mean Accuracy and 95 percent confidence interval ExtraTrees: 0.75 (+/- 0.22)\n"
     ]
    }
   ],
   "source": [
    "from sklearn.ensemble import RandomForestClassifier\n",
    "from sklearn.ensemble import ExtraTreesClassifier\n",
    "import matplotlib.pyplot as plt\n",
    "\n",
    "clf = RandomForestClassifier(n_estimators=100, max_depth=None, random_state=0, max_features=8, min_samples_split=2, criterion='entropy')\n",
    "scores = cross_val_score(clf, dataset_X, dataset_y, cv=10)\n",
    "print(\"Mean Accuracy and 95 percent confidence interval RandomForest: %0.2f (+/- %0.2f)\" % (scores.mean(), scores.std() *2)) \n",
    "\n",
    "clf = ExtraTreesClassifier(n_estimators=100, max_depth=None, random_state=0, max_features=6,min_samples_split=2, criterion='entropy')\n",
    "scores = cross_val_score(clf, dataset_X, dataset_y, cv=10)\n",
    "print(\"Mean Accuracy and 95 percent confidence interval ExtraTrees: %0.2f (+/- %0.2f)\" % (scores.mean(), scores.std() *2))  "
   ]
  },
  {
   "cell_type": "markdown",
   "metadata": {},
   "source": [
    "The importance of a feature is computed as the (normalized) total reduction of the criterion brought by that feature. It is also known as the Gini importance."
   ]
  },
  {
   "cell_type": "code",
   "execution_count": 12,
   "metadata": {},
   "outputs": [
    {
     "name": "stdout",
     "output_type": "stream",
     "text": [
      "[0.01636039 0.01413201 0.0149071  0.02176027 0.01454072 0.01347309\n",
      " 0.01318274 0.01829479 0.02983903 0.0288508  0.04293245 0.04304464\n",
      " 0.02492348 0.01300768 0.01582312 0.01858898 0.02264734 0.01872009\n",
      " 0.01535817 0.02205407 0.02494937 0.01665802 0.01685436 0.01402186\n",
      " 0.01534522 0.0168625  0.01847317 0.01910079 0.0158729  0.01459415\n",
      " 0.01532662 0.01385135 0.01061953 0.0154676  0.01511246 0.02556108\n",
      " 0.02303893 0.01853716 0.01697038 0.0165136  0.01316167 0.01559851\n",
      " 0.01625244 0.02223046 0.02961036 0.01852541 0.02461016 0.02478157\n",
      " 0.02942283 0.0120861  0.01820731 0.0164873  0.01615961 0.01773138\n",
      " 0.01369392 0.0113084  0.01466208 0.01319663 0.01339561 0.01621789]\n"
     ]
    },
    {
     "data": {
      "text/plain": [
       "array([10, 11, 48,  9, 44, 35,  8, 12, 46, 47, 36, 43, 19, 20, 16,  3, 45,\n",
       "       26, 17, 15, 53, 27, 21, 42,  7, 38, 22, 50, 30, 25, 37, 33, 28, 14,\n",
       "       51,  0, 24,  5,  1, 41, 39, 13, 34, 59, 31,  4, 29, 40, 56, 52, 58,\n",
       "       23, 18, 57, 54,  2, 49,  6, 32, 55])"
      ]
     },
     "execution_count": 12,
     "metadata": {},
     "output_type": "execute_result"
    }
   ],
   "source": [
    "clf.fit(dataset_X, dataset_y)\n",
    "importances = clf.feature_importances_\n",
    "std = np.std([tree.feature_importances_ for tree in clf.estimators_],\n",
    "             axis=0)\n",
    "print(std)\n",
    "indices = np.argsort(importances)[::-1]\n",
    "indices\n"
   ]
  },
  {
   "cell_type": "code",
   "execution_count": 13,
   "metadata": {},
   "outputs": [
    {
     "name": "stdout",
     "output_type": "stream",
     "text": [
      "Feature ranking:\n",
      "1. feature 10 (0.040746)\n",
      "2. feature 11 (0.038870)\n",
      "3. feature 48 (0.028562)\n",
      "4. feature 9 (0.027614)\n",
      "5. feature 44 (0.027169)\n",
      "6. feature 35 (0.026573)\n",
      "7. feature 8 (0.025662)\n",
      "8. feature 12 (0.025357)\n",
      "9. feature 46 (0.025110)\n",
      "10. feature 47 (0.022743)\n"
     ]
    },
    {
     "data": {
      "image/png": "[encoded data removed]",
      "text/plain": [
       "<Figure size 1080x432 with 1 Axes>"
      ]
     },
     "metadata": {
      "needs_background": "light"
     },
     "output_type": "display_data"
    }
   ],
   "source": [
    "\n",
    "\n",
    "# Print the feature ranking\n",
    "print(\"Feature ranking:\")\n",
    "\n",
    "for f in range(10):\n",
    "    print(\"%d. feature %d (%f)\" % (f + 1, indices[f], importances[indices[f]]))\n",
    "    # Plot the feature importances of the forest\n",
    "plt.figure(figsize=(15,6))\n",
    "plt.title(\"Feature importances\")\n",
    "plt.bar(range(np.asarray(dataset_X).shape[1]), importances[indices],\n",
    "       color=\"r\", yerr=std[indices], align=\"center\")\n",
    "plt.xticks( range( np.asarray(dataset_X).shape[1]) , indices)\n",
    "plt.xlim([-1, np.asarray(dataset_X).shape[1]])\n",
    "\n",
    "plt.show()\n"
   ]
  },
  {
   "cell_type": "markdown",
   "metadata": {},
   "source": [
    "## AdaBoost"
   ]
  },
  {
   "cell_type": "code",
   "execution_count": 14,
   "metadata": {},
   "outputs": [
    {
     "data": {
      "image/png": "[encoded data removed]",
      "text/plain": [
       "<Figure size 576x288 with 1 Axes>"
      ]
     },
     "metadata": {
      "needs_background": "light"
     },
     "output_type": "display_data"
    },
    {
     "name": "stdout",
     "output_type": "stream",
     "text": [
      "Mean Accuracy and 95 percent confidence interval AdaBoost Discrete: 0.79 (+/- 0.24)\n"
     ]
    }
   ],
   "source": [
    "from sklearn.ensemble import AdaBoostClassifier\n",
    "from sklearn.metrics import zero_one_loss\n",
    "\n",
    "n_estimators = 200\n",
    "# A learning rate of 1. may not be optimal for both SAMME and SAMME.R\n",
    "learning_rate = 1.\n",
    "\n",
    "dt_stump = tree.DecisionTreeClassifier(max_depth=1, min_samples_leaf=1)  # comment this tree!\n",
    "dt_stump.fit(X_train, y_train)\n",
    "dt_stump_err = 1.0 - dt_stump.score(X_test, y_test)\n",
    "\n",
    "ada_discrete = AdaBoostClassifier(\n",
    "    base_estimator=dt_stump,\n",
    "    learning_rate=learning_rate,\n",
    "    n_estimators=n_estimators,\n",
    "    algorithm=\"SAMME\")\n",
    "ada_discrete.fit(X_train, y_train)\n",
    "\n",
    "fig = plt.figure(figsize=(8,4))\n",
    "ax = fig.add_subplot(111)\n",
    "\n",
    "ax.plot([1, n_estimators], [dt_stump_err] * 2, 'k-',\n",
    "        label='Decision Stump Error')\n",
    "\n",
    "ada_discrete_err = np.zeros((n_estimators,))\n",
    "for i, y_pred in enumerate(ada_discrete.staged_predict(X_test)):\n",
    "    ada_discrete_err[i] = zero_one_loss(y_pred, y_test)\n",
    "    \n",
    "ada_discrete_err_train = np.zeros((n_estimators,))\n",
    "for i, y_pred in enumerate(ada_discrete.staged_predict(X_train)):\n",
    "    ada_discrete_err_train[i] = zero_one_loss(y_pred, y_train)\n",
    "\n",
    "ax.plot(np.arange(n_estimators) + 1, ada_discrete_err,\n",
    "        label='Discrete AdaBoost Test Error',\n",
    "        color='red')\n",
    "ax.plot(np.arange(n_estimators) + 1, ada_discrete_err_train,\n",
    "        label='Discrete AdaBoost Train Error',\n",
    "        color='blue')\n",
    "\n",
    "ax.set_ylim((0.0, 0.5))\n",
    "ax.set_xlabel('n_estimators')\n",
    "ax.set_ylabel('error rate')\n",
    "\n",
    "leg = ax.legend(loc='upper right', fancybox=True)\n",
    "leg.get_frame().set_alpha(0.7)\n",
    "\n",
    "plt.show()\n",
    "\n",
    "scores = cross_val_score(ada_discrete, dataset_X, dataset_y, cv=10)\n",
    "print(\"Mean Accuracy and 95 percent confidence interval AdaBoost Discrete: %0.2f (+/- %0.2f)\" % (scores.mean(), scores.std() *2)) \n",
    "\n"
   ]
  }
 ],
 "metadata": {
  "kernelspec": {
   "display_name": "Python 3",
   "language": "python",
   "name": "python3"
  },
  "language_info": {
   "codemirror_mode": {
    "name": "ipython",
    "version": 3
   },
   "file_extension": ".py",
   "mimetype": "text/x-python",
   "name": "python",
   "nbconvert_exporter": "python",
   "pygments_lexer": "ipython3",
   "version": "3.7.1"
  }
 },
 "nbformat": 4,
 "nbformat_minor": 2
}
