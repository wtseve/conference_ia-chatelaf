{
 "cells": [
  {
   "cell_type": "markdown",
   "metadata": {},
   "source": [
    "# CLASSIFICATION TREE\n",
    "The goal is to create a model that predicts the value of a target variable based on several input variables. \n",
    "\n",
    "Each \"interior\" node of a tree corresponds to one of the input variables; there are edges to children for each of the possible values of that input variable. Each leaf represents a value of the target variable given the values of the input variables represented by the path from the root to the leaf.\n",
    "\n",
    "A tree can be \"learned\" by splitting the source set into subsets based on an attribute value test. The \"recursion\" is completed when the subset at a node has all the same value of the target variable, or when splitting no longer adds value to the predictions (greedy algo).\n",
    "\n",
    "As any multiway split may be summerized as a series of binary splits, the focus will be made on binary splits.\n",
    "\n",
    "Splits are obtained by choosing a test at each step that \"best\" splits the set of items : What does mean Choosing the \"best\"  split $ S = S_r \\cup S_l $ such that $ S_r \\cup S_l = \\emptyset $ for e test property $T$ ? An obvious heuristic is to choose the the query that decreases the impurity a much as possible.\n",
    "\n",
    "## Metrics choice\n",
    "### Gini impurity\n",
    "Gini Impurity of a set **S** of cardinal *N* measures the probability that a randomly chosen element of the set would be incorrectly labeled if randomly labeled according to the label disytibution in __S__.\n",
    "$$ GI(S) = \\sum_{k=1}^K P(y=k).P(y\\neq k) = \\sum_{k=1}^K P(y=k)[1-P(y\\neq k)] = 1- \\sum_{k=1}^K P^2(y=k)$$\n",
    "then \n",
    "$$ \\Delta GI(S) = GI(S) - P(S_l)GI(S_l) - (1-P(S_l))GI(S_r) $$\n",
    "where $P(S_l) = \\frac{N_l}{N}$ and $N_l + N_r = N$\n",
    "\n",
    "### Entropy (Information)  impurity\n",
    "$$ H(S) = -\\sum_{k=1}^K P(y=k) \\log_2 P(y=k) $$\n",
    "the the information gain ($IG$) associated to the split (or partition)  $(S_l,S_r)$ is\n",
    "$$ IG(S) = H(S) - H(S|(S_l,S_r)) = H(S) - P(S_l)H(S_l) - P(S_r)H(S_r)$$\n",
    "where $H(S_l)$ (resp $H(S_r)$) are evaluated by using the empirical probabilities of the classes estimated from the subset $S_l$ (resp $S_r$)  : \n",
    "$$H(S_l) = -\\sum_{k=1}^K P(y=k|X \\in S_l) \\log_2 P(y=k|X \\in S_l)$$\n",
    "\n",
    "### Misclassification impurity\n",
    "$$ MI(N) = 1-{\\rm max}_kP(y=k) $$\n",
    "and hence the gain in MI \n",
    "$$ \\Delta MI(N) = MI(N) - P(S_l)MI(N_l) -P(S_r)MI(N_r) = MI(N)-1+P(S_l){\\rm max}_kP(y=k|X\\in S_l)+P(S_r){\\rm max}_kP(y=k|X\\in S_r)$$\n",
    "## Splitting strategy\n",
    "Designers usually choose to split wrt a single attribute. In general for non numerical attributes, an exhasutive search over all possibilities is performed. For real values attribute, gradient method for identifying a separating hyperplane may be used; However, simple threshold on a single attribute is often prefered. \n"
   ]
  },
  {
   "cell_type": "code",
   "execution_count": 3,
   "metadata": {},
   "outputs": [
    {
     "name": "stdout",
     "output_type": "stream",
     "text": [
      "resp. length of X_train and X_test are [112] and [38] \n"
     ]
    },
    {
     "data": {
      "text/plain": [
       "DecisionTreeClassifier(class_weight=None, criterion='entropy', max_depth=3,\n",
       "            max_features=None, max_leaf_nodes=None,\n",
       "            min_impurity_decrease=0.0, min_impurity_split=None,\n",
       "            min_samples_leaf=1, min_samples_split=2,\n",
       "            min_weight_fraction_leaf=0.0, presort=False, random_state=None,\n",
       "            splitter='best')"
      ]
     },
     "execution_count": 3,
     "metadata": {},
     "output_type": "execute_result"
    }
   ],
   "source": [
    "from sklearn.datasets import load_iris\n",
    "from sklearn  import tree\n",
    "import numpy as np\n",
    "import graphviz \n",
    "from sklearn.model_selection import train_test_split\n",
    "import matplotlib.pyplot as plt\n",
    "\n",
    "iris = load_iris()\n",
    "nbdepth=3\n",
    "estimator = tree.DecisionTreeClassifier(max_depth=nbdepth,criterion='entropy')\n",
    "\n",
    "X_train, X_test, y_train, y_test = train_test_split(iris.data, iris.target, random_state=0)\n",
    "print(\"resp. length of X_train and X_test are {0} and {1} \".format([len(X_train)],[len(X_test)]))\n",
    "\n",
    "estimator = estimator.fit(X_train, y_train)\n",
    "estimator"
   ]
  },
  {
   "cell_type": "markdown",
   "metadata": {},
   "source": [
    "For detailed explanations on the role of each input parameter, refer to \n",
    "https://scikit-learn.org/stable/modules/generated/sklearn.tree.DecisionTreeClassifier.html#sklearn.tree.DecisionTreeClassifier\n"
   ]
  },
  {
   "cell_type": "markdown",
   "metadata": {},
   "source": [
    "## Visualize the resulting Tree"
   ]
  },
  {
   "cell_type": "code",
   "execution_count": 2,
   "metadata": {},
   "outputs": [
    {
     "data": {
      "image/svg+xml": [
       "<?xml version=\"1.0\" encoding=\"UTF-8\" standalone=\"no\"?>\n",
       "<!DOCTYPE svg PUBLIC \"-//W3C//DTD SVG 1.1//EN\"\n",
       " \"http://www.w3.org/Graphics/SVG/1.1/DTD/svg11.dtd\">\n",
       "<!-- Generated by graphviz version 2.40.1 (20161225.0304)\n",
       " -->\n",
       "<!-- Title: Tree Pages: 1 -->\n",
       "<svg width=\"527pt\" height=\"433pt\"\n",
       " viewBox=\"0.00 0.00 527.00 433.00\" xmlns=\"http://www.w3.org/2000/svg\" xmlns:xlink=\"http://www.w3.org/1999/xlink\">\n",
       "<g id=\"graph0\" class=\"graph\" transform=\"scale(1 1) rotate(0) translate(4 429)\">\n",
       "<title>Tree</title>\n",
       "<polygon fill=\"#ffffff\" stroke=\"transparent\" points=\"-4,4 -4,-429 523,-429 523,4 -4,4\"/>\n",
       "<!-- 0 -->\n",
       "<g id=\"node1\" class=\"node\">\n",
       "<title>0</title>\n",
       "<polygon fill=\"#8139e5\" fill-opacity=\"0.054902\" stroke=\"#000000\" points=\"256,-425 115,-425 115,-342 256,-342 256,-425\"/>\n",
       "<text text-anchor=\"start\" x=\"123\" y=\"-409.8\" font-family=\"Times,serif\" font-size=\"14.00\" fill=\"#000000\">petal width (cm) ≤ 0.8</text>\n",
       "<text text-anchor=\"start\" x=\"140.5\" y=\"-394.8\" font-family=\"Times,serif\" font-size=\"14.00\" fill=\"#000000\">entropy = 1.581</text>\n",
       "<text text-anchor=\"start\" x=\"144.5\" y=\"-379.8\" font-family=\"Times,serif\" font-size=\"14.00\" fill=\"#000000\">samples = 112</text>\n",
       "<text text-anchor=\"start\" x=\"130\" y=\"-364.8\" font-family=\"Times,serif\" font-size=\"14.00\" fill=\"#000000\">value = [37, 34, 41]</text>\n",
       "<text text-anchor=\"start\" x=\"139.5\" y=\"-349.8\" font-family=\"Times,serif\" font-size=\"14.00\" fill=\"#000000\">class = virginica</text>\n",
       "</g>\n",
       "<!-- 1 -->\n",
       "<g id=\"node2\" class=\"node\">\n",
       "<title>1</title>\n",
       "<polygon fill=\"#e58139\" stroke=\"#000000\" points=\"167,-298.5 54,-298.5 54,-230.5 167,-230.5 167,-298.5\"/>\n",
       "<text text-anchor=\"start\" x=\"72.5\" y=\"-283.3\" font-family=\"Times,serif\" font-size=\"14.00\" fill=\"#000000\">entropy = 0.0</text>\n",
       "<text text-anchor=\"start\" x=\"73\" y=\"-268.3\" font-family=\"Times,serif\" font-size=\"14.00\" fill=\"#000000\">samples = 37</text>\n",
       "<text text-anchor=\"start\" x=\"62\" y=\"-253.3\" font-family=\"Times,serif\" font-size=\"14.00\" fill=\"#000000\">value = [37, 0, 0]</text>\n",
       "<text text-anchor=\"start\" x=\"72\" y=\"-238.3\" font-family=\"Times,serif\" font-size=\"14.00\" fill=\"#000000\">class = setosa</text>\n",
       "</g>\n",
       "<!-- 0&#45;&gt;1 -->\n",
       "<g id=\"edge1\" class=\"edge\">\n",
       "<title>0&#45;&gt;1</title>\n",
       "<path fill=\"none\" stroke=\"#000000\" d=\"M159.2686,-341.8796C152.269,-330.7735 144.692,-318.7513 137.6444,-307.5691\"/>\n",
       "<polygon fill=\"#000000\" stroke=\"#000000\" points=\"140.42,-305.4087 132.1271,-298.8149 134.498,-309.1411 140.42,-305.4087\"/>\n",
       "<text text-anchor=\"middle\" x=\"126.5974\" y=\"-319.4957\" font-family=\"Times,serif\" font-size=\"14.00\" fill=\"#000000\">True</text>\n",
       "</g>\n",
       "<!-- 2 -->\n",
       "<g id=\"node3\" class=\"node\">\n",
       "<title>2</title>\n",
       "<polygon fill=\"#8139e5\" fill-opacity=\"0.172549\" stroke=\"#000000\" points=\"336,-306 185,-306 185,-223 336,-223 336,-306\"/>\n",
       "<text text-anchor=\"start\" x=\"193\" y=\"-290.8\" font-family=\"Times,serif\" font-size=\"14.00\" fill=\"#000000\">petal length (cm) ≤ 4.95</text>\n",
       "<text text-anchor=\"start\" x=\"215.5\" y=\"-275.8\" font-family=\"Times,serif\" font-size=\"14.00\" fill=\"#000000\">entropy = 0.994</text>\n",
       "<text text-anchor=\"start\" x=\"223\" y=\"-260.8\" font-family=\"Times,serif\" font-size=\"14.00\" fill=\"#000000\">samples = 75</text>\n",
       "<text text-anchor=\"start\" x=\"208.5\" y=\"-245.8\" font-family=\"Times,serif\" font-size=\"14.00\" fill=\"#000000\">value = [0, 34, 41]</text>\n",
       "<text text-anchor=\"start\" x=\"214.5\" y=\"-230.8\" font-family=\"Times,serif\" font-size=\"14.00\" fill=\"#000000\">class = virginica</text>\n",
       "</g>\n",
       "<!-- 0&#45;&gt;2 -->\n",
       "<g id=\"edge2\" class=\"edge\">\n",
       "<title>0&#45;&gt;2</title>\n",
       "<path fill=\"none\" stroke=\"#000000\" d=\"M211.7314,-341.8796C217.2373,-333.1434 223.1006,-323.8404 228.7824,-314.8253\"/>\n",
       "<polygon fill=\"#000000\" stroke=\"#000000\" points=\"231.7857,-316.6242 234.1567,-306.2981 225.8637,-312.8919 231.7857,-316.6242\"/>\n",
       "<text text-anchor=\"middle\" x=\"239.6863\" y=\"-326.9789\" font-family=\"Times,serif\" font-size=\"14.00\" fill=\"#000000\">False</text>\n",
       "</g>\n",
       "<!-- 3 -->\n",
       "<g id=\"node4\" class=\"node\">\n",
       "<title>3</title>\n",
       "<polygon fill=\"#39e581\" fill-opacity=\"0.909804\" stroke=\"#000000\" points=\"251.5,-187 103.5,-187 103.5,-104 251.5,-104 251.5,-187\"/>\n",
       "<text text-anchor=\"start\" x=\"111.5\" y=\"-171.8\" font-family=\"Times,serif\" font-size=\"14.00\" fill=\"#000000\">petal width (cm) ≤ 1.65</text>\n",
       "<text text-anchor=\"start\" x=\"132.5\" y=\"-156.8\" font-family=\"Times,serif\" font-size=\"14.00\" fill=\"#000000\">entropy = 0.414</text>\n",
       "<text text-anchor=\"start\" x=\"140\" y=\"-141.8\" font-family=\"Times,serif\" font-size=\"14.00\" fill=\"#000000\">samples = 36</text>\n",
       "<text text-anchor=\"start\" x=\"129\" y=\"-126.8\" font-family=\"Times,serif\" font-size=\"14.00\" fill=\"#000000\">value = [0, 33, 3]</text>\n",
       "<text text-anchor=\"start\" x=\"128\" y=\"-111.8\" font-family=\"Times,serif\" font-size=\"14.00\" fill=\"#000000\">class = versicolor</text>\n",
       "</g>\n",
       "<!-- 2&#45;&gt;3 -->\n",
       "<g id=\"edge3\" class=\"edge\">\n",
       "<title>2&#45;&gt;3</title>\n",
       "<path fill=\"none\" stroke=\"#000000\" d=\"M231.4706,-222.8796C225.3145,-214.0534 218.7549,-204.6485 212.4064,-195.5466\"/>\n",
       "<polygon fill=\"#000000\" stroke=\"#000000\" points=\"215.2448,-193.4978 206.6533,-187.2981 209.5033,-197.5024 215.2448,-193.4978\"/>\n",
       "</g>\n",
       "<!-- 6 -->\n",
       "<g id=\"node7\" class=\"node\">\n",
       "<title>6</title>\n",
       "<polygon fill=\"#8139e5\" fill-opacity=\"0.972549\" stroke=\"#000000\" points=\"417.5,-187 269.5,-187 269.5,-104 417.5,-104 417.5,-187\"/>\n",
       "<text text-anchor=\"start\" x=\"277.5\" y=\"-171.8\" font-family=\"Times,serif\" font-size=\"14.00\" fill=\"#000000\">petal width (cm) ≤ 1.75</text>\n",
       "<text text-anchor=\"start\" x=\"298.5\" y=\"-156.8\" font-family=\"Times,serif\" font-size=\"14.00\" fill=\"#000000\">entropy = 0.172</text>\n",
       "<text text-anchor=\"start\" x=\"306\" y=\"-141.8\" font-family=\"Times,serif\" font-size=\"14.00\" fill=\"#000000\">samples = 39</text>\n",
       "<text text-anchor=\"start\" x=\"295\" y=\"-126.8\" font-family=\"Times,serif\" font-size=\"14.00\" fill=\"#000000\">value = [0, 1, 38]</text>\n",
       "<text text-anchor=\"start\" x=\"297.5\" y=\"-111.8\" font-family=\"Times,serif\" font-size=\"14.00\" fill=\"#000000\">class = virginica</text>\n",
       "</g>\n",
       "<!-- 2&#45;&gt;6 -->\n",
       "<g id=\"edge6\" class=\"edge\">\n",
       "<title>2&#45;&gt;6</title>\n",
       "<path fill=\"none\" stroke=\"#000000\" d=\"M289.5294,-222.8796C295.6855,-214.0534 302.2451,-204.6485 308.5936,-195.5466\"/>\n",
       "<polygon fill=\"#000000\" stroke=\"#000000\" points=\"311.4967,-197.5024 314.3467,-187.2981 305.7552,-193.4978 311.4967,-197.5024\"/>\n",
       "</g>\n",
       "<!-- 4 -->\n",
       "<g id=\"node5\" class=\"node\">\n",
       "<title>4</title>\n",
       "<polygon fill=\"#39e581\" stroke=\"#000000\" points=\"115,-68 0,-68 0,0 115,0 115,-68\"/>\n",
       "<text text-anchor=\"start\" x=\"19.5\" y=\"-52.8\" font-family=\"Times,serif\" font-size=\"14.00\" fill=\"#000000\">entropy = 0.0</text>\n",
       "<text text-anchor=\"start\" x=\"20\" y=\"-37.8\" font-family=\"Times,serif\" font-size=\"14.00\" fill=\"#000000\">samples = 32</text>\n",
       "<text text-anchor=\"start\" x=\"9\" y=\"-22.8\" font-family=\"Times,serif\" font-size=\"14.00\" fill=\"#000000\">value = [0, 32, 0]</text>\n",
       "<text text-anchor=\"start\" x=\"8\" y=\"-7.8\" font-family=\"Times,serif\" font-size=\"14.00\" fill=\"#000000\">class = versicolor</text>\n",
       "</g>\n",
       "<!-- 3&#45;&gt;4 -->\n",
       "<g id=\"edge4\" class=\"edge\">\n",
       "<title>3&#45;&gt;4</title>\n",
       "<path fill=\"none\" stroke=\"#000000\" d=\"M132.8164,-103.9815C122.7273,-94.607 112.019,-84.6572 101.9399,-75.2921\"/>\n",
       "<polygon fill=\"#000000\" stroke=\"#000000\" points=\"104.0839,-72.5065 94.3757,-68.2637 99.3191,-77.6346 104.0839,-72.5065\"/>\n",
       "</g>\n",
       "<!-- 5 -->\n",
       "<g id=\"node6\" class=\"node\">\n",
       "<title>5</title>\n",
       "<polygon fill=\"#8139e5\" fill-opacity=\"0.666667\" stroke=\"#000000\" points=\"241.5,-68 133.5,-68 133.5,0 241.5,0 241.5,-68\"/>\n",
       "<text text-anchor=\"start\" x=\"142.5\" y=\"-52.8\" font-family=\"Times,serif\" font-size=\"14.00\" fill=\"#000000\">entropy = 0.811</text>\n",
       "<text text-anchor=\"start\" x=\"153.5\" y=\"-37.8\" font-family=\"Times,serif\" font-size=\"14.00\" fill=\"#000000\">samples = 4</text>\n",
       "<text text-anchor=\"start\" x=\"142.5\" y=\"-22.8\" font-family=\"Times,serif\" font-size=\"14.00\" fill=\"#000000\">value = [0, 1, 3]</text>\n",
       "<text text-anchor=\"start\" x=\"141.5\" y=\"-7.8\" font-family=\"Times,serif\" font-size=\"14.00\" fill=\"#000000\">class = virginica</text>\n",
       "</g>\n",
       "<!-- 3&#45;&gt;5 -->\n",
       "<g id=\"edge5\" class=\"edge\">\n",
       "<title>3&#45;&gt;5</title>\n",
       "<path fill=\"none\" stroke=\"#000000\" d=\"M181.2236,-103.9815C181.9737,-95.618 182.7649,-86.7965 183.5232,-78.3409\"/>\n",
       "<polygon fill=\"#000000\" stroke=\"#000000\" points=\"187.0197,-78.5364 184.427,-68.2637 180.0477,-77.911 187.0197,-78.5364\"/>\n",
       "</g>\n",
       "<!-- 7 -->\n",
       "<g id=\"node8\" class=\"node\">\n",
       "<title>7</title>\n",
       "<polygon fill=\"#8139e5\" fill-opacity=\"0.666667\" stroke=\"#000000\" points=\"387.5,-68 279.5,-68 279.5,0 387.5,0 387.5,-68\"/>\n",
       "<text text-anchor=\"start\" x=\"288.5\" y=\"-52.8\" font-family=\"Times,serif\" font-size=\"14.00\" fill=\"#000000\">entropy = 0.811</text>\n",
       "<text text-anchor=\"start\" x=\"299.5\" y=\"-37.8\" font-family=\"Times,serif\" font-size=\"14.00\" fill=\"#000000\">samples = 4</text>\n",
       "<text text-anchor=\"start\" x=\"288.5\" y=\"-22.8\" font-family=\"Times,serif\" font-size=\"14.00\" fill=\"#000000\">value = [0, 1, 3]</text>\n",
       "<text text-anchor=\"start\" x=\"287.5\" y=\"-7.8\" font-family=\"Times,serif\" font-size=\"14.00\" fill=\"#000000\">class = virginica</text>\n",
       "</g>\n",
       "<!-- 6&#45;&gt;7 -->\n",
       "<g id=\"edge7\" class=\"edge\">\n",
       "<title>6&#45;&gt;7</title>\n",
       "<path fill=\"none\" stroke=\"#000000\" d=\"M339.7764,-103.9815C339.0263,-95.618 338.2351,-86.7965 337.4768,-78.3409\"/>\n",
       "<polygon fill=\"#000000\" stroke=\"#000000\" points=\"340.9523,-77.911 336.573,-68.2637 333.9803,-78.5364 340.9523,-77.911\"/>\n",
       "</g>\n",
       "<!-- 8 -->\n",
       "<g id=\"node9\" class=\"node\">\n",
       "<title>8</title>\n",
       "<polygon fill=\"#8139e5\" stroke=\"#000000\" points=\"519,-68 406,-68 406,0 519,0 519,-68\"/>\n",
       "<text text-anchor=\"start\" x=\"424.5\" y=\"-52.8\" font-family=\"Times,serif\" font-size=\"14.00\" fill=\"#000000\">entropy = 0.0</text>\n",
       "<text text-anchor=\"start\" x=\"425\" y=\"-37.8\" font-family=\"Times,serif\" font-size=\"14.00\" fill=\"#000000\">samples = 35</text>\n",
       "<text text-anchor=\"start\" x=\"414\" y=\"-22.8\" font-family=\"Times,serif\" font-size=\"14.00\" fill=\"#000000\">value = [0, 0, 35]</text>\n",
       "<text text-anchor=\"start\" x=\"416.5\" y=\"-7.8\" font-family=\"Times,serif\" font-size=\"14.00\" fill=\"#000000\">class = virginica</text>\n",
       "</g>\n",
       "<!-- 6&#45;&gt;8 -->\n",
       "<g id=\"edge8\" class=\"edge\">\n",
       "<title>6&#45;&gt;8</title>\n",
       "<path fill=\"none\" stroke=\"#000000\" d=\"M387.8112,-103.9815C397.8163,-94.607 408.4354,-84.6572 418.4304,-75.2921\"/>\n",
       "<polygon fill=\"#000000\" stroke=\"#000000\" points=\"421.0274,-77.6551 425.9316,-68.2637 416.2412,-72.547 421.0274,-77.6551\"/>\n",
       "</g>\n",
       "</g>\n",
       "</svg>\n"
      ],
      "text/plain": [
       "<graphviz.files.Source at 0x1a15274a20>"
      ]
     },
     "execution_count": 2,
     "metadata": {},
     "output_type": "execute_result"
    }
   ],
   "source": [
    "\n",
    "dot_data = tree.export_graphviz(estimator, out_file=None) \n",
    "dot_data = tree.export_graphviz(estimator, out_file=None, \n",
    "                                feature_names=iris.feature_names,  \n",
    "                                class_names=iris.target_names,  \n",
    "                                filled=True,  \n",
    "                                special_characters=True\n",
    "                               )  \n",
    "graph = graphviz.Source(dot_data) \n",
    "#graph.render(\"iris\")            #for making a pdf output\n",
    "graph                           "
   ]
  },
  {
   "cell_type": "markdown",
   "metadata": {},
   "source": [
    "## Describe the resulting Tree\n",
    "This part describes the Tree structure obtained, for a better understanding\n",
    "\n",
    "https://scikit-learn.org/stable/auto_examples/tree/plot_unveil_tree_structure.html"
   ]
  },
  {
   "cell_type": "code",
   "execution_count": 4,
   "metadata": {},
   "outputs": [
    {
     "name": "stdout",
     "output_type": "stream",
     "text": [
      "The binary tree structure has 9 nodes and has the following tree structure:\n",
      "node=0 test node: go to node 1 if X[:, 2] <= 2.350000023841858 else to node 2.\n",
      "\tnode=1 leaf node.\n",
      "\tnode=2 test node: go to node 3 if X[:, 2] <= 4.950000047683716 else to node 6.\n",
      "\t\tnode=3 test node: go to node 4 if X[:, 3] <= 1.6500000357627869 else to node 5.\n",
      "\t\t\tnode=4 leaf node.\n",
      "\t\t\tnode=5 leaf node.\n",
      "\t\tnode=6 test node: go to node 7 if X[:, 2] <= 5.049999952316284 else to node 8.\n",
      "\t\t\tnode=7 leaf node.\n",
      "\t\t\tnode=8 leaf node.\n",
      "\n",
      "Rules used to predict sample 0: \n",
      "decision id node 0 : (X_test[0, 2] (= 5.1) > 2.350000023841858)\n",
      "decision id node 2 : (X_test[0, 2] (= 5.1) > 4.950000047683716)\n",
      "decision id node 6 : (X_test[0, 2] (= 5.1) > 5.049999952316284)\n"
     ]
    }
   ],
   "source": [
    "# The decision estimator has an attribute called tree_  which stores the entire\n",
    "# tree structure and allows access to low level attributes. The binary tree\n",
    "# tree_ is represented as a number of parallel arrays. The i-th element of each\n",
    "# array holds information about the node `i`. Node 0 is the tree's root. NOTE:\n",
    "# Some of the arrays only apply to either leaves or split nodes, resp. In this\n",
    "# case the values of nodes of the other type are arbitrary!\n",
    "#\n",
    "# Among those arrays, we have:\n",
    "#   - left_child, id of the left child of the node\n",
    "#   - right_child, id of the right child of the node\n",
    "#   - feature, feature used for splitting the node\n",
    "#   - threshold, threshold value at the node\n",
    "#\n",
    "\n",
    "# Using those arrays, we can parse the tree structure:\n",
    "\n",
    "n_nodes = estimator.tree_.node_count\n",
    "children_left = estimator.tree_.children_left\n",
    "children_right = estimator.tree_.children_right\n",
    "feature = estimator.tree_.feature\n",
    "threshold = estimator.tree_.threshold\n",
    "\n",
    "\n",
    "# The tree structure can be traversed to compute various properties such\n",
    "# as the depth of each node and whether or not it is a leaf.\n",
    "node_depth = np.zeros(shape=n_nodes, dtype=np.int64)\n",
    "is_leaves = np.zeros(shape=n_nodes, dtype=bool)\n",
    "stack = [(0, -1)]  # seed is the root node id and its parent depth\n",
    "while len(stack) > 0:\n",
    "    node_id, parent_depth = stack.pop()\n",
    "    node_depth[node_id] = parent_depth + 1\n",
    "\n",
    "    # If we have a test node\n",
    "    if (children_left[node_id] != children_right[node_id]):\n",
    "        stack.append((children_left[node_id], parent_depth + 1))\n",
    "        stack.append((children_right[node_id], parent_depth + 1))\n",
    "    else:\n",
    "        is_leaves[node_id] = True\n",
    "\n",
    "print(\"The binary tree structure has %s nodes and has \"\n",
    "      \"the following tree structure:\"\n",
    "      % n_nodes)\n",
    "for i in range(n_nodes):\n",
    "    if is_leaves[i]:\n",
    "        print(\"%snode=%s leaf node.\" % (node_depth[i] * \"\\t\", i))\n",
    "    else:\n",
    "        print(\"%snode=%s test node: go to node %s if X[:, %s] <= %s else to \"\n",
    "              \"node %s.\"\n",
    "              % (node_depth[i] * \"\\t\",\n",
    "                 i,\n",
    "                 children_left[i],\n",
    "                 feature[i],\n",
    "                 threshold[i],\n",
    "                 children_right[i],\n",
    "                 ))\n",
    "print()\n",
    "\n",
    "# First let's retrieve the decision path of each sample. The decision_path\n",
    "# method allows to retrieve the node indicator functions. A non zero element of\n",
    "# indicator matrix at the position (i, j) indicates that the sample i goes\n",
    "# through the node j.\n",
    "\n",
    "node_indicator = estimator.decision_path(X_test)\n",
    "\n",
    "# Similarly, we can also have the leaves ids reached by each sample.\n",
    "\n",
    "leave_id = estimator.apply(X_test)\n",
    "\n",
    "# Now, it's possible to get the tests that were used to predict a sample or\n",
    "# a group of samples. First, let's make it for the sample.\n",
    "\n",
    "sample_id = 0\n",
    "node_index = node_indicator.indices[node_indicator.indptr[sample_id]:\n",
    "                                    node_indicator.indptr[sample_id + 1]]\n",
    "\n",
    "print('Rules used to predict sample %s: ' % sample_id)\n",
    "for node_id in node_index:\n",
    "    if leave_id[sample_id] == node_id:\n",
    "        continue\n",
    "\n",
    "    if (X_test[sample_id, feature[node_id]] <= threshold[node_id]):\n",
    "        threshold_sign = \"<=\"\n",
    "    else:\n",
    "        threshold_sign = \">\"\n",
    "\n",
    "    print(\"decision id node %s : (X_test[%s, %s] (= %s) %s %s)\"\n",
    "          % (node_id,\n",
    "             sample_id,\n",
    "             feature[node_id],\n",
    "             X_test[sample_id, feature[node_id]],\n",
    "             threshold_sign,\n",
    "             threshold[node_id]))\n"
   ]
  },
  {
   "cell_type": "markdown",
   "metadata": {},
   "source": [
    "## Plot the result of the obtained Tree Classifier for the Training and Test sets respectively."
   ]
  },
  {
   "cell_type": "code",
   "execution_count": 5,
   "metadata": {},
   "outputs": [
    {
     "name": "stdout",
     "output_type": "stream",
     "text": [
      "y_est from  X_test data :\n",
      "[2 1 0 2 0 2 0 1 1 1 2 1 1 1 1 0 1 1 0 0 2 1 0 0 2 0 0 1 1 0 2 1 0 2 2 1 0\n",
      " 2]\n",
      "y_est from  X_train data :\n",
      "[1 1 2 0 2 0 0 1 2 2 2 2 1 2 1 1 2 2 2 2 1 2 1 0 2 1 1 1 1 2 0 0 2 1 0 0 1\n",
      " 0 2 1 0 1 2 1 0 2 2 2 2 0 0 2 2 0 2 0 2 2 0 0 2 0 0 0 1 2 2 0 0 0 1 1 0 0\n",
      " 1 0 2 1 2 1 0 2 0 2 0 0 2 0 2 1 1 1 2 2 1 2 0 1 2 2 0 1 1 2 1 0 0 0 2 1 2\n",
      " 0]\n"
     ]
    },
    {
     "data": {
      "text/plain": [
       "<matplotlib.legend.Legend at 0x1a1626c4e0>"
      ]
     },
     "execution_count": 5,
     "metadata": {},
     "output_type": "execute_result"
    },
    {
     "data": {
      "image/png": "[encoded data removed]",
      "text/plain": [
       "<Figure size 432x432 with 1 Axes>"
      ]
     },
     "metadata": {
      "needs_background": "light"
     },
     "output_type": "display_data"
    },
    {
     "data": {
      "image/png": "[encoded data removed]",
      "text/plain": [
       "<Figure size 432x432 with 1 Axes>"
      ]
     },
     "metadata": {
      "needs_background": "light"
     },
     "output_type": "display_data"
    }
   ],
   "source": [
    "#Visualising the clusters wrt axes x1, x3 on train set\n",
    "y_est=estimator.predict(X_test)\n",
    "print(\"y_est from  X_test data :\")\n",
    "print(y_est) \n",
    "x=X_test\n",
    "\n",
    "plt.figure(figsize=(6,6))\n",
    "plt.scatter(x[y_est == 0, 0], x[y_est == 0, 2], s = 25, c = 'orange',label = 'Iris-setosa')\n",
    "plt.scatter(x[y_est == 1, 0], x[y_est == 1, 2], s = 25, c = 'green', label = 'Iris-versicolour')\n",
    "plt.scatter(x[y_est == 2, 0], x[y_est == 2, 2], s = 25, c = 'blue', label = 'Iris-virginica')\n",
    "plt.scatter(x[y_test == 0, 0], x[y_test == 0, 2], marker='+', s = 155, c = 'orange',label = 'Iris-setosa')\n",
    "plt.scatter(x[y_test == 1, 0], x[y_test == 1, 2], marker='+', s = 155, c = 'green', label = 'Iris-versicolour')\n",
    "plt.scatter(x[y_test == 2, 0], x[y_test == 2, 2], marker='+', s = 155, c = 'blue', label = 'Iris-virginica')\n",
    "plt.legend()\n",
    "\n",
    "#Visualising the clusters wrt axes x1, x3 on test set\n",
    "y_est=estimator.predict(X_train)\n",
    "print(\"y_est from  X_train data :\")\n",
    "print(y_est)\n",
    "x=X_train\n",
    "plt.figure(figsize=(6,6))\n",
    "plt.scatter(x[y_est == 0, 0], x[y_est == 0, 2], s = 25, c = 'orange',label = 'Iris-setosa')\n",
    "plt.scatter(x[y_est == 1, 0], x[y_est == 1, 2], s = 25, c = 'green', label = 'Iris-versicolour')\n",
    "plt.scatter(x[y_est == 2, 0], x[y_est == 2, 2], s = 25, c = 'blue', label = 'Iris-virginica')\n",
    "plt.scatter(x[y_train == 0, 0], x[y_train == 0, 2], marker='+', s = 155, c = 'orange',label = 'Iris-setosa')\n",
    "plt.scatter(x[y_train == 1, 0], x[y_train == 1, 2], marker='+', s = 155, c = 'green', label = 'Iris-versicolour')\n",
    "plt.scatter(x[y_train == 2, 0], x[y_train == 2, 2], marker='+', s = 155, c = 'blue', label = 'Iris-virginica')\n",
    "#Plotting the centroids of the clusters\n",
    "plt.legend()"
   ]
  },
  {
   "cell_type": "markdown",
   "metadata": {},
   "source": [
    "## Compute the corresponding Confusion matrices"
   ]
  },
  {
   "cell_type": "code",
   "execution_count": 6,
   "metadata": {},
   "outputs": [
    {
     "name": "stdout",
     "output_type": "stream",
     "text": [
      "Confusion matrix from training set :\n",
      "[[37  0  0]\n",
      " [ 0 32  0]\n",
      " [ 0  2 41]]\n",
      "accuracy= 0.9821428571428571\n",
      "Confusion matrix from test set :\n",
      "[[13  0  0]\n",
      " [ 0 15  0]\n",
      " [ 0  1  9]]\n",
      "accuracy= 0.9736842105263158\n"
     ]
    }
   ],
   "source": [
    "from sklearn import metrics\n",
    "\n",
    "y_est=estimator.predict(X_train)\n",
    "print(\"Confusion matrix from training set :\")\n",
    "print(\"{}\".format(metrics.confusion_matrix(y_est,y_train)))\n",
    "print(\"accuracy= {}\".format(metrics.accuracy_score(y_est,y_train)))\n",
    "\n",
    "y_est=estimator.predict(X_test)\n",
    "print(\"Confusion matrix from test set :\")\n",
    "print(\"{}\".format(metrics.confusion_matrix(y_est,y_test)))\n",
    "print(\"accuracy= {}\".format(metrics.accuracy_score(y_est,y_test)))"
   ]
  },
  {
   "cell_type": "markdown",
   "metadata": {},
   "source": [
    "## Evaluate the score of the Classification Tree approach, using cross validation"
   ]
  },
  {
   "cell_type": "code",
   "execution_count": 7,
   "metadata": {},
   "outputs": [
    {
     "name": "stdout",
     "output_type": "stream",
     "text": [
      "Mean Accuracy and 95 percent confidence interval : 0.96 (+/- 0.07)\n"
     ]
    }
   ],
   "source": [
    "from sklearn.model_selection import cross_val_score\n",
    "from sklearn.model_selection import ShuffleSplit\n",
    "cv = ShuffleSplit(n_splits=10, test_size=0.2, random_state=0)\n",
    "scores = cross_val_score(estimator, iris.data, iris.target, cv=cv)\n",
    "print(\"Mean Accuracy and 95 percent confidence interval : %0.2f (+/- %0.2f)\" % (scores.mean(), scores.std() *2))\n"
   ]
  },
  {
   "cell_type": "markdown",
   "metadata": {},
   "source": [
    "# RANDOM FOREST\n",
    "**\"Random forest\"** is an **ensemble** methods. Its goal is to **combine** the predictions of several base estimators built with a given learning algorithm (Tree classifier in our example) **in order to improve generalizability / robustness** over a single estimator.\n",
    "\n",
    "Two families of ensemble methods are usually distinguished:\n",
    "The **driving principle** is to build several estimators **independently** and then to average (for regression) or to combine (majority vote for classification) their predictions. The combined estimator is expected to be usually better than any of the single base estimator because its **variance is reduced**.\n",
    "\n",
    "Among the most popular examples, one finds Bagging methods, Forests of randomized trees, …\n",
    "\n",
    "Another class of methods, refered to as boosting methods, builts base estimators sequentially and while trying to reduce the bias of the combined estimator. The motivation is to combine several weak models to produce a powerful ensemble (Examples: AdaBoost, Gradient Tree Boosting, …).\n",
    "\n",
    "More details and references here: https://scikit-learn.org/stable/modules/ensemble.html#forest"
   ]
  },
  {
   "cell_type": "markdown",
   "metadata": {},
   "source": [
    "#### RandomForestClassifier or RandomForestRegressor : \n",
    "a. Each tree in the ensemble is built from a sample drawn with replacement (i.e., a bootstrap sample) from the training set. \n",
    "\n",
    "b. When splitting a node during the construction of the tree, the split that is chosen is **no longer the best split among all features but the best split among a random subset of the features**. As a result of this randomness, the **bias** of the forest usually **slightly increases** but, due to averaging, its **variance also decreases**, hence yielding an overall better model.\n",
    "\n",
    "Notice : In contrast to the original publication [B2001], the scikit-learn implementation combines classifiers by averaging their probabilistic prediction, instead of letting each classifier vote for a single class.\n",
    "\n",
    "##### Randomized Trees\n",
    "ExtraTreesClassifier and ExtraTreesRegressor :  randomness goes one step further in the way splits are computed. As in random forests, a random subset of candidate features is used, but instead of looking for the most discriminative thresholds, thresholds are drawn at random for each candidate feature and the best of these randomly-generated thresholds is picked as the splitting rule. This usually allows to reduce the variance of the model a bit more, at the expense of a slightly greater increase in bias"
   ]
  },
  {
   "cell_type": "code",
   "execution_count": 8,
   "metadata": {},
   "outputs": [
    {
     "name": "stdout",
     "output_type": "stream",
     "text": [
      "Mean Accuracy and 95 percent confidence interval RandomForest: 0.97 (+/- 0.07)\n",
      "Mean Accuracy and 95 percent confidence interval ExtraTrees: 0.96 (+/- 0.09)\n"
     ]
    }
   ],
   "source": [
    "from sklearn.ensemble import RandomForestClassifier\n",
    "from sklearn.ensemble import ExtraTreesClassifier\n",
    "import matplotlib.pyplot as plt\n",
    "\n",
    "clf = RandomForestClassifier(n_estimators=100, max_depth=None, random_state=0, criterion='entropy')\n",
    "scores = cross_val_score(clf, iris.data, iris.target, cv=10)\n",
    "print(\"Mean Accuracy and 95 percent confidence interval RandomForest: %0.2f (+/- %0.2f)\" % (scores.mean(), scores.std() *2)) \n",
    "\n",
    "clf = ExtraTreesClassifier(n_estimators=100, max_depth=None, random_state=0, criterion='entropy')\n",
    "scores = cross_val_score(clf, iris.data, iris.target, cv=10)\n",
    "print(\"Mean Accuracy and 95 percent confidence interval ExtraTrees: %0.2f (+/- %0.2f)\" % (scores.mean(), scores.std() *2))  "
   ]
  },
  {
   "cell_type": "code",
   "execution_count": 8,
   "metadata": {},
   "outputs": [
    {
     "name": "stdout",
     "output_type": "stream",
     "text": [
      "[0.09836612 0.06538735 0.24477374 0.23396088]\n",
      "Feature ranking:\n",
      "1. feature 3 (0.434966)\n",
      "2. feature 2 (0.420399)\n",
      "3. feature 0 (0.081114)\n",
      "4. feature 1 (0.063521)\n"
     ]
    },
    {
     "data": {
      "image/png": "[encoded data removed]",
      "text/plain": [
       "<Figure size 1080x432 with 1 Axes>"
      ]
     },
     "metadata": {
      "needs_background": "light"
     },
     "output_type": "display_data"
    }
   ],
   "source": [
    "clf.fit(iris.data, iris.target)\n",
    "importances = clf.feature_importances_\n",
    "std = np.std([tree.feature_importances_ for tree in clf.estimators_],\n",
    "             axis=0)\n",
    "print(std)\n",
    "indices = np.argsort(importances)[::-1]\n",
    "\n",
    "# Print the feature ranking\n",
    "print(\"Feature ranking:\")\n",
    "\n",
    "for f in range(np.asarray(iris.data).shape[1]):\n",
    "    print(\"%d. feature %d (%f)\" % (f + 1, indices[f], importances[indices[f]]))\n",
    "    # Plot the feature importances of the forest\n",
    "plt.figure(figsize=(15,6))\n",
    "plt.title(\"Feature importances\")\n",
    "plt.bar(range(np.asarray(iris.data).shape[1]), importances[indices],\n",
    "       color=\"r\", yerr=std[indices], align=\"center\")\n",
    "plt.xticks( range( np.asarray(iris.data).shape[1]) , indices)\n",
    "plt.xlim([-1, np.asarray(iris.data).shape[1]])\n",
    "\n",
    "plt.show()\n",
    "\n"
   ]
  },
  {
   "cell_type": "markdown",
   "metadata": {},
   "source": [
    "## AdaBoost classifier.\n",
    "An AdaBoost classifier is a meta-estimator that begins by fitting a classifier on the original dataset and then fits additional copies of the classifier on the same dataset but where **the weights of incorrectly classified instances** are adjusted such that subsequent classifiers focus more on difficult cases.\n",
    "Boosting bears a resemblance to Bagging (e.g. Random Forest), but is rather different, as it consists in a sequential improvement of a weak classification algorithm, applied to repeatedly modified versions of the data. It produces a a sequence of weak classifiers, ther prediction of which are then combined through a weighted majority vote. \n",
    "A sketch of the AdaBoost algo is \n",
    "\n",
    "1. initialize all sample weights $w_i=\\frac{1}{N}$, for $i=1\\ldots N$\n",
    "\n",
    "2. for $m=1$ to $M$:\n",
    "    1. Fit a classifier $G_m(X)$ to train data using $\\{w_i\\}$\n",
    "    2. Compute\n",
    "    $$ err_m = \\frac{\\sum_{i=1}^N w_i {\\cal I}(y_i\\neq G_m(X_i))}{\\sum_i w_i}$$\n",
    "    3. Compute $\\alpha_m = \\log(1/err_m -1)$\n",
    "    4. set $w_i \\leftarrow w_i\\exp{[\\alpha_m{\\cal I}(y_i\\neq G_m(X_i))]}$, $ii=1\\ldots N$\n",
    "3. Output $$G(X) = {\\rm sign} \\left[ \\sum_{m=1}^M \\alpha_m G_m(X) \\right]$$\n",
    "    \n",
    "The algorithm above is known as AdaBoost.M1 or \"Discrete AdaBoost\", because $G_m(X)$ returns discrete class labels. If $G_m(X)$ returns real valued labels (e.g. probability), AdaBosst can be modified appropriatly, to become \"Real AdaBoost\". \n",
    "\n",
    "Details in:\n",
    "\n",
    "Friedman et al, 2000 : *Annals of Statistics*, **28**:307-337."
   ]
  },
  {
   "cell_type": "code",
   "execution_count": 9,
   "metadata": {},
   "outputs": [
    {
     "data": {
      "image/png": "[encoded data removed]",
      "text/plain": [
       "<Figure size 576x288 with 1 Axes>"
      ]
     },
     "metadata": {
      "needs_background": "light"
     },
     "output_type": "display_data"
    },
    {
     "name": "stdout",
     "output_type": "stream",
     "text": [
      "Mean Accuracy and 95 percent confidence interval AdaBoost: 0.95 (+/- 0.13)\n"
     ]
    }
   ],
   "source": [
    "from sklearn.ensemble import AdaBoostClassifier\n",
    "from sklearn.metrics import zero_one_loss\n",
    "\n",
    "n_estimators = 50\n",
    "# A learning rate of 1. may not be optimal for both SAMME and SAMME.R\n",
    "learning_rate = 1.\n",
    "\n",
    "dt_stump = tree.DecisionTreeClassifier(max_depth=1, min_samples_leaf=1)  # comment this tree!\n",
    "dt_stump.fit(X_train, y_train)\n",
    "dt_stump_err = 1.0 - dt_stump.score(X_test, y_test)\n",
    "\n",
    "ada_discrete = AdaBoostClassifier(\n",
    "    base_estimator=dt_stump,\n",
    "    learning_rate=learning_rate,\n",
    "    n_estimators=n_estimators,\n",
    "    algorithm=\"SAMME\")\n",
    "ada_discrete.fit(X_train, y_train)\n",
    "\n",
    "\n",
    "fig = plt.figure(figsize=(8,4))\n",
    "ax = fig.add_subplot(111)\n",
    "\n",
    "ax.plot([1, n_estimators], [dt_stump_err] * 2, 'k-',\n",
    "        label='Decision Stump Error')\n",
    "\n",
    "ada_discrete_err = np.zeros((n_estimators,))\n",
    "for i, y_pred in enumerate(ada_discrete.staged_predict(X_test)):\n",
    "    ada_discrete_err[i] = zero_one_loss(y_pred, y_test)\n",
    "    \n",
    "ada_discrete_err_train = np.zeros((n_estimators,))\n",
    "for i, y_pred in enumerate(ada_discrete.staged_predict(X_train)):\n",
    "    ada_discrete_err_train[i] = zero_one_loss(y_pred, y_train)\n",
    "\n",
    "\n",
    "ax.plot(np.arange(n_estimators) + 1, ada_discrete_err,\n",
    "        label='Discrete AdaBoost Test Error',\n",
    "        color='red')\n",
    "ax.plot(np.arange(n_estimators) + 1, ada_discrete_err_train,\n",
    "        label='Discrete AdaBoost Train Error',\n",
    "        color='blue')\n",
    "\n",
    "ax.set_ylim((0.0, 0.5))\n",
    "ax.set_xlabel('n_estimators')\n",
    "ax.set_ylabel('error rate')\n",
    "\n",
    "leg = ax.legend(loc='upper right', fancybox=True)\n",
    "leg.get_frame().set_alpha(0.7)\n",
    "\n",
    "plt.show()\n",
    "\n",
    "scores = cross_val_score(ada_discrete, iris.data, iris.target, cv=10)\n",
    "print(\"Mean Accuracy and 95 percent confidence interval AdaBoost: %0.2f (+/- %0.2f)\" % (scores.mean(), scores.std() *2)) \n",
    "\n"
   ]
  },
  {
   "cell_type": "code",
   "execution_count": null,
   "metadata": {},
   "outputs": [],
   "source": []
  }
 ],
 "metadata": {
  "kernelspec": {
   "display_name": "Python 3",
   "language": "python",
   "name": "python3"
  },
  "language_info": {
   "codemirror_mode": {
    "name": "ipython",
    "version": 3
   },
   "file_extension": ".py",
   "mimetype": "text/x-python",
   "name": "python",
   "nbconvert_exporter": "python",
   "pygments_lexer": "ipython3",
   "version": "3.7.1"
  }
 },
 "nbformat": 4,
 "nbformat_minor": 2
}
