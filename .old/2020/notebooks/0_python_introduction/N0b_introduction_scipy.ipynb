{
 "cells": [
  {
   "cell_type": "markdown",
   "metadata": {},
   "source": [
    "This notebook can be run on mybinder: [![Binder](https://mybinder.org/badge_logo.svg)](https://mybinder.org/v2/git/https%3A%2F%2Fgricad-gitlab.univ-grenoble-alpes.fr%2Fai-courses%2Fautonomous_systems_ml/HEAD?filepath=notebooks%2F2_knn/N0b_introduction_scipy.ipynb)"
   ]
  },
  {
   "cell_type": "markdown",
   "metadata": {},
   "source": [
    "# Introduction to Numpy and Scipy\n",
    "\n",
    "Data analysis needs effective computational ressources to read/write and process data. Usually, the data set to be processed is a set of arrays. \n",
    "\n",
    "The main structure provided by [Numpy](https://numpy.org/) is the *Fixed-Type Arrays*: **ndarray**. It is an efficient way of storing data and processing them.\n",
    "\n",
    "\n",
    "[Scipy](https://www.scipy.org/) (*Scientific Python*) package is a dedicated tool that elaborates on Numpy to operate on *ndarray* efficiently. Quoting the *FAQ*, Scipy is \"*set of open source (BSD licensed) scientific and numerical tools for Python. It currently supports special functions, integration, ordinary differential equation (ODE) solvers, gradient optimization, parallel programming tools, an expression-to-C++ compiler for fast execution, and others. A good rule of thumb is that if it’s covered in a general textbook on numerical computing (for example, the well-known Numerical Recipes series), it’s probably implemented in scipy*\". This is the core of any data analysis package in Python."
   ]
  },
  {
   "cell_type": "code",
   "execution_count": 1,
   "metadata": {},
   "outputs": [],
   "source": [
    "# Find the scipy and numpy module and define an alias in the local namespace\n",
    "import scipy as sp\n",
    "import numpy as np"
   ]
  },
  {
   "cell_type": "code",
   "execution_count": 2,
   "metadata": {},
   "outputs": [
    {
     "name": "stdout",
     "output_type": "stream",
     "text": [
      "A = [0 1 2 3 4 5 6 7 8 9]\n",
      "B = [0 1 2 3 4 5 6 7 8 9]\n"
     ]
    },
    {
     "data": {
      "text/plain": [
       "\u001b[0;31mDocstring:\u001b[0m\n",
       "array(object, dtype=None, *, copy=True, order='K', subok=False, ndmin=0)\n",
       "\n",
       "Create an array.\n",
       "\n",
       "Parameters\n",
       "----------\n",
       "object : array_like\n",
       "    An array, any object exposing the array interface, an object whose\n",
       "    __array__ method returns an array, or any (nested) sequence.\n",
       "dtype : data-type, optional\n",
       "    The desired data-type for the array.  If not given, then the type will\n",
       "    be determined as the minimum type required to hold the objects in the\n",
       "    sequence.\n",
       "copy : bool, optional\n",
       "    If true (default), then the object is copied.  Otherwise, a copy will\n",
       "    only be made if __array__ returns a copy, if obj is a nested sequence,\n",
       "    or if a copy is needed to satisfy any of the other requirements\n",
       "    (`dtype`, `order`, etc.).\n",
       "order : {'K', 'A', 'C', 'F'}, optional\n",
       "    Specify the memory layout of the array. If object is not an array, the\n",
       "    newly created array will be in C order (row major) unless 'F' is\n",
       "    specified, in which case it will be in Fortran order (column major).\n",
       "    If object is an array the following holds.\n",
       "\n",
       "    ===== ========= ===================================================\n",
       "    order  no copy                     copy=True\n",
       "    ===== ========= ===================================================\n",
       "    'K'   unchanged F & C order preserved, otherwise most similar order\n",
       "    'A'   unchanged F order if input is F and not C, otherwise C order\n",
       "    'C'   C order   C order\n",
       "    'F'   F order   F order\n",
       "    ===== ========= ===================================================\n",
       "\n",
       "    When ``copy=False`` and a copy is made for other reasons, the result is\n",
       "    the same as if ``copy=True``, with some exceptions for `A`, see the\n",
       "    Notes section. The default order is 'K'.\n",
       "subok : bool, optional\n",
       "    If True, then sub-classes will be passed-through, otherwise\n",
       "    the returned array will be forced to be a base-class array (default).\n",
       "ndmin : int, optional\n",
       "    Specifies the minimum number of dimensions that the resulting\n",
       "    array should have.  Ones will be pre-pended to the shape as\n",
       "    needed to meet this requirement.\n",
       "\n",
       "Returns\n",
       "-------\n",
       "out : ndarray\n",
       "    An array object satisfying the specified requirements.\n",
       "\n",
       "See Also\n",
       "--------\n",
       "empty_like : Return an empty array with shape and type of input.\n",
       "ones_like : Return an array of ones with shape and type of input.\n",
       "zeros_like : Return an array of zeros with shape and type of input.\n",
       "full_like : Return a new array with shape of input filled with value.\n",
       "empty : Return a new uninitialized array.\n",
       "ones : Return a new array setting values to one.\n",
       "zeros : Return a new array setting values to zero.\n",
       "full : Return a new array of given shape filled with value.\n",
       "\n",
       "\n",
       "Notes\n",
       "-----\n",
       "When order is 'A' and `object` is an array in neither 'C' nor 'F' order,\n",
       "and a copy is forced by a change in dtype, then the order of the result is\n",
       "not necessarily 'C' as expected. This is likely a bug.\n",
       "\n",
       "Examples\n",
       "--------\n",
       ">>> np.array([1, 2, 3])\n",
       "array([1, 2, 3])\n",
       "\n",
       "Upcasting:\n",
       "\n",
       ">>> np.array([1, 2, 3.0])\n",
       "array([ 1.,  2.,  3.])\n",
       "\n",
       "More than one dimension:\n",
       "\n",
       ">>> np.array([[1, 2], [3, 4]])\n",
       "array([[1, 2],\n",
       "       [3, 4]])\n",
       "\n",
       "Minimum dimensions 2:\n",
       "\n",
       ">>> np.array([1, 2, 3], ndmin=2)\n",
       "array([[1, 2, 3]])\n",
       "\n",
       "Type provided:\n",
       "\n",
       ">>> np.array([1, 2, 3], dtype=complex)\n",
       "array([ 1.+0.j,  2.+0.j,  3.+0.j])\n",
       "\n",
       "Data-type consisting of more than one element:\n",
       "\n",
       ">>> x = np.array([(1,2),(3,4)],dtype=[('a','<i4'),('b','<i4')])\n",
       ">>> x['a']\n",
       "array([1, 3])\n",
       "\n",
       "Creating an array from sub-classes:\n",
       "\n",
       ">>> np.array(np.mat('1 2; 3 4'))\n",
       "array([[1, 2],\n",
       "       [3, 4]])\n",
       "\n",
       ">>> np.array(np.mat('1 2; 3 4'), subok=True)\n",
       "matrix([[1, 2],\n",
       "        [3, 4]])\n",
       "\u001b[0;31mType:\u001b[0m      builtin_function_or_method\n"
      ]
     },
     "metadata": {},
     "output_type": "display_data"
    }
   ],
   "source": [
    "A = np.array(range(10)) # Create array from a list\n",
    "print(\"A = {}\".format(A)) # note that there is 10 elements: 0,1,...,9\n",
    "B = np.arange(10) # Create array from scratch\n",
    "print(\"B = {}\".format(B))\n",
    "np.array?"
   ]
  },
  {
   "cell_type": "markdown",
   "metadata": {},
   "source": [
    "## Basics of Arrays \n",
    "\n",
    "There are plenty of functions to create and to initialize specific array (np.zeros, np.ones, np.empty ...). For each case, it is possible to define the type (int8, uint8, float64 ...) by providing the corresponding parameter. More information regarding the different array types can be found here: https://numpy.org/doc/stable/user/basics.types.html and https://numpy.org/doc/stable/reference/arrays.dtypes.html.\n",
    "\n",
    "### Getting attributes\n"
   ]
  },
  {
   "cell_type": "code",
   "execution_count": 3,
   "metadata": {},
   "outputs": [
    {
     "name": "stdout",
     "output_type": "stream",
     "text": [
      "Number of elements in A: 10\n",
      "Number of dimension of A: 1\n",
      "Dimension of A: (10,)\n",
      "Type of element in A: int64\n"
     ]
    }
   ],
   "source": [
    "# Attributes\n",
    "print(\"Number of elements in A: {}\".format(A.size))\n",
    "print(\"Number of dimension of A: {}\".format(A.ndim))\n",
    "print(\"Dimension of A: {}\".format(A.shape))\n",
    "print(\"Type of element in A: {}\".format(A.dtype))"
   ]
  },
  {
   "cell_type": "markdown",
   "metadata": {},
   "source": [
    "It is possible to modify explicitely some attributes, in particlar the *shape*:"
   ]
  },
  {
   "cell_type": "code",
   "execution_count": 4,
   "metadata": {},
   "outputs": [
    {
     "name": "stdout",
     "output_type": "stream",
     "text": [
      "B = \n",
      " [[0 1 2 3 4]\n",
      " [5 6 7 8 9]]\n",
      "(2, 5)\n",
      "(10,)\n"
     ]
    }
   ],
   "source": [
    "B.shape = (2,5) # Change the shape to two lines, 5 columns -> the number of total elements should be the same\n",
    "print(\"B = \\n {}\".format(B))\n",
    "C = B.reshape(10) # The function return a new array with the corresponding shape\n",
    "print(B.shape)\n",
    "print(C.shape)"
   ]
  },
  {
   "cell_type": "markdown",
   "metadata": {},
   "source": [
    "### Accessing elements"
   ]
  },
  {
   "cell_type": "code",
   "execution_count": 5,
   "metadata": {},
   "outputs": [
    {
     "name": "stdout",
     "output_type": "stream",
     "text": [
      "A = [0 1 2 3 4 5 6 7 8 9]\n",
      "0\n",
      "1\n",
      "9\n",
      "8\n"
     ]
    }
   ],
   "source": [
    "print(\"A = {}\".format(A))\n",
    "print(A[0]) # First element\n",
    "print(A[1]) # Second element\n",
    "print(A[-1]) # Last element\n",
    "print(A[-2]) # Antepenultimate element"
   ]
  },
  {
   "cell_type": "code",
   "execution_count": 6,
   "metadata": {},
   "outputs": [
    {
     "name": "stdout",
     "output_type": "stream",
     "text": [
      "[0 1 2]\n",
      "[0 2 4 6 8]\n",
      "[7 8]\n"
     ]
    }
   ],
   "source": [
    "# Some slicing\n",
    "print(A[0:3]) # Return an array of elements of A from the first (index 0) to the third (index 2)\n",
    "print(A[::2]) # All elements with a step of 2\n",
    "print(A[-3:-1]) # Can use reverse order"
   ]
  },
  {
   "cell_type": "markdown",
   "metadata": {},
   "source": [
    "## Computation on Array\n",
    "### Universal functions\n",
    "A general comment for interpreted laguage: **do not use loop if you can** ! It is slow and inefficient.\n",
    "\n",
    "The comment apply here with Python. Scipy provide a large types of operation that are optimized to work on array directly (as in Matlab, R ...). In particular, *universal functions* (ufuncs) are a set of functions for fast element-wise operations (+, -, power ...). Let see a short example:"
   ]
  },
  {
   "cell_type": "code",
   "execution_count": 7,
   "metadata": {},
   "outputs": [
    {
     "name": "stdout",
     "output_type": "stream",
     "text": [
      "using loops\n",
      "39.8 ms ± 1.2 ms per loop (mean ± std. dev. of 7 runs, 10 loops each)\n",
      "using ufuncs\n",
      "42.8 µs ± 1.04 µs per loop (mean ± std. dev. of 7 runs, 10000 loops each)\n"
     ]
    }
   ],
   "source": [
    "def my_add(M,N): # Suppose that A and B have the same shape\n",
    "    P = np.empty_like(M)\n",
    "    nl, nr = M.shape\n",
    "    for i in range(nl):\n",
    "        for j in range(nr):\n",
    "            P[i,j] = M[i,j] + N[i,j]\n",
    "    return P\n",
    "\n",
    "M, N = np.arange(100000).reshape(1000,100), np.arange(100000).reshape(1000,100)\n",
    "\n",
    "# Evaluate execution time by repeating several runs based on a total of 2 seconds execution window\n",
    "print('using loops')\n",
    "%timeit my_add(M,N) # using loops\n",
    "print('using ufuncs')\n",
    "%timeit M + N # using ufuncs equivalent to sp.add(A,B)"
   ]
  },
  {
   "cell_type": "markdown",
   "metadata": {},
   "source": [
    "Most all conventional functions exist: arithmetic, trigonometric, log/exp ... A detailed list is available here: https://numpy.org/doc/stable/reference/ufuncs.html"
   ]
  },
  {
   "cell_type": "markdown",
   "metadata": {},
   "source": [
    "### Reduction\n",
    "Numpy provides a set of functions to extrac values from the array itself and for some specific dimension of the array"
   ]
  },
  {
   "cell_type": "code",
   "execution_count": 8,
   "metadata": {},
   "outputs": [
    {
     "name": "stdout",
     "output_type": "stream",
     "text": [
      "A = \n",
      "[[0.13443839 0.60742792 0.04221541 0.07236479]\n",
      " [0.81639461 0.63287967 0.29468239 0.8964398 ]\n",
      " [0.17778083 0.00993875 0.4617497  0.11878335]\n",
      " [0.98791762 0.75871131 0.8101368  0.23270159]\n",
      " [0.13044079 0.74543857 0.31853454 0.7262121 ]]\n",
      "8.975188903880614\n",
      "[2.24697224 2.7543962  1.92731884 2.04650163]\n",
      "[0.8564465  2.64039647 0.76825262 2.78946732 1.92062599]\n"
     ]
    }
   ],
   "source": [
    "A = sp.random.rand(5,4)\n",
    "print(\"A = \\n{}\".format(A))\n",
    "print(A.sum()) # Sum over all element\n",
    "print(A.sum(axis=0)) # Sum over the lines: return an array of values\n",
    "print(A.sum(axis=1)) # over the columns"
   ]
  },
  {
   "cell_type": "markdown",
   "metadata": {},
   "source": [
    "Using the same convention, it is possible to get the cumulative sum (cumsum), product of element (prod, cumprod), the maximum/minimum value (max, min) and their position (argmax, argmin) and the first and second statistical moment (mean, var/std). It is also possible to check if a condition is fullfilled for all or any elements of the array."
   ]
  },
  {
   "cell_type": "code",
   "execution_count": 9,
   "metadata": {},
   "outputs": [
    {
     "data": {
      "text/plain": [
       "True"
      ]
     },
     "execution_count": 9,
     "metadata": {},
     "output_type": "execute_result"
    }
   ],
   "source": [
    "np.any(A>0)"
   ]
  },
  {
   "cell_type": "code",
   "execution_count": 10,
   "metadata": {},
   "outputs": [
    {
     "data": {
      "text/plain": [
       "False"
      ]
     },
     "execution_count": 10,
     "metadata": {},
     "output_type": "execute_result"
    }
   ],
   "source": [
    "np.all(A>0.5)"
   ]
  },
  {
   "cell_type": "markdown",
   "metadata": {},
   "source": [
    "### Some exercices\n",
    "- Find the maximum and minimum value of A\n",
    "- Find the maximum of each line\n",
    "- Find the mean value of each row\n",
    "- Find the position of the minimum value of each row"
   ]
  },
  {
   "cell_type": "code",
   "execution_count": 11,
   "metadata": {},
   "outputs": [
    {
     "name": "stdout",
     "output_type": "stream",
     "text": [
      "0.9879176199613123\n",
      "0.009938748482857251\n",
      "[0.98791762 0.75871131 0.8101368  0.8964398 ]\n",
      "[0.21411163 0.66009912 0.19206316 0.69736683 0.4801565 ]\n",
      "[2 2 1 3 0]\n"
     ]
    }
   ],
   "source": [
    "print(A.max())\n",
    "print(A.min())\n",
    "print(A.max(axis=0))\n",
    "print(A.mean(axis=1))\n",
    "print(A.argmin(axis=1))"
   ]
  },
  {
   "cell_type": "markdown",
   "metadata": {},
   "source": [
    "### Broadcasting\n",
    "Broadcasting allow to define efficient operations between arrays of different sizes, given some of them are compatible. An extreme example is adding a scalar to a matrix"
   ]
  },
  {
   "cell_type": "code",
   "execution_count": 12,
   "metadata": {},
   "outputs": [
    {
     "data": {
      "text/plain": [
       "array([[3.13443839, 3.60742792, 3.04221541, 3.07236479],\n",
       "       [3.81639461, 3.63287967, 3.29468239, 3.8964398 ],\n",
       "       [3.17778083, 3.00993875, 3.4617497 , 3.11878335],\n",
       "       [3.98791762, 3.75871131, 3.8101368 , 3.23270159],\n",
       "       [3.13044079, 3.74543857, 3.31853454, 3.7262121 ]])"
      ]
     },
     "execution_count": 12,
     "metadata": {},
     "output_type": "execute_result"
    }
   ],
   "source": [
    "A+3"
   ]
  },
  {
   "cell_type": "markdown",
   "metadata": {},
   "source": [
    "Easy ? Now if I need to center the data, it is also super easy"
   ]
  },
  {
   "cell_type": "code",
   "execution_count": 13,
   "metadata": {},
   "outputs": [
    {
     "name": "stdout",
     "output_type": "stream",
     "text": [
      "Size of A: (5, 4)\n",
      "Size of the average of A along the lines: (4,)\n",
      "Size of centered A: (5, 4)\n",
      "Ac=\n",
      "[[-0.31495606  0.05654868 -0.34324835 -0.33693554]\n",
      " [ 0.36700016  0.08200043 -0.09078137  0.48713948]\n",
      " [-0.27161362 -0.54094049  0.07628593 -0.29051698]\n",
      " [ 0.53852317  0.20783207  0.42467303 -0.17659873]\n",
      " [-0.31895366  0.19455933 -0.06692923  0.31691177]]\n"
     ]
    }
   ],
   "source": [
    "print('Size of A: {}'.format(A.shape))\n",
    "print('Size of the average of A along the lines: {}'.format(A.mean(axis=0).shape))\n",
    "# Suppose that each line is a sample, and each column a measurement (i.e., a variable)\n",
    "Ac= A - A.mean(axis=0) \n",
    "print('Size of centered A: {}'.format(Ac.shape))\n",
    "print ('Ac=\\n{}'.format(Ac))"
   ]
  },
  {
   "cell_type": "markdown",
   "metadata": {},
   "source": [
    "If we need to standardize the data (substract the mean and divide by the standard deviation), it can be achieved easily:"
   ]
  },
  {
   "cell_type": "code",
   "execution_count": 14,
   "metadata": {},
   "outputs": [
    {
     "name": "stdout",
     "output_type": "stream",
     "text": [
      "[[-0.84211704  0.20416256 -1.36384393 -1.00068519]\n",
      " [ 0.9812705   0.29605321 -0.36070567  1.44678493]\n",
      " [-0.72622974 -1.9530041   0.30311028 -0.8628239 ]\n",
      " [ 1.43988193  0.75035402  1.68737222 -0.52449123]\n",
      " [-0.85280566  0.70243431 -0.26593289  0.94121539]]\n"
     ]
    }
   ],
   "source": [
    "As = (A-A.mean(axis=0))/A.std(axis=0)\n",
    "print(As)"
   ]
  },
  {
   "cell_type": "markdown",
   "metadata": {},
   "source": [
    "More details about broadcasting can be found here: https://docs.scipy.org/doc/numpy-1.13.0/user/basics.broadcasting.html"
   ]
  },
  {
   "cell_type": "markdown",
   "metadata": {},
   "source": [
    "## Ploting in Python\n",
    "The package [Matplotlib](https://matplotlib.org/) offers several functions to plot data. Below an example using 2D data, more complicated plots can be constructed when needed."
   ]
  },
  {
   "cell_type": "code",
   "execution_count": 15,
   "metadata": {},
   "outputs": [
    {
     "data": {
      "image/png": "[encoded data removed]",
      "text/plain": [
       "<Figure size 432x288 with 1 Axes>"
      ]
     },
     "metadata": {
      "needs_background": "light"
     },
     "output_type": "display_data"
    }
   ],
   "source": [
    "%matplotlib inline\n",
    "import matplotlib.pyplot as plt\n",
    "x = np.arange(0,10,0.01)\n",
    "y = x**2\n",
    "plt.plot(x,y)\n",
    "plt.grid()\n",
    "plt.show()"
   ]
  },
  {
   "cell_type": "code",
   "execution_count": null,
   "metadata": {},
   "outputs": [],
   "source": []
  }
 ],
 "metadata": {
  "kernelspec": {
   "display_name": "Python [conda env:calc]",
   "language": "python",
   "name": "conda-env-calc-py"
  },
  "language_info": {
   "codemirror_mode": {
    "name": "ipython",
    "version": 3
   },
   "file_extension": ".py",
   "mimetype": "text/x-python",
   "name": "python",
   "nbconvert_exporter": "python",
   "pygments_lexer": "ipython3",
   "version": "3.7.9"
  },
  "widgets": {
   "application/vnd.jupyter.widget-state+json": {
    "state": {},
    "version_major": 2,
    "version_minor": 0
   }
  }
 },
 "nbformat": 4,
 "nbformat_minor": 4
}
