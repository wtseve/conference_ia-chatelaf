{
 "cells": [
  {
   "cell_type": "markdown",
   "metadata": {},
   "source": [
    "This notebook can be run on mybinder: [![Binder](https://mybinder.org/badge_logo.svg)](https://mybinder.org/v2/git/https%3A%2F%2Fgricad-gitlab.univ-grenoble-alpes.fr%2Fchatelaf%2Fconference-ia/master?urlpath=lab/tree/notebooks/5_classification/N1_classification_LDA_QDA.ipynb)"
   ]
  },
  {
   "cell_type": "markdown",
   "metadata": {},
   "source": [
    "# Classification \n",
    "In this notebook, the classification with LDA and QDA is illustrated on the Digits data set."
   ]
  },
  {
   "cell_type": "code",
   "execution_count": 2,
   "metadata": {},
   "outputs": [
    {
     "name": "stdout",
     "output_type": "stream",
     "text": [
      "(1797, 64)\n",
      "16.0\n"
     ]
    }
   ],
   "source": [
    " from sklearn.datasets import load_digits\n",
    "# Load digits\n",
    "X, y = load_digits(return_X_y=True)\n",
    "print(X.shape)\n",
    "print(X.max())"
   ]
  },
  {
   "cell_type": "markdown",
   "metadata": {},
   "source": [
    "The data set is made available by NIST to extract normalized bitmaps of handwritten digits from a preprinted form. From a total of 43 people, 30 contributed to the training set and different 13 to the test set. 32x32 bitmaps are divided into nonoverlapping blocks of 4x4 and the number of on pixels are counted in each block. This generates an input matrix of 8x8 where each element is an integer in the range 0..16 (https://archive.ics.uci.edu/ml/datasets/Optical+Recognition+of+Handwritten+Digits)\n",
    "\n",
    "We can visualize the data by reshaping correctly each sample:"
   ]
  },
  {
   "cell_type": "code",
   "execution_count": 3,
   "metadata": {},
   "outputs": [
    {
     "data": {
      "application/vnd.jupyter.widget-view+json": {
       "model_id": "db75d5ce1aa24fa5a9a84949e754f1f3",
       "version_major": 2,
       "version_minor": 0
      },
      "text/plain": [
       "Canvas(toolbar=Toolbar(toolitems=[('Home', 'Reset original view', 'home', 'home'), ('Back', 'Back to previous …"
      ]
     },
     "metadata": {},
     "output_type": "display_data"
    },
    {
     "data": {
      "application/vnd.jupyter.widget-view+json": {
       "model_id": "b29c66dbf3f34e4b86867ada26e0299a",
       "version_major": 2,
       "version_minor": 0
      },
      "text/plain": [
       "Canvas(toolbar=Toolbar(toolitems=[('Home', 'Reset original view', 'home', 'home'), ('Back', 'Back to previous …"
      ]
     },
     "metadata": {},
     "output_type": "display_data"
    },
    {
     "data": {
      "text/plain": [
       "Text(0.5, 1.0, 'Label = 4')"
      ]
     },
     "execution_count": 3,
     "metadata": {},
     "output_type": "execute_result"
    }
   ],
   "source": [
    "%matplotlib widget\n",
    "import matplotlib.pyplot as plt\n",
    "\n",
    "# Plot the first element\n",
    "plt.figure()\n",
    "plt.imshow(X[0,:].reshape(8,8),cmap=\"gray\")\n",
    "plt.title(\"Label = {}\".format(y[0]))\n",
    "\n",
    "# Plot the hundredth element\n",
    "plt.figure()\n",
    "plt.imshow(X[100,:].reshape(8,8),cmap=\"gray\")\n",
    "plt.title(\"Label = {}\".format(y[100]))"
   ]
  },
  {
   "cell_type": "markdown",
   "metadata": {},
   "source": [
    "To perform the classification and the validation of the model, we should split our data sets into two disjoint parts. The classification accuracy is assessed using the global accuracy, which is 1 minus the misclassification rate."
   ]
  },
  {
   "cell_type": "code",
   "execution_count": 5,
   "metadata": {},
   "outputs": [
    {
     "name": "stdout",
     "output_type": "stream",
     "text": [
      "LDA misclassification rate = 0.04867872044506261\n",
      "QDA misclassification rate = 0.11404728789986096\n"
     ]
    }
   ],
   "source": [
    "# remove sklearn warnings\n",
    "def warn(*args, **kwargs):\n",
    "    pass\n",
    "import warnings\n",
    "warnings.warn = warn\n",
    "\n",
    "from sklearn.discriminant_analysis import LinearDiscriminantAnalysis as LDA,\\\n",
    "                                        QuadraticDiscriminantAnalysis as QDA\n",
    "from sklearn.model_selection import train_test_split\n",
    "from sklearn.metrics import accuracy_score as OA\n",
    "\n",
    "# Split the data -> test_size=0.40 means we keep 60% of the data for training and 40% for validation\n",
    "# The stratification ensures that the proportion of each class from the orginal data is preserved in \n",
    "# the train and test set\n",
    "X_train, X_test, y_train, y_test = train_test_split(X, y, test_size=0.4, random_state=0, stratify=y)\n",
    "\n",
    "models = [LDA(), QDA()]\n",
    "names = [\"LDA\", \"QDA\"]\n",
    "\n",
    "for name, model in zip(names,models):\n",
    "    # train the model\n",
    "    model.fit(X_train, y_train)\n",
    "    # Compute the overall accuracy on the validation set\n",
    "    y_pred = model.predict(X_test)\n",
    "    oa = OA(y_test, y_pred)\n",
    "    print(\"{} misclassification rate = {}\".format(name,1.-oa))\n"
   ]
  },
  {
   "cell_type": "markdown",
   "metadata": {},
   "source": [
    "# Setting up hyperparameters\n",
    "Both LDA and QDA have hyperparameters, which are related to the estimation of the covariance matrices. They usually have significant influences on the final classification results. \n",
    "\n",
    "For instance, QDA implemented in Sklearn has a regulation parameter $\\lambda$ that controls the condition number of the class covariance matrix: \n",
    "$$(1-\\lambda) \\Sigma + \\lambda I_p $$ \n",
    "The following code shows the influence of this hyperparameter on the overall accuracy."
   ]
  },
  {
   "cell_type": "code",
   "execution_count": 6,
   "metadata": {},
   "outputs": [
    {
     "name": "stdout",
     "output_type": "stream",
     "text": [
      "[0.         0.02040816 0.04081633 0.06122449 0.08163265 0.10204082\n",
      " 0.12244898 0.14285714 0.16326531 0.18367347 0.20408163 0.2244898\n",
      " 0.24489796 0.26530612 0.28571429 0.30612245 0.32653061 0.34693878\n",
      " 0.36734694 0.3877551  0.40816327 0.42857143 0.44897959 0.46938776\n",
      " 0.48979592 0.51020408 0.53061224 0.55102041 0.57142857 0.59183673\n",
      " 0.6122449  0.63265306 0.65306122 0.67346939 0.69387755 0.71428571\n",
      " 0.73469388 0.75510204 0.7755102  0.79591837 0.81632653 0.83673469\n",
      " 0.85714286 0.87755102 0.89795918 0.91836735 0.93877551 0.95918367\n",
      " 0.97959184 1.        ]\n"
     ]
    },
    {
     "data": {
      "text/plain": [
       "\u001b[0;31mInit signature:\u001b[0m \u001b[0mQDA\u001b[0m\u001b[0;34m(\u001b[0m\u001b[0mpriors\u001b[0m\u001b[0;34m=\u001b[0m\u001b[0;32mNone\u001b[0m\u001b[0;34m,\u001b[0m \u001b[0mreg_param\u001b[0m\u001b[0;34m=\u001b[0m\u001b[0;36m0.0\u001b[0m\u001b[0;34m,\u001b[0m \u001b[0mstore_covariance\u001b[0m\u001b[0;34m=\u001b[0m\u001b[0;32mFalse\u001b[0m\u001b[0;34m,\u001b[0m \u001b[0mtol\u001b[0m\u001b[0;34m=\u001b[0m\u001b[0;36m0.0001\u001b[0m\u001b[0;34m)\u001b[0m\u001b[0;34m\u001b[0m\u001b[0;34m\u001b[0m\u001b[0m\n",
       "\u001b[0;31mDocstring:\u001b[0m     \n",
       "Quadratic Discriminant Analysis\n",
       "\n",
       "A classifier with a quadratic decision boundary, generated\n",
       "by fitting class conditional densities to the data\n",
       "and using Bayes' rule.\n",
       "\n",
       "The model fits a Gaussian density to each class.\n",
       "\n",
       ".. versionadded:: 0.17\n",
       "   *QuadraticDiscriminantAnalysis*\n",
       "\n",
       "Read more in the :ref:`User Guide <lda_qda>`.\n",
       "\n",
       "Parameters\n",
       "----------\n",
       "priors : array, optional, shape = [n_classes]\n",
       "    Priors on classes\n",
       "\n",
       "reg_param : float, optional\n",
       "    Regularizes the covariance estimate as\n",
       "    ``(1-reg_param)*Sigma + reg_param*np.eye(n_features)``\n",
       "\n",
       "store_covariance : boolean\n",
       "    If True the covariance matrices are computed and stored in the\n",
       "    `self.covariance_` attribute.\n",
       "\n",
       "    .. versionadded:: 0.17\n",
       "\n",
       "tol : float, optional, default 1.0e-4\n",
       "    Threshold used for rank estimation.\n",
       "\n",
       "    .. versionadded:: 0.17\n",
       "\n",
       "Attributes\n",
       "----------\n",
       "covariance_ : list of array-like, shape = [n_features, n_features]\n",
       "    Covariance matrices of each class.\n",
       "\n",
       "means_ : array-like, shape = [n_classes, n_features]\n",
       "    Class means.\n",
       "\n",
       "priors_ : array-like, shape = [n_classes]\n",
       "    Class priors (sum to 1).\n",
       "\n",
       "rotations_ : list of arrays\n",
       "    For each class k an array of shape [n_features, n_k], with\n",
       "    ``n_k = min(n_features, number of elements in class k)``\n",
       "    It is the rotation of the Gaussian distribution, i.e. its\n",
       "    principal axis.\n",
       "\n",
       "scalings_ : list of arrays\n",
       "    For each class k an array of shape [n_k]. It contains the scaling\n",
       "    of the Gaussian distributions along its principal axes, i.e. the\n",
       "    variance in the rotated coordinate system.\n",
       "\n",
       "Examples\n",
       "--------\n",
       ">>> from sklearn.discriminant_analysis import QuadraticDiscriminantAnalysis\n",
       ">>> import numpy as np\n",
       ">>> X = np.array([[-1, -1], [-2, -1], [-3, -2], [1, 1], [2, 1], [3, 2]])\n",
       ">>> y = np.array([1, 1, 1, 2, 2, 2])\n",
       ">>> clf = QuadraticDiscriminantAnalysis()\n",
       ">>> clf.fit(X, y)\n",
       "... # doctest: +ELLIPSIS, +NORMALIZE_WHITESPACE\n",
       "QuadraticDiscriminantAnalysis(priors=None, reg_param=0.0,\n",
       "                              store_covariance=False, tol=0.0001)\n",
       ">>> print(clf.predict([[-0.8, -1]]))\n",
       "[1]\n",
       "\n",
       "See also\n",
       "--------\n",
       "sklearn.discriminant_analysis.LinearDiscriminantAnalysis: Linear\n",
       "    Discriminant Analysis\n",
       "\u001b[0;31mFile:\u001b[0m           ~/miniconda3/envs/calc/lib/python3.7/site-packages/sklearn/discriminant_analysis.py\n",
       "\u001b[0;31mType:\u001b[0m           type\n",
       "\u001b[0;31mSubclasses:\u001b[0m     \n"
      ]
     },
     "metadata": {},
     "output_type": "display_data"
    }
   ],
   "source": [
    "import scipy as sp\n",
    "reg_param = sp.linspace(0,1)\n",
    "print(reg_param)\n",
    "QDA?"
   ]
  },
  {
   "cell_type": "code",
   "execution_count": 9,
   "metadata": {},
   "outputs": [
    {
     "data": {
      "application/vnd.jupyter.widget-view+json": {
       "model_id": "d10c3e5db3a64152ac36dbdcd464b3ad",
       "version_major": 2,
       "version_minor": 0
      },
      "text/plain": [
       "Canvas(toolbar=Toolbar(toolitems=[('Home', 'Reset original view', 'home', 'home'), ('Back', 'Back to previous …"
      ]
     },
     "metadata": {},
     "output_type": "display_data"
    }
   ],
   "source": [
    "import numpy as np\n",
    "\n",
    "oa = []\n",
    "for reg_param_ in reg_param:\n",
    "    model = QDA(reg_param=reg_param_)\n",
    "    model.fit(X_train, y_train)\n",
    "    y_pred = model.predict(X_test)\n",
    "    oa.append(OA(y_test, y_pred))\n",
    "plt.figure()\n",
    "plt.plot(reg_param, 1.-np.asarray(oa))\n",
    "plt.title(\"Test error (misclassification rate)\")\n",
    "plt.grid()"
   ]
  },
  {
   "cell_type": "code",
   "execution_count": 18,
   "metadata": {},
   "outputs": [
    {
     "name": "stdout",
     "output_type": "stream",
     "text": [
      "Best hyperparameters value: 0.7551020408163265\n",
      "Best test error: 0.0055632823365785455\n"
     ]
    }
   ],
   "source": [
    "print(\"Best hyperparameters value: {}\".format(reg_param[sp.argmax(oa)]))\n",
    "print(\"Best test error: {}\".format(1.-oa[sp.argmax(oa)]))"
   ]
  },
  {
   "cell_type": "code",
   "execution_count": 10,
   "metadata": {},
   "outputs": [
    {
     "data": {
      "application/vnd.jupyter.widget-view+json": {
       "model_id": "281dc854e4b84508b8c65f6623af2268",
       "version_major": 2,
       "version_minor": 0
      },
      "text/plain": [
       "Canvas(toolbar=Toolbar(toolitems=[('Home', 'Reset original view', 'home', 'home'), ('Back', 'Back to previous …"
      ]
     },
     "metadata": {},
     "output_type": "display_data"
    },
    {
     "data": {
      "application/vnd.jupyter.widget-view+json": {
       "model_id": "bb2df6e344694b3ea6e79d80b5db5f97",
       "version_major": 2,
       "version_minor": 0
      },
      "text/plain": [
       "Canvas(toolbar=Toolbar(toolitems=[('Home', 'Reset original view', 'home', 'home'), ('Back', 'Back to previous …"
      ]
     },
     "metadata": {},
     "output_type": "display_data"
    },
    {
     "data": {
      "application/vnd.jupyter.widget-view+json": {
       "model_id": "b3509972af774acea834653434f2ef61",
       "version_major": 2,
       "version_minor": 0
      },
      "text/plain": [
       "Canvas(toolbar=Toolbar(toolitems=[('Home', 'Reset original view', 'home', 'home'), ('Back', 'Back to previous …"
      ]
     },
     "metadata": {},
     "output_type": "display_data"
    }
   ],
   "source": [
    "# Display some Error cases\n",
    "\n",
    "model = QDA(reg_param=reg_param[sp.argmax(oa)])\n",
    "model.fit(X_train, y_train)\n",
    "y_pred = model.predict(X_test)\n",
    "\n",
    "t = sp.where(y_pred!=y_test)[0]\n",
    "\n",
    "for t_ in t[1:10]:\n",
    "    plt.figure()\n",
    "    plt.imshow(X_test[t_,:].reshape(8,8),cmap=\"gray\")\n",
    "    plt.title(\"Label = {} Pred = {}\".format(y_test[t_],y_pred[t_]))"
   ]
  },
  {
   "cell_type": "markdown",
   "metadata": {},
   "source": [
    "### Exercice:\n",
    " - Is it necessary to regularize only a little or a lot the class covariance matrix to get the best performance? How can this be explained?\n",
    " - What happens in the limiting case where $\\lambda=0$ and $\\lambda=1$?  What's the name we give in machine learning for each of these issues? \n",
    " - Do the same analysis for LDA with regularization (`shrinkage` parameter + compatible `solver`, see the sklearn api): compare and comment the results"
   ]
  },
  {
   "cell_type": "code",
   "execution_count": 15,
   "metadata": {},
   "outputs": [
    {
     "data": {
      "image/png": "[encoded data removed]",
      "text/plain": [
       "<Figure size 432x288 with 1 Axes>"
      ]
     },
     "metadata": {
      "needs_background": "light"
     },
     "output_type": "display_data"
    }
   ],
   "source": [
    "oa = []\n",
    "for reg_param_ in reg_param:\n",
    "    #model = QDA(reg_param=reg_param_)\n",
    "    model = LDA(shrinkage=reg_param_,solver='lsqr')\n",
    "    model.fit(X_train, y_train)\n",
    "    y_pred = model.predict(X_test)\n",
    "    oa.append(OA(y_test, y_pred))\n",
    "plt.plot(reg_param, 1.-np.asarray(oa))\n",
    "plt.title(\"Test error (misclassification rate)\")\n",
    "plt.grid()"
   ]
  },
  {
   "cell_type": "code",
   "execution_count": 16,
   "metadata": {},
   "outputs": [
    {
     "name": "stdout",
     "output_type": "stream",
     "text": [
      "Best hyperparameters value: 0.2857142857142857\n",
      "Best test error: 0.0445062586926287\n"
     ]
    }
   ],
   "source": [
    "print(\"Best hyperparameters value: {}\".format(reg_param[sp.argmax(oa)]))\n",
    "print(\"Best test error: {}\".format(1.-oa[sp.argmax(oa)]))"
   ]
  },
  {
   "cell_type": "code",
   "execution_count": 31,
   "metadata": {},
   "outputs": [
    {
     "name": "stdout",
     "output_type": "stream",
     "text": [
      "Test error (misclassification rate) = 0.05006954102920724\n"
     ]
    }
   ],
   "source": [
    "# Ledoit & Wolfe automatic shrinkage\n",
    "model = LDA(shrinkage='auto',solver='lsqr')\n",
    "model.fit(X_train, y_train)\n",
    "y_pred = model.predict(X_test)\n",
    "print(\"Test error (misclassification rate) = {}\".format(1-OA(y_test, y_pred)) )"
   ]
  },
  {
   "cell_type": "markdown",
   "metadata": {},
   "source": [
    "Explanation: no need to regularize so much with LDA since the model is already much less flexible than QDA. We can see that we get similar results without any regularization (shrinkage=0)"
   ]
  }
 ],
 "metadata": {
  "kernelspec": {
   "display_name": "Python 3",
   "language": "python",
   "name": "python3"
  },
  "language_info": {
   "codemirror_mode": {
    "name": "ipython",
    "version": 3
   },
   "file_extension": ".py",
   "mimetype": "text/x-python",
   "name": "python",
   "nbconvert_exporter": "python",
   "pygments_lexer": "ipython3",
   "version": "3.7.4"
  }
 },
 "nbformat": 4,
 "nbformat_minor": 4
}
