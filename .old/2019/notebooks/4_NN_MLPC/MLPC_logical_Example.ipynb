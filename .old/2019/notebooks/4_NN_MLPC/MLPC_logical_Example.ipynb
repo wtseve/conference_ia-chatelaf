{
 "cells": [
  {
   "cell_type": "markdown",
   "metadata": {},
   "source": [
    "# MultiLayer Perceptron\n",
    "\n",
    "see https://scikit-learn.org/stable/modules/neural_networks_supervised.html"
   ]
  },
  {
   "cell_type": "code",
   "execution_count": 1,
   "metadata": {},
   "outputs": [],
   "source": [
    "from sklearn.neural_network import MLPClassifier\n",
    "import matplotlib.pyplot as plt\n",
    "import numpy as np"
   ]
  },
  {
   "cell_type": "code",
   "execution_count": 3,
   "metadata": {},
   "outputs": [
    {
     "name": "stdout",
     "output_type": "stream",
     "text": [
      "red = 0 ; blue=1  : \n"
     ]
    },
    {
     "data": {
      "image/png": "[encoded data removed]",
      "text/plain": [
       "<Figure size 432x288 with 1 Axes>"
      ]
     },
     "metadata": {
      "needs_background": "light"
     },
     "output_type": "display_data"
    }
   ],
   "source": [
    "#logical AND\n",
    "X=[[0.,.0],[1.,1.],[1,0],[0,1]]\n",
    "y=[0,1,0,0]\n",
    "#print(X)\n",
    "for i in range(4):\n",
    "    if y[i]==0:\n",
    "        plt.plot(np.asarray(X)[i,0], np.asarray(X)[i,1],'or'); \n",
    "    else:\n",
    "        plt.plot(np.asarray(X)[i,0], np.asarray(X)[i,1],'ob');  \n",
    "            \n",
    "print('red = 0 ; blue=1  : ')"
   ]
  },
  {
   "cell_type": "code",
   "execution_count": 4,
   "metadata": {},
   "outputs": [
    {
     "name": "stdout",
     "output_type": "stream",
     "text": [
      "y_pred [0 1 0 0]\n",
      "coefficient matrix sizes :  [(2, 1), (1, 1)]\n"
     ]
    },
    {
     "data": {
      "text/plain": [
       "array([[-5.60458372],\n",
       "       [-5.52675342]])"
      ]
     },
     "execution_count": 4,
     "metadata": {},
     "output_type": "execute_result"
    }
   ],
   "source": [
    "clf = MLPClassifier(solver='lbfgs', alpha=1e-5, hidden_layer_sizes=(1,), random_state=1, activation='logistic')\n",
    "clf.fit(X,y)\n",
    "y_pred=clf.predict(X)\n",
    "print('y_pred', y_pred) \n",
    "print('coefficient matrix sizes : ', [coef.shape for coef in clf.coefs_])\n",
    "clf.coefs_[0]"
   ]
  },
  {
   "cell_type": "code",
   "execution_count": 5,
   "metadata": {},
   "outputs": [
    {
     "name": "stdout",
     "output_type": "stream",
     "text": [
      "red = 0 ; blue=1  : \n"
     ]
    },
    {
     "data": {
      "image/png": "[encoded data removed]",
      "text/plain": [
       "<Figure size 432x288 with 1 Axes>"
      ]
     },
     "metadata": {
      "needs_background": "light"
     },
     "output_type": "display_data"
    }
   ],
   "source": [
    "#logical XOR\n",
    "X=[[0.,.0],[1.,1.],[1,0],[0,1]]\n",
    "y=[0,0,1,1]\n",
    "for i in range(4):\n",
    "    if y[i]==0:\n",
    "        plt.plot(np.asarray(X)[i,0], np.asarray(X)[i,1],'or'); \n",
    "    else:\n",
    "        plt.plot(np.asarray(X)[i,0], np.asarray(X)[i,1],'ob');  \n",
    "            \n",
    "print('red = 0 ; blue=1  : ')\n",
    "\n",
    "\n"
   ]
  },
  {
   "cell_type": "code",
   "execution_count": 75,
   "metadata": {},
   "outputs": [
    {
     "name": "stdout",
     "output_type": "stream",
     "text": [
      "y_pred [0 0 1 1]\n",
      "coefficient matrix sizes :  [(2, 3), (3, 2), (2, 1)]\n"
     ]
    },
    {
     "data": {
      "text/plain": [
       "array([[  2.38264651,   9.64032293,  -4.37902642],\n",
       "       [ -3.27109196, -12.20568268,   2.62135949]])"
      ]
     },
     "execution_count": 75,
     "metadata": {},
     "output_type": "execute_result"
    }
   ],
   "source": [
    "clf = MLPClassifier(solver='lbfgs', alpha=1e-5, hidden_layer_sizes=(3,2), random_state=1, activation='logistic')\n",
    "clf.fit(X,y)\n",
    "y_pred=clf.predict(X)\n",
    "print('y_pred', y_pred) \n",
    "print('coefficient matrix sizes : ', [coef.shape for coef in clf.coefs_])\n",
    "clf.coefs_[0]"
   ]
  }
 ],
 "metadata": {
  "kernelspec": {
   "display_name": "Python 3",
   "language": "python",
   "name": "python3"
  },
  "language_info": {
   "codemirror_mode": {
    "name": "ipython",
    "version": 3
   },
   "file_extension": ".py",
   "mimetype": "text/x-python",
   "name": "python",
   "nbconvert_exporter": "python",
   "pygments_lexer": "ipython3",
   "version": "3.7.1"
  }
 },
 "nbformat": 4,
 "nbformat_minor": 2
}
