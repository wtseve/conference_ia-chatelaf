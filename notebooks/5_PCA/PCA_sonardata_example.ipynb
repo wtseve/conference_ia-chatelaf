{
 "cells": [
  {
   "cell_type": "code",
   "execution_count": 1,
   "metadata": {},
   "outputs": [
    {
     "name": "stdout",
     "output_type": "stream",
     "text": [
      "size of sonar dataset = (208, 61)\n"
     ]
    }
   ],
   "source": [
    "from csv import reader\n",
    "import numpy as np\n",
    "\n",
    "# Load a CSV file\n",
    "def load_csv(filename):\n",
    "\tdataset = list()\n",
    "\twith open(filename, 'r') as file:\n",
    "\t\tcsv_reader = reader(file)\n",
    "\t\tfor row in csv_reader:\n",
    "\t\t\tif not row:\n",
    "\t\t\t\tcontinue\n",
    "\t\t\tdataset.append(row)\n",
    "\treturn dataset\n",
    "\n",
    "# Convert string column to float\n",
    "def str_column_to_float(dataset, column):\n",
    "\tfor row in dataset:\n",
    "\t\trow[column] = float(row[column].strip())\n",
    " \n",
    "# Convert string column to integer\n",
    "def str_column_to_int(dataset, column):\n",
    "\tclass_values = [row[column] for row in dataset]\n",
    "\tunique = set(class_values)\n",
    "\tlookup = dict()\n",
    "\tfor i, value in enumerate(unique):\n",
    "\t\tlookup[value] = i\n",
    "\tfor row in dataset:\n",
    "\t\trow[column] = lookup[row[column]]\n",
    "\treturn lookup\n",
    "\n",
    "# load and prepare data\n",
    "filename = 'sonar.all-data.csv'\n",
    "dataset = load_csv(filename)\n",
    "for i in range(len(dataset[0])-1):\n",
    "\tstr_column_to_float(dataset, i)\n",
    "# convert string class to integers\n",
    "str_column_to_int(dataset, len(dataset[0])-1)\n",
    "print(\"size of sonar dataset = {}\".format(np.asarray(dataset).shape))\n",
    "\n",
    "dataset_X=list()\n",
    "dataset_y=list()\n",
    "for i in range(len(dataset)):\n",
    "    dataset_X.append(dataset[i][:-1])\n",
    "    dataset_y.append(dataset[i][-1])\n",
    "\n",
    "\n"
   ]
  },
  {
   "cell_type": "code",
   "execution_count": 20,
   "metadata": {},
   "outputs": [
    {
     "data": {
      "text/plain": [
       "array([0, 1, 2, 3, 4])"
      ]
     },
     "execution_count": 20,
     "metadata": {},
     "output_type": "execute_result"
    }
   ],
   "source": [
    "import numpy as np\n",
    "x=(np.arange(50))\n",
    "x[0:5]"
   ]
  },
  {
   "cell_type": "code",
   "execution_count": 137,
   "metadata": {},
   "outputs": [
    {
     "data": {
      "text/plain": [
       "(208, 50)"
      ]
     },
     "execution_count": 137,
     "metadata": {},
     "output_type": "execute_result"
    },
    {
     "data": {
      "image/png": "[encoded data removed]",
      "text/plain": [
       "<Figure size 432x288 with 2 Axes>"
      ]
     },
     "metadata": {
      "needs_background": "light"
     },
     "output_type": "display_data"
    }
   ],
   "source": [
    "import numpy as np\n",
    "import matplotlib.pyplot as plt\n",
    "from sklearn.decomposition import PCA\n",
    "\n",
    "ncomp=20\n",
    "\n",
    "pca=PCA(n_components=ncomp)\n",
    "pca.fit(dataset_X)\n",
    "#print(pca.explained_variance_ratio_)  \n",
    "plt.subplot(121)\n",
    "#print(pca.singular_values_)  \n",
    "plt.plot(np.arange(ncomp), pca.singular_values_[0:ncomp])\n",
    "plt.xlabel('eigenvalue index')\n",
    "plt.ylabel('eigenvalue')\n",
    "plt.title('eigen spectrum')\n",
    "plt.subplot(122)\n",
    "plt.plot(np.arange(ncomp), np.cumsum(pca.explained_variance_ratio_[0:ncomp]))\n",
    "plt.xlabel('eigenvalue index')\n",
    "plt.ylabel('Cumulative explained variance')\n",
    "plt.title('Percentage of variance explained')\n",
    "pca=PCA(n_components=50)\n",
    "pca.fit(dataset_X)\n",
    "transformed_dataset_X=pca.transform(dataset_X)\n",
    "transformed_dataset_X.shape\n",
    "#pca2.n_components_"
   ]
  },
  {
   "cell_type": "code",
   "execution_count": 138,
   "metadata": {},
   "outputs": [
    {
     "name": "stdout",
     "output_type": "stream",
     "text": [
      "Mean Accuracy and 95 percent confidence interval ExtraTrees: 0.69 (+/- 0.23)\n",
      "Mean Accuracy and 95 percent confidence on Transformed data: 0.68 (+/- 0.17)\n"
     ]
    }
   ],
   "source": [
    "from sklearn.ensemble import RandomForestClassifier\n",
    "from sklearn.ensemble import ExtraTreesClassifier\n",
    "import matplotlib.pyplot as plt\n",
    "\n",
    "clf = ExtraTreesClassifier(n_estimators=100, max_depth=None, random_state=0, min_samples_split=2, criterion='gini')\n",
    "scores = cross_val_score(clf, dataset_X, dataset_y, cv=10)\n",
    "print(\"Mean Accuracy and 95 percent confidence interval ExtraTrees: %0.2f (+/- %0.2f)\" % (scores.mean(), scores.std() *2))  \n",
    "\n",
    "clf = ExtraTreesClassifier(n_estimators=100, max_depth=None, random_state=0, min_samples_split=2, criterion='gini')\n",
    "scores = cross_val_score(clf, transformed_dataset_X, dataset_y, cv=10)\n",
    "print(\"Mean Accuracy and 95 percent confidence on Transformed data: %0.2f (+/- %0.2f)\" % (scores.mean(), scores.std() *2))  "
   ]
  },
  {
   "cell_type": "code",
   "execution_count": 139,
   "metadata": {},
   "outputs": [
    {
     "name": "stdout",
     "output_type": "stream",
     "text": [
      "Mean Accuracy and 95 percent confidence interval ExtraTrees: 0.61 (+/- 0.26)\n"
     ]
    }
   ],
   "source": [
    "from sklearn.decomposition import KernelPCA\n",
    "\n",
    "transformer = KernelPCA(n_components=ncomp, kernel='rbf',gamma=.35/ncomp)\n",
    "X_transformed = transformer.fit_transform(dataset_X)\n",
    "#X_transformed.shape\n",
    "clf2 = ExtraTreesClassifier(n_estimators=10, max_depth=None, random_state=0, min_samples_split=2, criterion='gini')\n",
    "scores = cross_val_score(clf, X_transformed, dataset_y, cv=10)\n",
    "print(\"Mean Accuracy and 95 percent confidence interval ExtraTrees: %0.2f (+/- %0.2f)\" % (scores.mean(), scores.std() *2))  \n",
    "\n"
   ]
  },
  {
   "cell_type": "code",
   "execution_count": 140,
   "metadata": {},
   "outputs": [
    {
     "name": "stdout",
     "output_type": "stream",
     "text": [
      "gamma =0.0\n",
      "gamma =0.21428571428571427\n",
      "gamma =0.42857142857142855\n",
      "gamma =0.6428571428571428\n",
      "gamma =0.8571428571428571\n",
      "gamma =1.0714285714285714\n",
      "gamma =1.2857142857142856\n",
      "gamma =1.5\n",
      "gamma =1.7142857142857142\n",
      "gamma =1.9285714285714284\n",
      "gamma =2.142857142857143\n",
      "gamma =2.357142857142857\n",
      "gamma =2.571428571428571\n",
      "gamma =2.7857142857142856\n",
      "gamma =3.0\n"
     ]
    }
   ],
   "source": [
    "\n",
    "Acc = list()\n",
    "for Gamma in np.linspace(0.,3.,15):\n",
    "    transformer = KernelPCA(n_components=ncomp, kernel='rbf',gamma=Gamma/ncomp)\n",
    "    X_transformed = transformer.fit_transform(dataset_X)\n",
    "    #X_transformed.shape\n",
    "    clf2 = ExtraTreesClassifier(n_estimators=10, max_depth=None, random_state=0, min_samples_split=2, criterion='gini')\n",
    "    scores = cross_val_score(clf, X_transformed, dataset_y, cv=10)\n",
    "    print('Gamma ={}'.format(Gamma))\n",
    "    Acc.append(scores.mean())\n"
   ]
  },
  {
   "cell_type": "code",
   "execution_count": 141,
   "metadata": {},
   "outputs": [
    {
     "data": {
      "text/plain": [
       "[<matplotlib.lines.Line2D at 0x1a2243da90>]"
      ]
     },
     "execution_count": 141,
     "metadata": {},
     "output_type": "execute_result"
    },
    {
     "data": {
      "image/png": "[encoded data removed]",
      "text/plain": [
       "<Figure size 432x288 with 1 Axes>"
      ]
     },
     "metadata": {
      "needs_background": "light"
     },
     "output_type": "display_data"
    }
   ],
   "source": [
    "\n",
    "plt.plot(np.linspace(0.,3.,15),Acc)"
   ]
  }
 ],
 "metadata": {
  "kernelspec": {
   "display_name": "Python 3",
   "language": "python",
   "name": "python3"
  },
  "language_info": {
   "codemirror_mode": {
    "name": "ipython",
    "version": 3
   },
   "file_extension": ".py",
   "mimetype": "text/x-python",
   "name": "python",
   "nbconvert_exporter": "python",
   "pygments_lexer": "ipython3",
   "version": "3.7.1"
  }
 },
 "nbformat": 4,
 "nbformat_minor": 2
}
