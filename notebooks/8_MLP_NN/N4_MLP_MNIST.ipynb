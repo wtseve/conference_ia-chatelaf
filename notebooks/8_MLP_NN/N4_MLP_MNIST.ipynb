{
 "cells": [
  {
   "cell_type": "markdown",
   "metadata": {},
   "source": [
    "*Adapted from the keras example https://github.com/keras-team/keras/blob/master/examples/mnist_mlp.py*\n",
    "\n",
    "\n",
    "This notebook can be run on mybinder: [![Binder](https://mybinder.org/badge_logo.svg)](https://mybinder.org/v2/git/https%3A%2F%2Fgricad-gitlab.univ-grenoble-alpes.fr%2Fchatelaf%2Fml-sicom3a/master?urlpath=lab/tree/notebooks/8_MLP_NN/)\n",
    "\n",
    "Given the computational load, an efficient alternative is to use the UGA's jupyterhub service https://jupyterhub.u-ga.fr/ .\n",
    "In this case, to install tensorflow 2.X, just type\n",
    "\n",
    "    !pip install --user --upgrade tensorflow\n",
    "\n",
    "in a code cell, then restart the notebook (or just restart the kernel)"
   ]
  },
  {
   "cell_type": "markdown",
   "metadata": {},
   "source": [
    "# Logistic regression and multiple layer perceptron to process MNIST dataset with Keras\n",
    "\n",
    "The objective of this notebook is to code/train/test some neural net models with the [TensorFlow](https://www.tensorflow.org/) ML platform developped by Google using the [Keras API](https://keras.io/) (integrated in TensorFlow).\n",
    "\n",
    "\n",
    "\n",
    "MNIST is a simple computer vision dataset. It consists of images of handwritten digits. It also includes labels for each image, telling us which digit it is. In this lab session, we're going to train a model to look at images and predict what digits they are.\n",
    "\n",
    "The cells below allow us to\n",
    "- [Load/Format/Display MNIST data](#I.-Load-and-format-MNIST-data)\n",
    "- [Code a Multinomial Logistic Regression](#II.-Multinomial-Logistic-Regression)\n",
    "- [Code a Multi-Layers Network to reach at least 98% of correct classification](#III.-Multiple-layer-network)"
   ]
  },
  {
   "cell_type": "markdown",
   "metadata": {},
   "source": [
    "## I. Load and format MNIST data\n",
    "\n",
    "First, start here with these lines of code which will download and read in the data automatically:"
   ]
  },
  {
   "cell_type": "code",
   "execution_count": 1,
   "metadata": {},
   "outputs": [
    {
     "name": "stdout",
     "output_type": "stream",
     "text": [
      "Downloading data from https://storage.googleapis.com/tensorflow/tf-keras-datasets/mnist.npz\n",
      "11493376/11490434 [==============================] - 1s 0us/step\n"
     ]
    }
   ],
   "source": [
    "import tensorflow as tf\n",
    "from tensorflow.keras.datasets import mnist\n",
    "\n",
    "(x_train, y_train), (x_test, y_test) = mnist.load_data()"
   ]
  },
  {
   "cell_type": "markdown",
   "metadata": {},
   "source": [
    "The MNIST data is split into two parts: 60,000 data points of training data, 10,000 points of test data. It's essential in machine learning that we have separate data which we don't learn from so that we can make sure that what we've learned actually generalizes!\n",
    "\n",
    "Every MNIST data point has two parts: an image of a handwritten digit and a corresponding label. \"x\" corresponds to images and \"y\" to labels. Both the training set and test set contain images and their corresponding labels.\n",
    "\n",
    "First, we will visualize some of the data:"
   ]
  },
  {
   "cell_type": "code",
   "execution_count": 3,
   "metadata": {},
   "outputs": [
    {
     "data": {
      "image/png": "[encoded data removed]",
      "text/plain": [
       "<Figure size 432x288 with 10 Axes>"
      ]
     },
     "metadata": {
      "needs_background": "light"
     },
     "output_type": "display_data"
    }
   ],
   "source": [
    "import matplotlib.pyplot as plt\n",
    "import numpy as np\n",
    "\n",
    "plt.figure()\n",
    "for i in range(10):\n",
    "  plt.subplot(2, 5, i + 1)\n",
    "  plt.axis('off')\n",
    "  index = np.where(y_train == i)[0][0]\n",
    "  plt.imshow(x_train[index,:,:], cmap=plt.cm.gray_r, interpolation='nearest')\n",
    "  plt.title('Training: %i' % y_train[index])\n",
    "plt.show()"
   ]
  },
  {
   "cell_type": "markdown",
   "metadata": {},
   "source": [
    "Each image is 28 pixels by 28 pixels. In this lab session, we flatten this array into a vector of 28x28 = 784 numbers.\n",
    "\n",
    "### Write the code to flatten the data:"
   ]
  },
  {
   "cell_type": "code",
   "execution_count": 4,
   "metadata": {},
   "outputs": [],
   "source": [
    "x_train = x_train.reshape(60000, 784)\n",
    "x_test = x_test.reshape(10000, 784)"
   ]
  },
  {
   "cell_type": "markdown",
   "metadata": {},
   "source": [
    "### Write the code to normalize pixel intensity between 0 and 1 of images:"
   ]
  },
  {
   "cell_type": "code",
   "execution_count": 5,
   "metadata": {},
   "outputs": [],
   "source": [
    "x_train = x_train.astype('float32')\n",
    "x_test = x_test.astype('float32')\n",
    "x_train /= 255\n",
    "x_test /= 255"
   ]
  },
  {
   "cell_type": "markdown",
   "metadata": {},
   "source": [
    "Each image in MNIST has a corresponding label, a number between 0 and 9 representing the digit drawn in the image.\n",
    "\n",
    "In this lab session, we're going to code our labels as \"one-hot vectors\".\n",
    "\n",
    "**What is  one-hot encoding?**\n",
    "\n",
    "A one-hot vector is a vector which is 0 in most dimensions, and 1 in a single dimension. In this case, the $n^{th}$ digit will be represented as a vector which is 1 in the $n^{th}$ dimension. For example, label for digit '3' would be $[0,0,0,1,0,0,0,0,0,0]$. \n",
    "One advantage of \"one-hot encoding\" is that it corresponds to the true probabality distribution of a sample (the probability is one for true true class, zero otherwise). This makes it easier to compare with the predicted probality distribution.\n",
    "\n",
    "\n",
    "### 3) Convert the labels to one-hot vectors (using the function \"to_categorical\" available in Keras):"
   ]
  },
  {
   "cell_type": "code",
   "execution_count": 6,
   "metadata": {},
   "outputs": [],
   "source": [
    "num_classes = 10\n",
    "z_train = tf.keras.utils.to_categorical(y_train, num_classes)\n",
    "z_test = tf.keras.utils.to_categorical(y_test, num_classes)"
   ]
  },
  {
   "cell_type": "markdown",
   "metadata": {},
   "source": [
    "## II. Multinomial Logistic Regression\n",
    "\n",
    "Every image in MNIST is of a handwritten digit between zero and nine. So there are only ten possible things that a given image can be. For a given image, we want to compute the probabilities for it being each digit. In this part, we will use a softmax regression model:\n",
    "\n",
    "$$y = \\mathrm{softmax}(Wx+b)$$\n",
    "\n",
    "where $\\mathrm{softmax}(\\cdot)$ is the [normalized exponential function](https://en.wikipedia.org/wiki/Softmax_function) which is used for multinomial logistic regression."
   ]
  },
  {
   "cell_type": "markdown",
   "metadata": {},
   "source": [
    "### Define a Keras network architecture for Multinomial Logistic Regression\n",
    "Based on the [Sequential API](https://keras.io/models/sequential/) to stack the layers in the tf.keras model, \n",
    "we use a [Dense layer](https://keras.io/api/layers/core_layers/dense/) to define the softmax regression.\n",
    "The sequential Keras model is a linear stack of layers. You can create a sequential model by passing a list of layer instances to the constructor. Among the layer instances, you can use:\n",
    "  - regular densely-connected layer using [Dense](https://keras.io/api/layers/core_layers/dense/) \n",
    "  - Regularization layer such that [L1/L2 penalty for input activities](https://keras.io/api/layers/regularization_layers/activity_regularization/) or [Dropout](https://keras.io/api/layers/regularization_layers/dropout/)\n",
    "\n",
    "**Why Dropout regularization?**:\n",
    "Here we are going to use a\n",
    "[Dropout layer](https://keras.io/api/layers/regularization_layers/dropout/) as regularization one. Unlike L1 and L2 regularization, dropout doesn't rely on penalizing the cost function. Instead, in dropout we modify the network itself by randomly setting some input units to 0 with at each step during training time. The rationale behind dropout is that only the weights of the most useful units will be significantly updated during the training (while the less significant will stay close to zero). This forces the  network to learn more robust features that are useful in conjunction with many different random subsets of the other units, which helps to prevent overfitting.\n",
    "\n",
    "One advantage of dropout is that it is very computationally cheap, and quite versatile for neural nets (it can be directly applied to different networks architecture, distributed or not), while it can be a very effective regularizer."
   ]
  },
  {
   "cell_type": "code",
   "execution_count": 6,
   "metadata": {},
   "outputs": [],
   "source": [
    "from tensorflow.keras.models import Sequential\n",
    "from tensorflow.keras.layers import Dense\n",
    "# remove deprecated warning for tensorflow 2.0\n",
    "import logging\n",
    "logging.getLogger('tensorflow').disabled = True\n",
    "\n",
    "\n",
    "# y = softmax (Wx+b)\n",
    "model = Sequential()\n",
    "model.add(Dense(num_classes, activation='softmax', input_shape=(784,)))"
   ]
  },
  {
   "cell_type": "markdown",
   "metadata": {},
   "source": [
    "## Question/exercize\n",
    "- Sketch graphically the structure of the MLP implemanted above\n",
    "- Compue the number of unknown parameters of this model"
   ]
  },
  {
   "cell_type": "markdown",
   "metadata": {},
   "source": [
    "### How many trainable parameters are there?"
   ]
  },
  {
   "cell_type": "code",
   "execution_count": 7,
   "metadata": {},
   "outputs": [
    {
     "name": "stdout",
     "output_type": "stream",
     "text": [
      "Model: \"sequential\"\n",
      "_________________________________________________________________\n",
      "Layer (type)                 Output Shape              Param #   \n",
      "=================================================================\n",
      "dense (Dense)                (None, 10)                7850      \n",
      "=================================================================\n",
      "Total params: 7,850\n",
      "Trainable params: 7,850\n",
      "Non-trainable params: 0\n",
      "_________________________________________________________________\n"
     ]
    }
   ],
   "source": [
    "model.summary()"
   ]
  },
  {
   "cell_type": "markdown",
   "metadata": {},
   "source": [
    "### Specify the loss function and the optimization algorithm (+ the metrics)\n",
    "\n",
    "We now have to define the loss function. We try to minimize that error, and the smaller the error margin, the better our model is. Here the categorical \"cross-entropy\" is used as the loss of the model. It's defined as:\n",
    "\n",
    "$$H_{y}(z) = -\\sum_{i=1}^K  y_i \\log(z_i)$$\n",
    "\n",
    "where $z$ is our predicted probability distribution (thus $z_i$ is the  predicted probability for the $i$th class), and $y$ is the true distribution (the one-hot vector with the digit labels, thus $y_i=1$ if the sample belongs to the $i$th class, $0$ otherwise). This loss is averaged over all samples in the training set.\n",
    "\n",
    "\n",
    "\n",
    "**Why using cross-entropy?** \n",
    "\n",
    "This loss function is commonly used to train neural networks:\n",
    "- other usual loss derived from the global accuracy like the miss-classification rate are stepwise (non-smooth) functions harder to optimize than cross-entropy,\n",
    "- cross-entropy is based on the predicted class probabilities, which is more informative than the only predicted labels\n",
    "- compared to the quadratic loss, where we square the difference between the true probabily (the one-hot-vector) and the predicted one, cross-entropy loss function for a classification problem often leads to faster training as well as improved generalization.\n",
    "\n",
    "Note also than the cross-entropy function leads to the same loss function than the logistic regression one (derived from the likelihood of the logistic model), called the \"_log-loss_\".\n",
    "\n",
    "\n",
    "**Which optimization algorithm:** now we need to specify the optimization algorithm that will be used to minimized the loss function. There exists many variants of stochastic gradient descent especially to select and adapt the learning rate (the list of the optimizers available in keras is [here](https://keras.io/api/optimizers/)).\n",
    "Here, we will use [RMSprop](https://en.wikipedia.org/wiki/Stochastic_gradient_descent#RMSProp).\n",
    "\n",
    "**Which metric:** \n",
    "We will also specify a metric to follow the convergence of the training step. Here  `accuracy`, which is the rate of correct classification (one minus the miss-classification rate)\n",
    "\n",
    "We can now config the Keras model with the loss function, the optimization algorithm and the metric with the `compile()`method on the model (see https://keras.io/api/models/model_training_apis/#compile-method):  "
   ]
  },
  {
   "cell_type": "markdown",
   "metadata": {},
   "source": [
    "## Question/exercize\n",
    "- Remind the definition of Kullback-Leibler (KL) information divergence\n",
    "- Briefly show that minizing KL between estimated and reference distributions turn out to minimize cross entropy. "
   ]
  },
  {
   "cell_type": "code",
   "execution_count": 8,
   "metadata": {},
   "outputs": [],
   "source": [
    "optimizer= tf.keras.optimizers.RMSprop()\n",
    "# config the model with losses, optimize and metrics \n",
    "model.compile(loss='categorical_crossentropy',\n",
    "              optimizer=optimizer,\n",
    "              metrics=['accuracy'])\n"
   ]
  },
  {
   "cell_type": "markdown",
   "metadata": {},
   "source": [
    "### Write the code to train the model:\n",
    "This is simply done with the `fit()` method (see \n",
    "https://keras.io/api/models/model_training_apis/#fit-method)"
   ]
  },
  {
   "cell_type": "code",
   "execution_count": 9,
   "metadata": {},
   "outputs": [
    {
     "name": "stdout",
     "output_type": "stream",
     "text": [
      "Epoch 1/20\n",
      "469/469 [==============================] - 2s 5ms/step - loss: 0.5968 - accuracy: 0.8496 - val_loss: 0.3414 - val_accuracy: 0.9081\n",
      "Epoch 2/20\n",
      "469/469 [==============================] - 4s 8ms/step - loss: 0.3306 - accuracy: 0.9082 - val_loss: 0.3007 - val_accuracy: 0.9156\n",
      "Epoch 3/20\n",
      "469/469 [==============================] - 4s 8ms/step - loss: 0.3017 - accuracy: 0.9163 - val_loss: 0.2875 - val_accuracy: 0.9178\n",
      "Epoch 4/20\n",
      "469/469 [==============================] - 5s 11ms/step - loss: 0.2885 - accuracy: 0.9191 - val_loss: 0.2780 - val_accuracy: 0.9226\n",
      "Epoch 5/20\n",
      "469/469 [==============================] - 3s 6ms/step - loss: 0.2804 - accuracy: 0.9216 - val_loss: 0.2752 - val_accuracy: 0.9244\n",
      "Epoch 6/20\n",
      "469/469 [==============================] - 6s 13ms/step - loss: 0.2748 - accuracy: 0.9230 - val_loss: 0.2726 - val_accuracy: 0.9241\n",
      "Epoch 7/20\n",
      "469/469 [==============================] - 7s 15ms/step - loss: 0.2707 - accuracy: 0.9251 - val_loss: 0.2709 - val_accuracy: 0.9247\n",
      "Epoch 8/20\n",
      "469/469 [==============================] - 3s 6ms/step - loss: 0.2675 - accuracy: 0.9262 - val_loss: 0.2692 - val_accuracy: 0.9257\n",
      "Epoch 9/20\n",
      "469/469 [==============================] - 3s 7ms/step - loss: 0.2649 - accuracy: 0.9270 - val_loss: 0.2705 - val_accuracy: 0.9253\n",
      "Epoch 10/20\n",
      "469/469 [==============================] - 5s 11ms/step - loss: 0.2630 - accuracy: 0.9280 - val_loss: 0.2692 - val_accuracy: 0.9252\n",
      "Epoch 11/20\n",
      "469/469 [==============================] - 7s 14ms/step - loss: 0.2613 - accuracy: 0.9284 - val_loss: 0.2680 - val_accuracy: 0.9265\n",
      "Epoch 12/20\n",
      "469/469 [==============================] - 4s 9ms/step - loss: 0.2596 - accuracy: 0.9291 - val_loss: 0.2670 - val_accuracy: 0.9267\n",
      "Epoch 13/20\n",
      "469/469 [==============================] - 3s 6ms/step - loss: 0.2581 - accuracy: 0.9297 - val_loss: 0.2698 - val_accuracy: 0.9269\n",
      "Epoch 14/20\n",
      "469/469 [==============================] - 5s 10ms/step - loss: 0.2574 - accuracy: 0.9300 - val_loss: 0.2669 - val_accuracy: 0.9275\n",
      "Epoch 15/20\n",
      "469/469 [==============================] - 4s 9ms/step - loss: 0.2564 - accuracy: 0.9306 - val_loss: 0.2694 - val_accuracy: 0.9267\n",
      "Epoch 16/20\n",
      "469/469 [==============================] - 2s 5ms/step - loss: 0.2554 - accuracy: 0.9308 - val_loss: 0.2683 - val_accuracy: 0.9258\n",
      "Epoch 17/20\n",
      "469/469 [==============================] - 1s 3ms/step - loss: 0.2545 - accuracy: 0.9312 - val_loss: 0.2691 - val_accuracy: 0.9275\n",
      "Epoch 18/20\n",
      "469/469 [==============================] - 2s 3ms/step - loss: 0.2538 - accuracy: 0.9314 - val_loss: 0.2702 - val_accuracy: 0.9276\n",
      "Epoch 19/20\n",
      "469/469 [==============================] - 1s 3ms/step - loss: 0.2531 - accuracy: 0.9319 - val_loss: 0.2690 - val_accuracy: 0.9274\n",
      "Epoch 20/20\n",
      "469/469 [==============================] - 2s 3ms/step - loss: 0.2524 - accuracy: 0.9320 - val_loss: 0.2701 - val_accuracy: 0.9272\n"
     ]
    }
   ],
   "source": [
    "# Stochastic gradient descent parameters\n",
    "batch_size = 128 # number of samples to average to compute the gradient\n",
    "epochs = 20 # number of sweep over the whole training set\n",
    "\n",
    "history = model.fit(x_train, z_train,\n",
    "                    batch_size=batch_size,\n",
    "                    epochs=epochs,\n",
    "                    verbose=1,\n",
    "                    validation_data=(x_test, z_test))"
   ]
  },
  {
   "cell_type": "markdown",
   "metadata": {},
   "source": [
    "To study the convergence of the training step, we will plot the evolution of the accuracy for both training and testing data with respect to the epochs. The code to do this is provided below.\n",
    "\n",
    "### Study the convergence figure and the evaluation score."
   ]
  },
  {
   "cell_type": "code",
   "execution_count": 10,
   "metadata": {},
   "outputs": [
    {
     "name": "stdout",
     "output_type": "stream",
     "text": [
      "dict_keys(['loss', 'accuracy', 'val_loss', 'val_accuracy'])\n"
     ]
    },
    {
     "data": {
      "image/png": "[encoded data removed]",
      "text/plain": [
       "<Figure size 432x288 with 1 Axes>"
      ]
     },
     "metadata": {
      "needs_background": "light"
     },
     "output_type": "display_data"
    },
    {
     "name": "stdout",
     "output_type": "stream",
     "text": [
      "Test cross-entropy loss: 0.2700946033000946\n",
      "Test misclassification rate: 0.07279998064041138\n",
      "Test accuracy: 0.9272000193595886\n"
     ]
    }
   ],
   "source": [
    "# list all data in history\n",
    "print(history.history.keys())\n",
    "\n",
    "#Visualize history (loss vs epochs)\n",
    "plt.figure()\n",
    "plt.plot(1-np.asarray(history.history['accuracy']))\n",
    "plt.plot(1-np.asarray(history.history['val_accuracy']))\n",
    "plt.title('model accuracy')\n",
    "plt.ylabel('misclassification rate')  \n",
    "plt.xlabel('epochs')\n",
    "plt.legend(['train','test'], loc='upper left')\n",
    "plt.grid('on')\n",
    "plt.show()\n",
    "\n",
    "score = model.evaluate(x_test, z_test, verbose=0)\n",
    "print('Test cross-entropy loss:', score[0])\n",
    "print('Test misclassification rate:', 1-score[1])\n",
    "print('Test accuracy:', score[1])\n"
   ]
  },
  {
   "cell_type": "markdown",
   "metadata": {},
   "source": [
    "## Question/exercize\n",
    "-Is that good? Compare your results with the score of the current best models: https://rodrigob.github.io/are_we_there_yet/build/classification_datasets_results"
   ]
  },
  {
   "cell_type": "markdown",
   "metadata": {},
   "source": [
    "### Visualize the incorrect predictions:"
   ]
  },
  {
   "cell_type": "code",
   "execution_count": 11,
   "metadata": {},
   "outputs": [
    {
     "data": {
      "image/png": "[encoded data removed]",
      "text/plain": [
       "<Figure size 432x288 with 10 Axes>"
      ]
     },
     "metadata": {
      "needs_background": "light"
     },
     "output_type": "display_data"
    }
   ],
   "source": [
    "z_pred = model.predict(x_test)\n",
    "\n",
    "\n",
    "y_pred = np.argmax(z_pred,axis=1)\n",
    "index = np.where(y_pred - y_test != 0)\n",
    "im_test = x_test.reshape(10000, 28, 28)\n",
    "\n",
    "plt.figure()\n",
    "for i in range(10):\n",
    "  plt.subplot(2, 5, i + 1)\n",
    "  plt.axis('off')\n",
    "  plt.imshow(im_test[index[0][i],:,:], cmap=plt.cm.gray_r, interpolation='nearest')\n",
    "  plt.title(str(y_test[index[0][i]])+','+str(y_pred[index[0][i]]) )\n",
    "plt.show()"
   ]
  },
  {
   "cell_type": "markdown",
   "metadata": {},
   "source": [
    "### Study the confusion matrix:"
   ]
  },
  {
   "cell_type": "code",
   "execution_count": 18,
   "metadata": {},
   "outputs": [
    {
     "name": "stdout",
     "output_type": "stream",
     "text": [
      "Normalized confusion matrix\n"
     ]
    },
    {
     "data": {
      "image/png": "[encoded data removed]",
      "text/plain": [
       "<Figure size 504x504 with 2 Axes>"
      ]
     },
     "metadata": {
      "needs_background": "light"
     },
     "output_type": "display_data"
    }
   ],
   "source": [
    "from sklearn.metrics import confusion_matrix\n",
    "import itertools\n",
    "\n",
    "class_names= ['0','1','2','3','4','5','6','7','8','9']\n",
    "\n",
    "def plot_confusion_matrix(cm, classes,\n",
    "                          normalize=False,\n",
    "                          title='Confusion matrix',\n",
    "                          cmap=plt.cm.Blues):\n",
    "    \"\"\"\n",
    "    This function prints and plots the confusion matrix.\n",
    "    Normalization can be applied by setting `normalize=True`.\n",
    "    \"\"\"\n",
    "    if normalize:\n",
    "        cm = cm.astype('float') / cm.sum(axis=1)[:, np.newaxis]\n",
    "        print(\"Normalized confusion matrix\")\n",
    "    else:\n",
    "        print('Confusion matrix, without normalization')\n",
    "\n",
    "    #print(cm)\n",
    "\n",
    "    plt.imshow(cm, interpolation='nearest', cmap=cmap)\n",
    "    plt.title(title, fontsize=14)\n",
    "    plt.colorbar()\n",
    "    tick_marks = np.arange(len(classes))\n",
    "    plt.xticks(tick_marks, classes, rotation=45)\n",
    "    plt.yticks(tick_marks, classes)\n",
    "\n",
    "    fmt = '.3f' if normalize else 'd'\n",
    "    thresh = cm.max() / 2.\n",
    "    for i, j in itertools.product(range(cm.shape[0]), range(cm.shape[1])):\n",
    "        plt.text(j, i, format(cm[i, j], fmt),\n",
    "                 horizontalalignment=\"center\",\n",
    "                 color=\"white\" if cm[i, j] > thresh else \"black\")\n",
    "\n",
    "    plt.tight_layout()\n",
    "    plt.ylabel('True label', fontsize=14)\n",
    "    plt.xlabel('Predicted label', fontsize=14)\n",
    "\n",
    "# Compute confusion matrix\n",
    "cnf_matrix = confusion_matrix(y_test, y_pred)\n",
    "np.set_printoptions(precision=2)\n",
    "\n",
    "# Plot normalized confusion matrix\n",
    "plt.figure(figsize=(7, 7))\n",
    "plot_confusion_matrix(cnf_matrix, classes=class_names, normalize=True,\n",
    "                      title='Normalized confusion matrix')\n",
    "\n",
    "plt.show()"
   ]
  },
  {
   "cell_type": "markdown",
   "metadata": {},
   "source": [
    "## III. Multiple layer network\n",
    "\n",
    "You have tested above a linear classification rule with the logistic regression model. To see if you can improve the results, we are going to consider a nonlinear classification algorithm by adding some hidden layers. \n",
    "\n",
    "Neural nets use nonlinear activation functions for the units, i.e. the neurons, of the hidden layers to define the output of these units given the input. Logistic function (sometimes called *sigmoid*) or other sigmoïdal functions as the hyperbolic tangent 'tanh' are typically used since the 90's and 2000's. However these functions appear to be badly adapted to some deep neural net architectures like convolutional networks.\n",
    "Adoption of the  rectified linear unit (ReLU) activation function in the 2010's may be considered one of the few milestones that now permit the routine development of very deep neural networks, for several reasons:\n",
    "\n",
    "1. **Counter the _vanishing gradient problem_**\n",
    "\n",
    "   A general problem with the logistic or hyperbolic tangent 'tanh' functions is that they saturate. For instance the logistic snap to 1.0 for large positive input and  snap to -1 for large negative input, and is only really sensitive to changes when the input is near 0. \n",
    "\n",
    "   Layers deep in large networks using these nonlinear activation functions fail to receive useful gradient information. Error is back propagated through the network from the outputs and used to update the weights. The amount of error decreases dramatically with each additional layer through which it is propagated, given the derivative of the chosen activation function. This is called the *vanishing gradient problem* and prevents deep networks from learning effectively. \n",
    "  \n",
    "   Because ReLU is piecewise linear, it preserves many of the properties that make linear models easy to optimize with gradient-based methods. In particular, it is linear for large positive values which prevent from the *vanishing gradient problem*. It also preserves many of the properties that make linear models generalize well. Yet, it is a nonlinear function as negative values are always output as zero: this allows one to obtain more flexible prediction rules than just linear ones. This yields universal function approximators.\n",
    "\n",
    "2. **Make computation cheaper!**\n",
    "\n",
    "    ReLU is very cheap to compute: no need for any multiplication or call of complex function (and the gradient is super simple: 1 for positive value and 0 for negative value). This is useful when the number of units is tens of millions or more in deep architectures!\n",
    "\n",
    "\n",
    "### Build a multiple layer dense network with ReLU activation for the hidden layer"
   ]
  },
  {
   "cell_type": "code",
   "execution_count": 13,
   "metadata": {},
   "outputs": [
    {
     "name": "stdout",
     "output_type": "stream",
     "text": [
      "(10000, 784)\n",
      "Model: \"sequential_1\"\n",
      "_________________________________________________________________\n",
      "Layer (type)                 Output Shape              Param #   \n",
      "=================================================================\n",
      "dense_1 (Dense)              (None, 512)               401920    \n",
      "_________________________________________________________________\n",
      "dropout (Dropout)            (None, 512)               0         \n",
      "_________________________________________________________________\n",
      "dense_2 (Dense)              (None, 512)               262656    \n",
      "_________________________________________________________________\n",
      "dropout_1 (Dropout)          (None, 512)               0         \n",
      "_________________________________________________________________\n",
      "dense_3 (Dense)              (None, 10)                5130      \n",
      "=================================================================\n",
      "Total params: 669,706\n",
      "Trainable params: 669,706\n",
      "Non-trainable params: 0\n",
      "_________________________________________________________________\n",
      "Epoch 1/20\n",
      "469/469 [==============================] - 9s 18ms/step - loss: 0.2444 - accuracy: 0.9246 - val_loss: 0.1120 - val_accuracy: 0.9653\n",
      "Epoch 2/20\n",
      "469/469 [==============================] - 9s 19ms/step - loss: 0.1022 - accuracy: 0.9694 - val_loss: 0.0778 - val_accuracy: 0.9771\n",
      "Epoch 3/20\n",
      "469/469 [==============================] - 7s 15ms/step - loss: 0.0745 - accuracy: 0.9775 - val_loss: 0.0845 - val_accuracy: 0.9749\n",
      "Epoch 4/20\n",
      "469/469 [==============================] - 7s 15ms/step - loss: 0.0606 - accuracy: 0.9816 - val_loss: 0.0851 - val_accuracy: 0.9771\n",
      "Epoch 5/20\n",
      "469/469 [==============================] - 8s 17ms/step - loss: 0.0493 - accuracy: 0.9845 - val_loss: 0.0754 - val_accuracy: 0.9804\n",
      "Epoch 6/20\n",
      "469/469 [==============================] - 8s 16ms/step - loss: 0.0436 - accuracy: 0.9871 - val_loss: 0.0971 - val_accuracy: 0.9768\n",
      "Epoch 7/20\n",
      "469/469 [==============================] - 8s 17ms/step - loss: 0.0371 - accuracy: 0.9891 - val_loss: 0.0898 - val_accuracy: 0.9791\n",
      "Epoch 8/20\n",
      "469/469 [==============================] - 7s 16ms/step - loss: 0.0354 - accuracy: 0.9900 - val_loss: 0.0957 - val_accuracy: 0.9800\n",
      "Epoch 9/20\n",
      "469/469 [==============================] - 8s 17ms/step - loss: 0.0300 - accuracy: 0.9910 - val_loss: 0.0836 - val_accuracy: 0.9835\n",
      "Epoch 10/20\n",
      "469/469 [==============================] - 7s 16ms/step - loss: 0.0282 - accuracy: 0.9917 - val_loss: 0.0955 - val_accuracy: 0.9833\n",
      "Epoch 11/20\n",
      "469/469 [==============================] - 8s 16ms/step - loss: 0.0246 - accuracy: 0.9923 - val_loss: 0.1124 - val_accuracy: 0.9794\n",
      "Epoch 12/20\n",
      "469/469 [==============================] - 8s 17ms/step - loss: 0.0243 - accuracy: 0.9931 - val_loss: 0.0992 - val_accuracy: 0.9830\n",
      "Epoch 13/20\n",
      "469/469 [==============================] - 8s 17ms/step - loss: 0.0209 - accuracy: 0.9937 - val_loss: 0.1126 - val_accuracy: 0.9813\n",
      "Epoch 14/20\n",
      "469/469 [==============================] - 8s 16ms/step - loss: 0.0194 - accuracy: 0.9942 - val_loss: 0.1072 - val_accuracy: 0.9821\n",
      "Epoch 15/20\n",
      "469/469 [==============================] - 7s 16ms/step - loss: 0.0217 - accuracy: 0.9942 - val_loss: 0.1170 - val_accuracy: 0.9804\n",
      "Epoch 16/20\n",
      "469/469 [==============================] - 8s 17ms/step - loss: 0.0208 - accuracy: 0.9945 - val_loss: 0.1132 - val_accuracy: 0.9825\n",
      "Epoch 17/20\n",
      "469/469 [==============================] - 8s 16ms/step - loss: 0.0189 - accuracy: 0.9950 - val_loss: 0.1216 - val_accuracy: 0.9831\n",
      "Epoch 18/20\n",
      "469/469 [==============================] - 8s 18ms/step - loss: 0.0174 - accuracy: 0.9955 - val_loss: 0.1170 - val_accuracy: 0.9827\n",
      "Epoch 19/20\n",
      "469/469 [==============================] - 8s 18ms/step - loss: 0.0180 - accuracy: 0.9953 - val_loss: 0.1174 - val_accuracy: 0.9841\n",
      "Epoch 20/20\n",
      "469/469 [==============================] - 8s 17ms/step - loss: 0.0179 - accuracy: 0.9952 - val_loss: 0.1230 - val_accuracy: 0.9841\n",
      "Test loss: 0.12300080806016922\n",
      "Test accuracy: 0.9840999841690063\n"
     ]
    },
    {
     "data": {
      "image/png": "[encoded data removed]",
      "text/plain": [
       "<Figure size 432x288 with 1 Axes>"
      ]
     },
     "metadata": {
      "needs_background": "light"
     },
     "output_type": "display_data"
    },
    {
     "name": "stdout",
     "output_type": "stream",
     "text": [
      "Test cross-entropy loss: 0.12300080806016922\n",
      "Test misclassification rate: 0.015900015830993652\n",
      "Test accuracy: 0.9840999841690063\n"
     ]
    }
   ],
   "source": [
    "from tensorflow.keras.layers import Dropout\n",
    "\n",
    "print(x_test.shape)\n",
    "\n",
    "model = Sequential()\n",
    "model.add(Dense(512, activation='relu', input_shape=(784,)))\n",
    "model.add(Dropout(0.2))\n",
    "model.add(Dense(512, activation='relu'))\n",
    "model.add(Dropout(0.2))\n",
    "model.add(Dense(num_classes, activation='softmax'))\n",
    "\n",
    "model.summary()\n",
    "\n",
    "model.compile(loss='categorical_crossentropy',\n",
    "              optimizer=optimizer,\n",
    "              metrics=['accuracy'])\n",
    "\n",
    "history = model.fit(x_train, z_train,\n",
    "                    batch_size=batch_size,\n",
    "                    epochs=epochs,\n",
    "                    verbose=1,\n",
    "                    validation_data=(x_test, z_test))\n",
    "score = model.evaluate(x_test, z_test, verbose=0)\n",
    "print('Test loss:', score[0])\n",
    "print('Test accuracy:', score[1])\n",
    "\n",
    "#Visualize history (loss vs epochs)\n",
    "plt.figure()\n",
    "plt.plot(1-np.asarray(history.history['accuracy']))\n",
    "plt.plot(1-np.asarray(history.history['val_accuracy']))\n",
    "plt.title('model accuracy')\n",
    "plt.ylabel('misclassification')  \n",
    "plt.xlabel('epochs')\n",
    "plt.legend(['train','test'], loc='upper left')\n",
    "plt.grid('on')\n",
    "plt.show()\n",
    "\n",
    "score = model.evaluate(x_test, z_test, verbose=0)\n",
    "print('Test cross-entropy loss:', score[0])\n",
    "print('Test misclassification rate:', 1-score[1])\n",
    "print('Test accuracy:', score[1])"
   ]
  },
  {
   "cell_type": "markdown",
   "metadata": {},
   "source": [
    "We reach now 98.4% of correct classification!"
   ]
  },
  {
   "cell_type": "markdown",
   "metadata": {},
   "source": [
    "## Question/exercize\n",
    "- Sketch graphically the structure of the MLP implemanted above\n",
    "- Compue the number of unknown parameters of this model and compare with the information above\n",
    "- Compare this latter number to the quantity of available data for the earning process.  "
   ]
  },
  {
   "cell_type": "markdown",
   "metadata": {},
   "source": [
    "\n",
    "### Visualize the incorrect predictions:"
   ]
  },
  {
   "cell_type": "code",
   "execution_count": 14,
   "metadata": {},
   "outputs": [
    {
     "data": {
      "image/png": "[encoded data removed]",
      "text/plain": [
       "<Figure size 432x288 with 10 Axes>"
      ]
     },
     "metadata": {
      "needs_background": "light"
     },
     "output_type": "display_data"
    }
   ],
   "source": [
    "z_pred = model.predict(x_test)\n",
    "\n",
    "\n",
    "y_pred = np.argmax(z_pred,axis=1)\n",
    "index = np.where(y_pred - y_test != 0)\n",
    "im_test = x_test.reshape(10000, 28, 28)\n",
    "\n",
    "plt.figure()\n",
    "for i in range(10):\n",
    "  plt.subplot(2, 5, i + 1)\n",
    "  plt.axis('off')\n",
    "  plt.imshow(im_test[index[0][i],:,:], cmap=plt.cm.gray_r, interpolation='nearest')\n",
    "  plt.title(str(y_test[index[0][i]])+','+str(y_pred[index[0][i]]) )\n",
    "plt.show()"
   ]
  }
 ],
 "metadata": {
  "kernelspec": {
   "display_name": "Python 3",
   "language": "python",
   "name": "python3"
  },
  "language_info": {
   "codemirror_mode": {
    "name": "ipython",
    "version": 3
   },
   "file_extension": ".py",
   "mimetype": "text/x-python",
   "name": "python",
   "nbconvert_exporter": "python",
   "pygments_lexer": "ipython3",
   "version": "3.8.2"
  }
 },
 "nbformat": 4,
 "nbformat_minor": 4
}
