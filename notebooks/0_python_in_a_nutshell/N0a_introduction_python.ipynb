{
 "cells": [
  {
   "cell_type": "markdown",
   "metadata": {},
   "source": [
    "This notebook can be run on mybinder:  [![Binder](https://mybinder.org/badge_logo.svg)](https://mybinder.org/v2/git/https%3A%2F%2Fgricad-gitlab.univ-grenoble-alpes.fr%2Fai-courses%2Fautonomous_systems_ml/HEAD?urlpath=lab/tree/notebooks0_python_in_a_nutshell/N0a_introduction_python.ipynb)"
   ]
  },
  {
   "cell_type": "markdown",
   "metadata": {},
   "source": [
    "# IPython\n",
    "In the following, basics of Python and IPython are presented. In particular, the following items is covered:\n",
    "1. Data types in Python.\n",
    "2. Standard control structures.\n",
    "3. How to get help ? How to do completion ? How to *copy* or *past* from external file ?\n",
    "\n",
    "Most of this general introduction is based on the following book [Python Data Science Handbook](https://github.com/jakevdp/PythonDataScienceHandbook). The link goes to the GitHub pages with a lot of Notebooks available for download. A great source of information, among other things.\n",
    "\n",
    "## Data type in Python\n",
    "Python is a dynamic typed language: variables do not need to be explicitely declared. For instance \n",
    "`range(13)` create an interator of 13 integers from 0 to **12** (note that 13 is **not** included!). Thus it is possible to write this"
   ]
  },
  {
   "cell_type": "code",
   "execution_count": 1,
   "metadata": {},
   "outputs": [
    {
     "name": "stdout",
     "output_type": "stream",
     "text": [
      "accu = 78\n",
      "accu = I am string now\n"
     ]
    }
   ],
   "source": [
    "accu = 0\n",
    "for i in range(13): # range(13) create an interator of 13 integers from 0 to 12 (13 is not included!), \n",
    "    accu += i\n",
    "print(\"accu = {0}\".format(accu))\n",
    "accu = \"I am string now\"\n",
    "print(\"accu = {0}\".format(accu))"
   ]
  },
  {
   "cell_type": "markdown",
   "metadata": {},
   "source": [
    "We do not need to explicitely pass to python that **accu** is of particular type (int, float, etc ...): Python try to infer by itself the type of the variable. In the exemple above, **accu** is first an *integer*, then a *string*. By default a variable number is an *integer*, but Python can adapt the type depending on the operation. "
   ]
  },
  {
   "cell_type": "code",
   "execution_count": 2,
   "metadata": {},
   "outputs": [
    {
     "name": "stdout",
     "output_type": "stream",
     "text": [
      "A is of type <class 'int'>\n",
      "b = 5.0 and c = 3.3333333333333335\n"
     ]
    }
   ],
   "source": [
    "a = 10\n",
    "print(\"A is of type {0}\".format(type(a)))\n",
    "b = a / 2\n",
    "c = a / 3\n",
    "print(\"b = {0} and c = {1}\".format(b,c))"
   ]
  },
  {
   "cell_type": "markdown",
   "metadata": {},
   "source": [
    "A very convenient type of data structure in python is the **list**, which can be usefull to store different kind of data and have access to them in different ways"
   ]
  },
  {
   "cell_type": "code",
   "execution_count": 3,
   "metadata": {},
   "outputs": [
    {
     "name": "stdout",
     "output_type": "stream",
     "text": [
      "1\n",
      "10\n",
      "Toto\n"
     ]
    }
   ],
   "source": [
    "MyList = [1,10]\n",
    "print(MyList[0]) # Python index starts at zero\n",
    "print(MyList[1]) \n",
    "MyList.append(\"Toto\")\n",
    "print(MyList[-1]) # -1 print the last element"
   ]
  },
  {
   "cell_type": "markdown",
   "metadata": {},
   "source": [
    "It is also possible to *iterate* over the elements of the *list* (it is said in Python that a list is an *iterable*)"
   ]
  },
  {
   "cell_type": "code",
   "execution_count": 4,
   "metadata": {},
   "outputs": [
    {
     "name": "stdout",
     "output_type": "stream",
     "text": [
      "1\n",
      "10\n",
      "Toto\n"
     ]
    }
   ],
   "source": [
    "for l in MyList:\n",
    "    print(l)"
   ]
  },
  {
   "cell_type": "markdown",
   "metadata": {},
   "source": [
    "If *list* is an efficient way to store data, Python provide a more efficient data storage when it comes to array processing (matrix/vector operations, linear algebra ...). This will be discussed in the Scipy/Numpy section."
   ]
  },
  {
   "cell_type": "markdown",
   "metadata": {},
   "source": [
    "### Some exercices\n",
    "- Define a list that contains the following items: \"Parcours\", \"IA\", \"Numérique\", \"Ense3\"\n",
    "- Define a variable that is the sum of the first element and third element of the list and print the variable\n",
    "- Define a variable that is the product of the second element of the list and the number 10 and print the variable"
   ]
  },
  {
   "cell_type": "code",
   "execution_count": 5,
   "metadata": {},
   "outputs": [
    {
     "name": "stdout",
     "output_type": "stream",
     "text": [
      "ConferenceENSTA\n",
      "IAIAIAIAIAIAIAIAIAIA\n"
     ]
    }
   ],
   "source": [
    "TheList = [\"Conference\", \"IA\", \"ENSTA\", \"ParisTech\"]\n",
    "NewList = TheList[0] + TheList[2]\n",
    "print(NewList)\n",
    "var = TheList[1]*10\n",
    "print(var)"
   ]
  },
  {
   "cell_type": "markdown",
   "metadata": {},
   "source": [
    "### Python memory management\n",
    "Attention, per defaut Python does not copy values **but** it copies the variable reference (i.e. its address). If you not pay attention, it can lead to strange behavior."
   ]
  },
  {
   "cell_type": "code",
   "execution_count": 6,
   "metadata": {},
   "outputs": [
    {
     "name": "stdout",
     "output_type": "stream",
     "text": [
      "list3 = [1, 0, 3]\n",
      "list1 = [1, 0, 3]\n",
      "list3 = [4, 0, 6]\n",
      "list2 = [4, 5, 6]\n"
     ]
    }
   ],
   "source": [
    "list1 = [1, 2, 3]\n",
    "list2 = [4, 5, 6]\n",
    "list3 = list1 # create an alias on list1\n",
    "list3[1] = 0\n",
    "print(\"list3 = {0}\".format(list3)) # list3 is changed\n",
    "print(\"list1 = {0}\".format(list1)) # list1 is changed as list3\n",
    "\n",
    "\n",
    "# Usually there is a function dedicated to copy to a new variable the values of another variable\n",
    "list3 = list2.copy() # create another list instance initialized with the list2 element values\n",
    "list3[1] = 0\n",
    "print(\"list3 = {0}\".format(list3)) # list3 is changed \n",
    "print(\"list2 = {0}\".format(list2)) # list2 is not changes"
   ]
  },
  {
   "cell_type": "markdown",
   "metadata": {},
   "source": [
    "## Standard control structures\n",
    "Python has several conventional control structure. Some exemples are given below. The function *range* returns an iterable between the first paramter (include) and the last parameter (excluded). More detail [https://www.pythoncentral.io/pythons-range-function-explained/]."
   ]
  },
  {
   "cell_type": "code",
   "execution_count": 7,
   "metadata": {},
   "outputs": [
    {
     "name": "stdout",
     "output_type": "stream",
     "text": [
      "For operator\n",
      "i = 4\n",
      "i = 5\n",
      "i = 6\n",
      "i = 7\n",
      "i = 8\n",
      "If else then operator\n",
      "i = 8\n",
      "While operator\n",
      "i = 7\n",
      "i = 6\n",
      "i = 5\n",
      "i = 4\n",
      "i = 3\n",
      "i = 2\n",
      "i = 1\n",
      "i = 0\n"
     ]
    }
   ],
   "source": [
    "# For operator\n",
    "print(\"For operator\")\n",
    "for i in range(4,9):\n",
    "    print(\"i = {}\".format(i))\n",
    "# i is equal to 8 now    \n",
    "\n",
    "# If else then operator\n",
    "print(\"If else then operator\")\n",
    "if i == 10:\n",
    "    print(\"i==10\")\n",
    "elif i > 10:\n",
    "    print(\"i > 10\")\n",
    "else:\n",
    "    print(\"i = {}\".format(i))\n",
    "    \n",
    "# while operator\n",
    "print(\"While operator\")\n",
    "while i > 0:\n",
    "    i -= 1 # 1 is subtracted from i\n",
    "    print(\"i = {}\".format(i))"
   ]
  },
  {
   "cell_type": "markdown",
   "metadata": {},
   "source": [
    "To iterate over iterable, several convenient functions are available: *enumerate* allows to iterate over the data, and get the index value of the corresponding element:"
   ]
  },
  {
   "cell_type": "code",
   "execution_count": 8,
   "metadata": {},
   "outputs": [
    {
     "name": "stdout",
     "output_type": "stream",
     "text": [
      "Index = 0 and i = 5\n",
      "Sanity check: 5\n",
      "Index = 1 and i = 6\n",
      "Sanity check: 6\n",
      "Index = 2 and i = 7\n",
      "Sanity check: 7\n",
      "Index = 3 and i = 8\n",
      "Sanity check: 8\n",
      "Index = 4 and i = 9\n",
      "Sanity check: 9\n",
      "Index = 5 and i = 10\n",
      "Sanity check: 10\n",
      "Index = 6 and i = 11\n",
      "Sanity check: 11\n",
      "Index = 7 and i = 12\n",
      "Sanity check: 12\n",
      "Index = 8 and i = 13\n",
      "Sanity check: 13\n",
      "Index = 9 and i = 14\n",
      "Sanity check: 14\n"
     ]
    }
   ],
   "source": [
    "iterable = list(range(5,15))\n",
    "for index,i in enumerate(iterable):\n",
    "    print(\"Index = {0} and i = {1}\".format(index,i))\n",
    "    print(\"Sanity check: {0}\".format(iterable[index]))"
   ]
  },
  {
   "cell_type": "markdown",
   "metadata": {},
   "source": [
    "Furthermore, let us suppose we need to iterate over two lists (of the same size), the `zip` function allow to create a new iterable wich returns elements of the two list at the same time:"
   ]
  },
  {
   "cell_type": "code",
   "execution_count": 9,
   "metadata": {},
   "outputs": [
    {
     "name": "stdout",
     "output_type": "stream",
     "text": [
      "Benoit Geller\n",
      "Olivier Michel\n",
      "Florent Chatelain\n"
     ]
    }
   ],
   "source": [
    "list1 = [\"Benoit\", \"Olivier\", \"Florent\"]\n",
    "list2 = [\"Geller\", \"Michel\", \"Chatelain\"]\n",
    "for firstname, lastname in zip(list1, list2):\n",
    "    print(\"{0} {1}\".format(firstname, lastname))"
   ]
  },
  {
   "cell_type": "markdown",
   "metadata": {},
   "source": [
    "## Python user facilities\n",
    "Several tools and functions are provided by the language and the **ipyton** interpreter to help the user.\n",
    "\n",
    "### Get the documentation\n",
    "The documentation of the any function (given it was correctly implemented) is avalaible using the function `help` or the character `?` (*ipython only*). For instance, if we want to know what does the function `len`"
   ]
  },
  {
   "cell_type": "code",
   "execution_count": 10,
   "metadata": {},
   "outputs": [
    {
     "data": {
      "text/plain": [
       "3"
      ]
     },
     "execution_count": 10,
     "metadata": {},
     "output_type": "execute_result"
    }
   ],
   "source": [
    "len(list1)"
   ]
  },
  {
   "cell_type": "code",
   "execution_count": 11,
   "metadata": {
    "scrolled": true
   },
   "outputs": [
    {
     "name": "stdout",
     "output_type": "stream",
     "text": [
      "Help on built-in function len in module builtins:\n",
      "\n",
      "len(obj, /)\n",
      "    Return the number of items in a container.\n",
      "\n"
     ]
    }
   ],
   "source": [
    "help(len) # or equivalentely len?"
   ]
  },
  {
   "cell_type": "markdown",
   "metadata": {},
   "source": [
    "It also works with object:"
   ]
  },
  {
   "cell_type": "code",
   "execution_count": 12,
   "metadata": {},
   "outputs": [
    {
     "name": "stdout",
     "output_type": "stream",
     "text": [
      "Help on list object:\n",
      "\n",
      "class list(object)\n",
      " |  list(iterable=(), /)\n",
      " |  \n",
      " |  Built-in mutable sequence.\n",
      " |  \n",
      " |  If no argument is given, the constructor creates a new empty list.\n",
      " |  The argument must be an iterable if specified.\n",
      " |  \n",
      " |  Methods defined here:\n",
      " |  \n",
      " |  __add__(self, value, /)\n",
      " |      Return self+value.\n",
      " |  \n",
      " |  __contains__(self, key, /)\n",
      " |      Return key in self.\n",
      " |  \n",
      " |  __delitem__(self, key, /)\n",
      " |      Delete self[key].\n",
      " |  \n",
      " |  __eq__(self, value, /)\n",
      " |      Return self==value.\n",
      " |  \n",
      " |  __ge__(self, value, /)\n",
      " |      Return self>=value.\n",
      " |  \n",
      " |  __getattribute__(self, name, /)\n",
      " |      Return getattr(self, name).\n",
      " |  \n",
      " |  __getitem__(...)\n",
      " |      x.__getitem__(y) <==> x[y]\n",
      " |  \n",
      " |  __gt__(self, value, /)\n",
      " |      Return self>value.\n",
      " |  \n",
      " |  __iadd__(self, value, /)\n",
      " |      Implement self+=value.\n",
      " |  \n",
      " |  __imul__(self, value, /)\n",
      " |      Implement self*=value.\n",
      " |  \n",
      " |  __init__(self, /, *args, **kwargs)\n",
      " |      Initialize self.  See help(type(self)) for accurate signature.\n",
      " |  \n",
      " |  __iter__(self, /)\n",
      " |      Implement iter(self).\n",
      " |  \n",
      " |  __le__(self, value, /)\n",
      " |      Return self<=value.\n",
      " |  \n",
      " |  __len__(self, /)\n",
      " |      Return len(self).\n",
      " |  \n",
      " |  __lt__(self, value, /)\n",
      " |      Return self<value.\n",
      " |  \n",
      " |  __mul__(self, value, /)\n",
      " |      Return self*value.\n",
      " |  \n",
      " |  __ne__(self, value, /)\n",
      " |      Return self!=value.\n",
      " |  \n",
      " |  __repr__(self, /)\n",
      " |      Return repr(self).\n",
      " |  \n",
      " |  __reversed__(self, /)\n",
      " |      Return a reverse iterator over the list.\n",
      " |  \n",
      " |  __rmul__(self, value, /)\n",
      " |      Return value*self.\n",
      " |  \n",
      " |  __setitem__(self, key, value, /)\n",
      " |      Set self[key] to value.\n",
      " |  \n",
      " |  __sizeof__(self, /)\n",
      " |      Return the size of the list in memory, in bytes.\n",
      " |  \n",
      " |  append(self, object, /)\n",
      " |      Append object to the end of the list.\n",
      " |  \n",
      " |  clear(self, /)\n",
      " |      Remove all items from list.\n",
      " |  \n",
      " |  copy(self, /)\n",
      " |      Return a shallow copy of the list.\n",
      " |  \n",
      " |  count(self, value, /)\n",
      " |      Return number of occurrences of value.\n",
      " |  \n",
      " |  extend(self, iterable, /)\n",
      " |      Extend list by appending elements from the iterable.\n",
      " |  \n",
      " |  index(self, value, start=0, stop=9223372036854775807, /)\n",
      " |      Return first index of value.\n",
      " |      \n",
      " |      Raises ValueError if the value is not present.\n",
      " |  \n",
      " |  insert(self, index, object, /)\n",
      " |      Insert object before index.\n",
      " |  \n",
      " |  pop(self, index=-1, /)\n",
      " |      Remove and return item at index (default last).\n",
      " |      \n",
      " |      Raises IndexError if list is empty or index is out of range.\n",
      " |  \n",
      " |  remove(self, value, /)\n",
      " |      Remove first occurrence of value.\n",
      " |      \n",
      " |      Raises ValueError if the value is not present.\n",
      " |  \n",
      " |  reverse(self, /)\n",
      " |      Reverse *IN PLACE*.\n",
      " |  \n",
      " |  sort(self, /, *, key=None, reverse=False)\n",
      " |      Stable sort *IN PLACE*.\n",
      " |  \n",
      " |  ----------------------------------------------------------------------\n",
      " |  Static methods defined here:\n",
      " |  \n",
      " |  __new__(*args, **kwargs) from builtins.type\n",
      " |      Create and return a new object.  See help(type) for accurate signature.\n",
      " |  \n",
      " |  ----------------------------------------------------------------------\n",
      " |  Data and other attributes defined here:\n",
      " |  \n",
      " |  __hash__ = None\n",
      "\n"
     ]
    }
   ],
   "source": [
    "help(list1)"
   ]
  },
  {
   "cell_type": "code",
   "execution_count": 13,
   "metadata": {},
   "outputs": [
    {
     "data": {
      "text/plain": [
       "\u001b[0;31mSignature:\u001b[0m \u001b[0mlen\u001b[0m\u001b[0;34m(\u001b[0m\u001b[0mobj\u001b[0m\u001b[0;34m,\u001b[0m \u001b[0;34m/\u001b[0m\u001b[0;34m)\u001b[0m\u001b[0;34m\u001b[0m\u001b[0;34m\u001b[0m\u001b[0m\n",
       "\u001b[0;31mDocstring:\u001b[0m Return the number of items in a container.\n",
       "\u001b[0;31mType:\u001b[0m      builtin_function_or_method\n"
      ]
     },
     "metadata": {},
     "output_type": "display_data"
    }
   ],
   "source": [
    "len?"
   ]
  },
  {
   "cell_type": "markdown",
   "metadata": {},
   "source": [
    "### Autocompletion\n",
    "Ipython offers autocompletion mechanism (as in Shell for unix user) to explore attributes and functions of objects. It is available using the **Tab** key. For instance to get all the functions/attributes of *list1* you can write `list1.` and press **Tab** key\n"
   ]
  },
  {
   "cell_type": "code",
   "execution_count": null,
   "metadata": {},
   "outputs": [],
   "source": [
    "# use autocompletion to write list1.append(4)\n",
    "list1.\n"
   ]
  },
  {
   "cell_type": "markdown",
   "metadata": {},
   "source": [
    "Then, you can select what you need using the arrows (and off course, get help using *?*)"
   ]
  },
  {
   "cell_type": "code",
   "execution_count": null,
   "metadata": {},
   "outputs": [],
   "source": []
  }
 ],
 "metadata": {
  "kernelspec": {
   "display_name": "Python 3",
   "language": "python",
   "name": "python3"
  },
  "language_info": {
   "codemirror_mode": {
    "name": "ipython",
    "version": 3
   },
   "file_extension": ".py",
   "mimetype": "text/x-python",
   "name": "python",
   "nbconvert_exporter": "python",
   "pygments_lexer": "ipython3",
   "version": "3.7.9"
  },
  "widgets": {
   "application/vnd.jupyter.widget-state+json": {
    "state": {},
    "version_major": 2,
    "version_minor": 0
   }
  }
 },
 "nbformat": 4,
 "nbformat_minor": 4
}
