{
 "cells": [
  {
   "cell_type": "markdown",
   "metadata": {},
   "source": [
    "This notebook can be run on mybinder: [![Binder](https://mybinder.org/badge_logo.svg)](https://mybinder.org/v2/git/https%3A%2F%2Fgricad-gitlab.univ-grenoble-alpes.fr%2Fchatelaf%2Fconference-ia/master?urlpath=lab/tree/notebooks/3_principal_component_analysis/)"
   ]
  },
  {
   "cell_type": "markdown",
   "metadata": {},
   "source": [
    "# Olympic decathlon data\n",
    "\n",
    "This example is a short introduction to PCA analysis. The Data are performance marks on the ten [decathlon events](https://en.wikipedia.org/wiki/Decathlon) for 33 athletes at the Olympic Games (1988)."
   ]
  },
  {
   "cell_type": "markdown",
   "metadata": {},
   "source": [
    "The code cell below defines some useful functions to display summary statistics of PCA representation"
   ]
  },
  {
   "cell_type": "code",
   "execution_count": 9,
   "metadata": {
    "jupyter": {
     "source_hidden": true
    }
   },
   "outputs": [],
   "source": [
    "import matplotlib.pyplot as plt\n",
    "plt.rcParams.update({'font.size': 18})\n",
    "\n",
    "def scree_plot(pca):\n",
    "    PC_values = np.arange(pca.n_components_) + 1\n",
    "    PC_labels = ['PC' + str(nb+1) for nb in range(pca.n_components_)] \n",
    "    plt.figure(figsize=(8,6))\n",
    "    plt.bar(PC_values, pca.explained_variance_, linewidth=2, edgecolor='k')\n",
    "    plt.xticks(ticks=PC_values, labels=PC_labels)\n",
    "    plt.title('Scree Plot')\n",
    "    plt.xlabel('Principal Components')\n",
    "    plt.ylabel('Explained Variance ')\n",
    "    plt.show()\n",
    "        \n",
    "def pca_summary(pca, X, out=True):\n",
    "    \"\"\"Display a table of the explained std, proportion of variance, \n",
    "    and proportion of variance ratio for each component\n",
    "    \"\"\"\n",
    "    names = [\"PC\"+str(i) for i in range(1, len(pca.explained_variance_ratio_)+1)]\n",
    "    a = list(np.std(pca.transform(X), axis=0, ddof=1))\n",
    "    b = list(pca.explained_variance_ratio_)\n",
    "    c = [np.sum(pca.explained_variance_ratio_[:i]) for i in range(1, len(pca.explained_variance_ratio_)+1)]\n",
    "    columns = pd.MultiIndex.from_tuples([(\"sdev\", \"Standard deviation\"), (\"varprop\", \"Proportion of Variance\"), (\"cumprop\", \"Cumulative Proportion\")])\n",
    "    summary = pd.DataFrame(list(zip(a, b, c)), index=names, columns=columns)\n",
    "    if out:\n",
    "        print(\"Importance of components:\")\n",
    "        display(summary)\n",
    "    return summary\n",
    "\n",
    "def biplot2D(score,coeff,labels=None):\n",
    "    \"\"\"Generate biplot for the first two principal components \n",
    "    to display both scores and variables\n",
    "    \"\"\"\n",
    "    \n",
    "    xs = score[:,0] # projection on PC1\n",
    "    ys = score[:,1] # projection on PC2\n",
    "    p = coeff.shape[1]\n",
    "    n = score.shape[0]\n",
    "    \n",
    "    fig, ax = plt.subplots(figsize=(10,8))\n",
    "    # plot the scores with the index of the sample\n",
    "    ax.scatter(xs, ys, marker=\".\", color = 'k')\n",
    "    for i in range(33):\n",
    "        ax.text(xs[i], ys[i], str(i), color = 'k')\n",
    "    ax.set_xlabel(\"PC{}\".format(1))\n",
    "    ax.set_ylabel(\"PC{}\".format(2))\n",
    "    \n",
    "    # plot the variable vectors (arrow) in the PC plane (loadings)  \n",
    "    arrow_sc = 1.15 \n",
    "    color = 'tab:red'\n",
    "    ax2 = ax.twinx() # instantiate a second x axe\n",
    "    ax2.set_ylim(-1.2,1.2)\n",
    "    ax2.tick_params(axis='y', labelcolor=color)\n",
    "    ax2 = ax2.twiny() # instantiate a second y axe\n",
    "    ax2.set_xlim(-1.2,1.2)\n",
    "    ax2.tick_params(axis='x', labelcolor=color)\n",
    "    for i in range(p):\n",
    "        ax2.arrow(0, 0, coeff[0, i], coeff[1, i], color =  color ,alpha = 0.5, \n",
    "                  linestyle = '-',linewidth = 1.5, head_width=0.02, head_length=0.02)\n",
    "        if labels is None:\n",
    "            ax2.text(coeff[0, i]* arrow_sc, coeff[1,i] * arrow_sc, \"Var\"+str(i+1), \n",
    "                     color = color, ha = 'center', va = 'center')\n",
    "        else:\n",
    "            ax2.text(coeff[0, i]* arrow_sc, coeff[1, i] * arrow_sc, labels[i], \n",
    "                     color = color, ha = 'center', va = 'center')"
   ]
  },
  {
   "cell_type": "markdown",
   "metadata": {},
   "source": [
    "## Dataset\n",
    "\n",
    "#### Load olympic dataset contained in the text file `olympic.csv` (*Warning:* copy  this data file in the notebook directory)"
   ]
  },
  {
   "cell_type": "code",
   "execution_count": 10,
   "metadata": {},
   "outputs": [
    {
     "data": {
      "text/html": [
       "<div>\n",
       "<style scoped>\n",
       "    .dataframe tbody tr th:only-of-type {\n",
       "        vertical-align: middle;\n",
       "    }\n",
       "\n",
       "    .dataframe tbody tr th {\n",
       "        vertical-align: top;\n",
       "    }\n",
       "\n",
       "    .dataframe thead th {\n",
       "        text-align: right;\n",
       "    }\n",
       "</style>\n",
       "<table border=\"1\" class=\"dataframe\">\n",
       "  <thead>\n",
       "    <tr style=\"text-align: right;\">\n",
       "      <th></th>\n",
       "      <th>100</th>\n",
       "      <th>long</th>\n",
       "      <th>poid</th>\n",
       "      <th>haut</th>\n",
       "      <th>400</th>\n",
       "      <th>110</th>\n",
       "      <th>disq</th>\n",
       "      <th>perc</th>\n",
       "      <th>jave</th>\n",
       "      <th>1500</th>\n",
       "    </tr>\n",
       "  </thead>\n",
       "  <tbody>\n",
       "    <tr>\n",
       "      <th>0</th>\n",
       "      <td>11.25</td>\n",
       "      <td>7.43</td>\n",
       "      <td>15.48</td>\n",
       "      <td>2.27</td>\n",
       "      <td>48.90</td>\n",
       "      <td>15.13</td>\n",
       "      <td>49.28</td>\n",
       "      <td>4.7</td>\n",
       "      <td>61.32</td>\n",
       "      <td>268.95</td>\n",
       "    </tr>\n",
       "    <tr>\n",
       "      <th>1</th>\n",
       "      <td>10.87</td>\n",
       "      <td>7.45</td>\n",
       "      <td>14.97</td>\n",
       "      <td>1.97</td>\n",
       "      <td>47.71</td>\n",
       "      <td>14.46</td>\n",
       "      <td>44.36</td>\n",
       "      <td>5.1</td>\n",
       "      <td>61.76</td>\n",
       "      <td>273.02</td>\n",
       "    </tr>\n",
       "    <tr>\n",
       "      <th>2</th>\n",
       "      <td>11.18</td>\n",
       "      <td>7.44</td>\n",
       "      <td>14.20</td>\n",
       "      <td>1.97</td>\n",
       "      <td>48.29</td>\n",
       "      <td>14.81</td>\n",
       "      <td>43.66</td>\n",
       "      <td>5.2</td>\n",
       "      <td>64.16</td>\n",
       "      <td>263.20</td>\n",
       "    </tr>\n",
       "    <tr>\n",
       "      <th>3</th>\n",
       "      <td>10.62</td>\n",
       "      <td>7.38</td>\n",
       "      <td>15.02</td>\n",
       "      <td>2.03</td>\n",
       "      <td>49.06</td>\n",
       "      <td>14.72</td>\n",
       "      <td>44.80</td>\n",
       "      <td>4.9</td>\n",
       "      <td>64.04</td>\n",
       "      <td>285.11</td>\n",
       "    </tr>\n",
       "    <tr>\n",
       "      <th>4</th>\n",
       "      <td>11.02</td>\n",
       "      <td>7.43</td>\n",
       "      <td>12.92</td>\n",
       "      <td>1.97</td>\n",
       "      <td>47.44</td>\n",
       "      <td>14.40</td>\n",
       "      <td>41.20</td>\n",
       "      <td>5.2</td>\n",
       "      <td>57.46</td>\n",
       "      <td>256.64</td>\n",
       "    </tr>\n",
       "  </tbody>\n",
       "</table>\n",
       "</div>"
      ],
      "text/plain": [
       "     100  long   poid  haut    400    110   disq  perc   jave    1500\n",
       "0  11.25  7.43  15.48  2.27  48.90  15.13  49.28   4.7  61.32  268.95\n",
       "1  10.87  7.45  14.97  1.97  47.71  14.46  44.36   5.1  61.76  273.02\n",
       "2  11.18  7.44  14.20  1.97  48.29  14.81  43.66   5.2  64.16  263.20\n",
       "3  10.62  7.38  15.02  2.03  49.06  14.72  44.80   4.9  64.04  285.11\n",
       "4  11.02  7.43  12.92  1.97  47.44  14.40  41.20   5.2  57.46  256.64"
      ]
     },
     "execution_count": 10,
     "metadata": {},
     "output_type": "execute_result"
    }
   ],
   "source": [
    "import pandas as pd\n",
    "import numpy as np\n",
    "\n",
    "\n",
    "#load data set\n",
    "olympic = pd.read_csv('olympic.csv', sep=',', header=0)\n",
    "olympic.head() #data overview: variable names and first rows"
   ]
  },
  {
   "cell_type": "markdown",
   "metadata": {},
   "source": [
    "#### Display some descriptive statistics for this dataset"
   ]
  },
  {
   "cell_type": "code",
   "execution_count": 11,
   "metadata": {},
   "outputs": [
    {
     "data": {
      "text/html": [
       "<div>\n",
       "<style scoped>\n",
       "    .dataframe tbody tr th:only-of-type {\n",
       "        vertical-align: middle;\n",
       "    }\n",
       "\n",
       "    .dataframe tbody tr th {\n",
       "        vertical-align: top;\n",
       "    }\n",
       "\n",
       "    .dataframe thead th {\n",
       "        text-align: right;\n",
       "    }\n",
       "</style>\n",
       "<table border=\"1\" class=\"dataframe\">\n",
       "  <thead>\n",
       "    <tr style=\"text-align: right;\">\n",
       "      <th></th>\n",
       "      <th>100</th>\n",
       "      <th>long</th>\n",
       "      <th>poid</th>\n",
       "      <th>haut</th>\n",
       "      <th>400</th>\n",
       "      <th>110</th>\n",
       "      <th>disq</th>\n",
       "      <th>perc</th>\n",
       "      <th>jave</th>\n",
       "      <th>1500</th>\n",
       "    </tr>\n",
       "  </thead>\n",
       "  <tbody>\n",
       "    <tr>\n",
       "      <th>count</th>\n",
       "      <td>33.000000</td>\n",
       "      <td>33.000000</td>\n",
       "      <td>33.000000</td>\n",
       "      <td>33.000000</td>\n",
       "      <td>33.000000</td>\n",
       "      <td>33.000000</td>\n",
       "      <td>33.000000</td>\n",
       "      <td>33.000000</td>\n",
       "      <td>33.000000</td>\n",
       "      <td>33.000000</td>\n",
       "    </tr>\n",
       "    <tr>\n",
       "      <th>mean</th>\n",
       "      <td>11.196364</td>\n",
       "      <td>7.133333</td>\n",
       "      <td>13.976364</td>\n",
       "      <td>1.982727</td>\n",
       "      <td>49.276667</td>\n",
       "      <td>15.048788</td>\n",
       "      <td>42.353939</td>\n",
       "      <td>4.739394</td>\n",
       "      <td>59.438788</td>\n",
       "      <td>276.038485</td>\n",
       "    </tr>\n",
       "    <tr>\n",
       "      <th>std</th>\n",
       "      <td>0.243321</td>\n",
       "      <td>0.304340</td>\n",
       "      <td>1.331991</td>\n",
       "      <td>0.093984</td>\n",
       "      <td>1.069660</td>\n",
       "      <td>0.506765</td>\n",
       "      <td>3.719131</td>\n",
       "      <td>0.334421</td>\n",
       "      <td>5.495998</td>\n",
       "      <td>13.657098</td>\n",
       "    </tr>\n",
       "    <tr>\n",
       "      <th>min</th>\n",
       "      <td>10.620000</td>\n",
       "      <td>6.220000</td>\n",
       "      <td>10.270000</td>\n",
       "      <td>1.790000</td>\n",
       "      <td>47.440000</td>\n",
       "      <td>14.180000</td>\n",
       "      <td>34.360000</td>\n",
       "      <td>4.000000</td>\n",
       "      <td>49.520000</td>\n",
       "      <td>256.640000</td>\n",
       "    </tr>\n",
       "    <tr>\n",
       "      <th>25%</th>\n",
       "      <td>11.020000</td>\n",
       "      <td>7.000000</td>\n",
       "      <td>13.150000</td>\n",
       "      <td>1.940000</td>\n",
       "      <td>48.340000</td>\n",
       "      <td>14.720000</td>\n",
       "      <td>39.080000</td>\n",
       "      <td>4.600000</td>\n",
       "      <td>55.420000</td>\n",
       "      <td>266.420000</td>\n",
       "    </tr>\n",
       "    <tr>\n",
       "      <th>50%</th>\n",
       "      <td>11.180000</td>\n",
       "      <td>7.090000</td>\n",
       "      <td>14.120000</td>\n",
       "      <td>1.970000</td>\n",
       "      <td>49.150000</td>\n",
       "      <td>15.000000</td>\n",
       "      <td>42.320000</td>\n",
       "      <td>4.700000</td>\n",
       "      <td>59.480000</td>\n",
       "      <td>272.060000</td>\n",
       "    </tr>\n",
       "    <tr>\n",
       "      <th>75%</th>\n",
       "      <td>11.430000</td>\n",
       "      <td>7.370000</td>\n",
       "      <td>14.970000</td>\n",
       "      <td>2.030000</td>\n",
       "      <td>49.980000</td>\n",
       "      <td>15.380000</td>\n",
       "      <td>44.800000</td>\n",
       "      <td>4.900000</td>\n",
       "      <td>64.000000</td>\n",
       "      <td>286.040000</td>\n",
       "    </tr>\n",
       "    <tr>\n",
       "      <th>max</th>\n",
       "      <td>11.570000</td>\n",
       "      <td>7.720000</td>\n",
       "      <td>16.600000</td>\n",
       "      <td>2.270000</td>\n",
       "      <td>51.280000</td>\n",
       "      <td>16.200000</td>\n",
       "      <td>50.660000</td>\n",
       "      <td>5.700000</td>\n",
       "      <td>72.600000</td>\n",
       "      <td>303.170000</td>\n",
       "    </tr>\n",
       "  </tbody>\n",
       "</table>\n",
       "</div>"
      ],
      "text/plain": [
       "             100       long       poid       haut        400        110  \\\n",
       "count  33.000000  33.000000  33.000000  33.000000  33.000000  33.000000   \n",
       "mean   11.196364   7.133333  13.976364   1.982727  49.276667  15.048788   \n",
       "std     0.243321   0.304340   1.331991   0.093984   1.069660   0.506765   \n",
       "min    10.620000   6.220000  10.270000   1.790000  47.440000  14.180000   \n",
       "25%    11.020000   7.000000  13.150000   1.940000  48.340000  14.720000   \n",
       "50%    11.180000   7.090000  14.120000   1.970000  49.150000  15.000000   \n",
       "75%    11.430000   7.370000  14.970000   2.030000  49.980000  15.380000   \n",
       "max    11.570000   7.720000  16.600000   2.270000  51.280000  16.200000   \n",
       "\n",
       "            disq       perc       jave        1500  \n",
       "count  33.000000  33.000000  33.000000   33.000000  \n",
       "mean   42.353939   4.739394  59.438788  276.038485  \n",
       "std     3.719131   0.334421   5.495998   13.657098  \n",
       "min    34.360000   4.000000  49.520000  256.640000  \n",
       "25%    39.080000   4.600000  55.420000  266.420000  \n",
       "50%    42.320000   4.700000  59.480000  272.060000  \n",
       "75%    44.800000   4.900000  64.000000  286.040000  \n",
       "max    50.660000   5.700000  72.600000  303.170000  "
      ]
     },
     "execution_count": 11,
     "metadata": {},
     "output_type": "execute_result"
    }
   ],
   "source": [
    "olympic.describe()"
   ]
  },
  {
   "cell_type": "markdown",
   "metadata": {},
   "source": [
    "We can guess on the table above that the *running* event performances are measured in seconds, while the *jumping* or *throwing* ones are in meters."
   ]
  },
  {
   "cell_type": "markdown",
   "metadata": {},
   "source": [
    "## PCA"
   ]
  },
  {
   "cell_type": "markdown",
   "metadata": {},
   "source": [
    "Make *PCA* on decathlon event scores data $X \\in \\mathbb{R}^{n \\times p}$: $n=33$ samples (athletes), $p=10$ variables/features (decathlon events)"
   ]
  },
  {
   "cell_type": "code",
   "execution_count": 12,
   "metadata": {},
   "outputs": [],
   "source": [
    "from sklearn.decomposition import PCA\n",
    "pca = PCA()\n",
    "olympic_pc = pca.fit_transform(olympic) # get the Principal components"
   ]
  },
  {
   "cell_type": "markdown",
   "metadata": {},
   "source": [
    "How is the distribution of component variances/eigenvalues $\\lambda_i^2$, $1 \\le i \\le p$ ? Let's visualize the **screeplot**"
   ]
  },
  {
   "cell_type": "code",
   "execution_count": 13,
   "metadata": {},
   "outputs": [
    {
     "data": {
      "image/png": "[encoded data removed]",
      "text/plain": [
       "<Figure size 576x432 with 1 Axes>"
      ]
     },
     "metadata": {
      "needs_background": "light"
     },
     "output_type": "display_data"
    }
   ],
   "source": [
    "scree_plot(pca)"
   ]
  },
  {
   "cell_type": "markdown",
   "metadata": {},
   "source": [
    "#### Display a summary of PCA representation"
   ]
  },
  {
   "cell_type": "code",
   "execution_count": 14,
   "metadata": {},
   "outputs": [
    {
     "name": "stdout",
     "output_type": "stream",
     "text": [
      "Importance of components:\n"
     ]
    },
    {
     "data": {
      "text/html": [
       "<div>\n",
       "<style scoped>\n",
       "    .dataframe tbody tr th:only-of-type {\n",
       "        vertical-align: middle;\n",
       "    }\n",
       "\n",
       "    .dataframe tbody tr th {\n",
       "        vertical-align: top;\n",
       "    }\n",
       "\n",
       "    .dataframe thead tr th {\n",
       "        text-align: left;\n",
       "    }\n",
       "</style>\n",
       "<table border=\"1\" class=\"dataframe\">\n",
       "  <thead>\n",
       "    <tr>\n",
       "      <th></th>\n",
       "      <th>sdev</th>\n",
       "      <th>varprop</th>\n",
       "      <th>cumprop</th>\n",
       "    </tr>\n",
       "    <tr>\n",
       "      <th></th>\n",
       "      <th>Standard deviation</th>\n",
       "      <th>Proportion of Variance</th>\n",
       "      <th>Cumulative Proportion</th>\n",
       "    </tr>\n",
       "  </thead>\n",
       "  <tbody>\n",
       "    <tr>\n",
       "      <th>PC1</th>\n",
       "      <td>13.780719</td>\n",
       "      <td>0.811567</td>\n",
       "      <td>0.811567</td>\n",
       "    </tr>\n",
       "    <tr>\n",
       "      <th>PC2</th>\n",
       "      <td>5.804303</td>\n",
       "      <td>0.143973</td>\n",
       "      <td>0.955540</td>\n",
       "    </tr>\n",
       "    <tr>\n",
       "      <th>PC3</th>\n",
       "      <td>2.960659</td>\n",
       "      <td>0.037459</td>\n",
       "      <td>0.992999</td>\n",
       "    </tr>\n",
       "    <tr>\n",
       "      <th>PC4</th>\n",
       "      <td>0.940615</td>\n",
       "      <td>0.003781</td>\n",
       "      <td>0.996780</td>\n",
       "    </tr>\n",
       "    <tr>\n",
       "      <th>PC5</th>\n",
       "      <td>0.698113</td>\n",
       "      <td>0.002083</td>\n",
       "      <td>0.998863</td>\n",
       "    </tr>\n",
       "    <tr>\n",
       "      <th>PC6</th>\n",
       "      <td>0.346530</td>\n",
       "      <td>0.000513</td>\n",
       "      <td>0.999376</td>\n",
       "    </tr>\n",
       "    <tr>\n",
       "      <th>PC7</th>\n",
       "      <td>0.247437</td>\n",
       "      <td>0.000262</td>\n",
       "      <td>0.999637</td>\n",
       "    </tr>\n",
       "    <tr>\n",
       "      <th>PC8</th>\n",
       "      <td>0.231472</td>\n",
       "      <td>0.000229</td>\n",
       "      <td>0.999866</td>\n",
       "    </tr>\n",
       "    <tr>\n",
       "      <th>PC9</th>\n",
       "      <td>0.156289</td>\n",
       "      <td>0.000104</td>\n",
       "      <td>0.999971</td>\n",
       "    </tr>\n",
       "    <tr>\n",
       "      <th>PC10</th>\n",
       "      <td>0.082793</td>\n",
       "      <td>0.000029</td>\n",
       "      <td>1.000000</td>\n",
       "    </tr>\n",
       "  </tbody>\n",
       "</table>\n",
       "</div>"
      ],
      "text/plain": [
       "                   sdev                varprop               cumprop\n",
       "     Standard deviation Proportion of Variance Cumulative Proportion\n",
       "PC1           13.780719               0.811567              0.811567\n",
       "PC2            5.804303               0.143973              0.955540\n",
       "PC3            2.960659               0.037459              0.992999\n",
       "PC4            0.940615               0.003781              0.996780\n",
       "PC5            0.698113               0.002083              0.998863\n",
       "PC6            0.346530               0.000513              0.999376\n",
       "PC7            0.247437               0.000262              0.999637\n",
       "PC8            0.231472               0.000229              0.999866\n",
       "PC9            0.156289               0.000104              0.999971\n",
       "PC10           0.082793               0.000029              1.000000"
      ]
     },
     "metadata": {},
     "output_type": "display_data"
    }
   ],
   "source": [
    "pca_summary(pca, olympic) ;"
   ]
  },
  {
   "cell_type": "markdown",
   "metadata": {},
   "source": [
    "#### Dsiplay the biplot\n",
    "\n",
    "The *biplot* gives a graphical summary of both samples (athletes) in terms of scores and the\n",
    "variables/features in terms of loadings\n"
   ]
  },
  {
   "cell_type": "code",
   "execution_count": 15,
   "metadata": {},
   "outputs": [
    {
     "data": {
      "image/png": "[encoded data removed]",
      "text/plain": [
       "<Figure size 720x576 with 3 Axes>"
      ]
     },
     "metadata": {
      "needs_background": "light"
     },
     "output_type": "display_data"
    }
   ],
   "source": [
    "#Call the function. Use only the 2 PCs.\n",
    "biplot2D(olympic_pc[:,0:2], pca.components_[0:2, :], olympic.columns)\n",
    "plt.show()"
   ]
  },
  {
   "cell_type": "markdown",
   "metadata": {},
   "source": [
    "From this plot above, we see that the first principal component is positively associated with longer times on the 1500.  \n",
    "\n",
    "We can compare the athlete '1500' event mark with their score with the first component to check that slower runners will have higher value on this component, and vice versa."
   ]
  },
  {
   "cell_type": "code",
   "execution_count": 16,
   "metadata": {},
   "outputs": [
    {
     "name": "stdout",
     "output_type": "stream",
     "text": [
      "Average 1500 event mark (seconds) == 276.04\n"
     ]
    },
    {
     "data": {
      "text/html": [
       "<div>\n",
       "<style scoped>\n",
       "    .dataframe tbody tr th:only-of-type {\n",
       "        vertical-align: middle;\n",
       "    }\n",
       "\n",
       "    .dataframe tbody tr th {\n",
       "        vertical-align: top;\n",
       "    }\n",
       "\n",
       "    .dataframe thead th {\n",
       "        text-align: right;\n",
       "    }\n",
       "</style>\n",
       "<table border=\"1\" class=\"dataframe\">\n",
       "  <thead>\n",
       "    <tr style=\"text-align: right;\">\n",
       "      <th></th>\n",
       "      <th>1500</th>\n",
       "      <th>score PC1</th>\n",
       "    </tr>\n",
       "  </thead>\n",
       "  <tbody>\n",
       "    <tr>\n",
       "      <th>0</th>\n",
       "      <td>268.95</td>\n",
       "      <td>-6.073747</td>\n",
       "    </tr>\n",
       "    <tr>\n",
       "      <th>1</th>\n",
       "      <td>273.02</td>\n",
       "      <td>-2.678254</td>\n",
       "    </tr>\n",
       "    <tr>\n",
       "      <th>2</th>\n",
       "      <td>263.20</td>\n",
       "      <td>-12.350157</td>\n",
       "    </tr>\n",
       "    <tr>\n",
       "      <th>3</th>\n",
       "      <td>285.11</td>\n",
       "      <td>9.526886</td>\n",
       "    </tr>\n",
       "    <tr>\n",
       "      <th>4</th>\n",
       "      <td>256.64</td>\n",
       "      <td>-19.567241</td>\n",
       "    </tr>\n",
       "    <tr>\n",
       "      <th>5</th>\n",
       "      <td>274.07</td>\n",
       "      <td>-2.312197</td>\n",
       "    </tr>\n",
       "    <tr>\n",
       "      <th>6</th>\n",
       "      <td>291.20</td>\n",
       "      <td>15.048108</td>\n",
       "    </tr>\n",
       "    <tr>\n",
       "      <th>7</th>\n",
       "      <td>265.86</td>\n",
       "      <td>-10.023305</td>\n",
       "    </tr>\n",
       "    <tr>\n",
       "      <th>8</th>\n",
       "      <td>269.62</td>\n",
       "      <td>-5.976738</td>\n",
       "    </tr>\n",
       "    <tr>\n",
       "      <th>9</th>\n",
       "      <td>292.24</td>\n",
       "      <td>16.717007</td>\n",
       "    </tr>\n",
       "    <tr>\n",
       "      <th>10</th>\n",
       "      <td>295.89</td>\n",
       "      <td>20.035975</td>\n",
       "    </tr>\n",
       "    <tr>\n",
       "      <th>11</th>\n",
       "      <td>256.74</td>\n",
       "      <td>-18.719931</td>\n",
       "    </tr>\n",
       "    <tr>\n",
       "      <th>12</th>\n",
       "      <td>257.85</td>\n",
       "      <td>-18.560607</td>\n",
       "    </tr>\n",
       "    <tr>\n",
       "      <th>13</th>\n",
       "      <td>268.97</td>\n",
       "      <td>-6.525485</td>\n",
       "    </tr>\n",
       "    <tr>\n",
       "      <th>14</th>\n",
       "      <td>267.48</td>\n",
       "      <td>-8.325840</td>\n",
       "    </tr>\n",
       "    <tr>\n",
       "      <th>15</th>\n",
       "      <td>268.54</td>\n",
       "      <td>-7.399971</td>\n",
       "    </tr>\n",
       "    <tr>\n",
       "      <th>16</th>\n",
       "      <td>302.42</td>\n",
       "      <td>27.955984</td>\n",
       "    </tr>\n",
       "    <tr>\n",
       "      <th>17</th>\n",
       "      <td>286.04</td>\n",
       "      <td>10.557231</td>\n",
       "    </tr>\n",
       "    <tr>\n",
       "      <th>18</th>\n",
       "      <td>262.41</td>\n",
       "      <td>-14.219786</td>\n",
       "    </tr>\n",
       "    <tr>\n",
       "      <th>19</th>\n",
       "      <td>277.84</td>\n",
       "      <td>2.263717</td>\n",
       "    </tr>\n",
       "    <tr>\n",
       "      <th>20</th>\n",
       "      <td>266.42</td>\n",
       "      <td>-9.507875</td>\n",
       "    </tr>\n",
       "    <tr>\n",
       "      <th>21</th>\n",
       "      <td>262.93</td>\n",
       "      <td>-13.229322</td>\n",
       "    </tr>\n",
       "    <tr>\n",
       "      <th>22</th>\n",
       "      <td>272.68</td>\n",
       "      <td>-2.995763</td>\n",
       "    </tr>\n",
       "    <tr>\n",
       "      <th>23</th>\n",
       "      <td>277.84</td>\n",
       "      <td>1.098877</td>\n",
       "    </tr>\n",
       "    <tr>\n",
       "      <th>24</th>\n",
       "      <td>285.57</td>\n",
       "      <td>8.574457</td>\n",
       "    </tr>\n",
       "    <tr>\n",
       "      <th>25</th>\n",
       "      <td>270.07</td>\n",
       "      <td>-6.798120</td>\n",
       "    </tr>\n",
       "    <tr>\n",
       "      <th>26</th>\n",
       "      <td>261.90</td>\n",
       "      <td>-15.095428</td>\n",
       "    </tr>\n",
       "    <tr>\n",
       "      <th>27</th>\n",
       "      <td>303.17</td>\n",
       "      <td>27.202497</td>\n",
       "    </tr>\n",
       "    <tr>\n",
       "      <th>28</th>\n",
       "      <td>272.06</td>\n",
       "      <td>-4.895252</td>\n",
       "    </tr>\n",
       "    <tr>\n",
       "      <th>29</th>\n",
       "      <td>293.85</td>\n",
       "      <td>17.291469</td>\n",
       "    </tr>\n",
       "    <tr>\n",
       "      <th>30</th>\n",
       "      <td>294.99</td>\n",
       "      <td>19.234705</td>\n",
       "    </tr>\n",
       "    <tr>\n",
       "      <th>31</th>\n",
       "      <td>293.72</td>\n",
       "      <td>16.965757</td>\n",
       "    </tr>\n",
       "    <tr>\n",
       "      <th>32</th>\n",
       "      <td>269.98</td>\n",
       "      <td>-7.217652</td>\n",
       "    </tr>\n",
       "  </tbody>\n",
       "</table>\n",
       "</div>"
      ],
      "text/plain": [
       "      1500  score PC1\n",
       "0   268.95  -6.073747\n",
       "1   273.02  -2.678254\n",
       "2   263.20 -12.350157\n",
       "3   285.11   9.526886\n",
       "4   256.64 -19.567241\n",
       "5   274.07  -2.312197\n",
       "6   291.20  15.048108\n",
       "7   265.86 -10.023305\n",
       "8   269.62  -5.976738\n",
       "9   292.24  16.717007\n",
       "10  295.89  20.035975\n",
       "11  256.74 -18.719931\n",
       "12  257.85 -18.560607\n",
       "13  268.97  -6.525485\n",
       "14  267.48  -8.325840\n",
       "15  268.54  -7.399971\n",
       "16  302.42  27.955984\n",
       "17  286.04  10.557231\n",
       "18  262.41 -14.219786\n",
       "19  277.84   2.263717\n",
       "20  266.42  -9.507875\n",
       "21  262.93 -13.229322\n",
       "22  272.68  -2.995763\n",
       "23  277.84   1.098877\n",
       "24  285.57   8.574457\n",
       "25  270.07  -6.798120\n",
       "26  261.90 -15.095428\n",
       "27  303.17  27.202497\n",
       "28  272.06  -4.895252\n",
       "29  293.85  17.291469\n",
       "30  294.99  19.234705\n",
       "31  293.72  16.965757\n",
       "32  269.98  -7.217652"
      ]
     },
     "execution_count": 16,
     "metadata": {},
     "output_type": "execute_result"
    }
   ],
   "source": [
    "print('Average 1500 event mark (seconds) == {:.2f}'.format(olympic['1500'].mean()) )\n",
    "pd.DataFrame(list(zip(olympic['1500'],olympic_pc[:,0])), columns=['1500', 'score PC1'])"
   ]
  },
  {
   "cell_type": "code",
   "execution_count": 9,
   "metadata": {},
   "outputs": [
    {
     "data": {
      "text/plain": [
       "Text(0, 0.5, 'PC1')"
      ]
     },
     "execution_count": 9,
     "metadata": {},
     "output_type": "execute_result"
    },
    {
     "data": {
      "image/png": "[encoded data removed]",
      "text/plain": [
       "<Figure size 864x720 with 1 Axes>"
      ]
     },
     "metadata": {
      "needs_background": "light"
     },
     "output_type": "display_data"
    }
   ],
   "source": [
    "plt.figure(figsize=(12,10))\n",
    "plt.plot(olympic['1500'],olympic_pc[:,0],'k.')\n",
    "for i in range(len(olympic_pc[:,0])):\n",
    "    plt.text(olympic['1500'][i], olympic_pc[i,0], str(i), color = 'k')\n",
    "plt.xlabel('1500 time (s)')\n",
    "plt.ylabel('PC1')"
   ]
  },
  {
   "cell_type": "markdown",
   "metadata": {},
   "source": [
    "So the correlation is almost perfect between the `1500`event and the first principal component!"
   ]
  },
  {
   "cell_type": "markdown",
   "metadata": {},
   "source": [
    "Moreover, the previous biplot shows that the *second main component* is correlated with the force in the form of a long *javelin* throw."
   ]
  },
  {
   "cell_type": "code",
   "execution_count": 10,
   "metadata": {},
   "outputs": [
    {
     "data": {
      "text/plain": [
       "Text(0, 0.5, 'PC2')"
      ]
     },
     "execution_count": 10,
     "metadata": {},
     "output_type": "execute_result"
    },
    {
     "data": {
      "image/png": "[encoded data removed]",
      "text/plain": [
       "<Figure size 864x720 with 1 Axes>"
      ]
     },
     "metadata": {
      "needs_background": "light"
     },
     "output_type": "display_data"
    }
   ],
   "source": [
    "plt.figure(figsize=(12,10))\n",
    "plt.plot(olympic['jave'],olympic_pc[:,1],'k.')\n",
    "for i in range(len(olympic_pc[:,0])):\n",
    "    plt.text(olympic['jave'][i], olympic_pc[i,1], str(i), color = 'k')\n",
    "plt.xlabel('Javelin throw (m)')\n",
    "plt.ylabel('PC2')"
   ]
  },
  {
   "cell_type": "markdown",
   "metadata": {},
   "source": [
    "We can check in the plot above that stronger throwers will have higher value on this second component."
   ]
  },
  {
   "cell_type": "markdown",
   "metadata": {},
   "source": [
    "## Standardizing: scale matters!\n",
    "\n",
    "In the previous example, we saw that the two variables were based somewhat on speed and strength. However, \n",
    "**we did not scale the variables** so the 1500 has much more weight than the 400, for instance! \n",
    "\n",
    "We correct this by standardizing the variables with `sklearn` preprocessor methods"
   ]
  },
  {
   "cell_type": "code",
   "execution_count": 17,
   "metadata": {},
   "outputs": [],
   "source": [
    "from sklearn.preprocessing import StandardScaler\n",
    "\n",
    "# Center and reduce the variables\n",
    "scaler = StandardScaler()\n",
    "Xs = scaler.fit_transform(olympic)\n",
    "\n",
    "# Make PCA on standardized variables\n",
    "pca_s = PCA() # estimate only 2 PCs\n",
    "Xs_pc = pca_s.fit_transform(Xs) # project the original data into the PCA space"
   ]
  },
  {
   "cell_type": "markdown",
   "metadata": {},
   "source": [
    "Show the new biplot for the standardized variables"
   ]
  },
  {
   "cell_type": "code",
   "execution_count": 18,
   "metadata": {},
   "outputs": [
    {
     "data": {
      "image/png": "[encoded data removed]",
      "text/plain": [
       "<Figure size 720x576 with 3 Axes>"
      ]
     },
     "metadata": {
      "needs_background": "light"
     },
     "output_type": "display_data"
    }
   ],
   "source": [
    "#Call the function. Use only the 2 PCs.\n",
    "biplot2D(Xs_pc[:,0:2], pca_s.components_[0:2, :], olympic.columns)\n",
    "plt.show()"
   ]
  },
  {
   "cell_type": "markdown",
   "metadata": {},
   "source": [
    "By standardizing, this plot above reinforces our earlier interpretation by grouping sprint events (as *100m*,\n",
    "*110m*, *400m*, *long*) along a same axis aligned with the first principal  \n",
    "\n",
    "Likewise the strength and throwing events (in french, *javelot*, *disque*, *poids*)lies on a separate axis rather aligned on the second component (thus rather decorrelated from the previous one)."
   ]
  },
  {
   "cell_type": "markdown",
   "metadata": {},
   "source": [
    "### Display the loadings"
   ]
  },
  {
   "cell_type": "code",
   "execution_count": 13,
   "metadata": {},
   "outputs": [
    {
     "data": {
      "text/html": [
       "<div>\n",
       "<style scoped>\n",
       "    .dataframe tbody tr th:only-of-type {\n",
       "        vertical-align: middle;\n",
       "    }\n",
       "\n",
       "    .dataframe tbody tr th {\n",
       "        vertical-align: top;\n",
       "    }\n",
       "\n",
       "    .dataframe thead th {\n",
       "        text-align: right;\n",
       "    }\n",
       "</style>\n",
       "<table border=\"1\" class=\"dataframe\">\n",
       "  <thead>\n",
       "    <tr style=\"text-align: right;\">\n",
       "      <th></th>\n",
       "      <th>PC1</th>\n",
       "      <th>PC2</th>\n",
       "    </tr>\n",
       "  </thead>\n",
       "  <tbody>\n",
       "    <tr>\n",
       "      <th>100</th>\n",
       "      <td>0.415882</td>\n",
       "      <td>0.148808</td>\n",
       "    </tr>\n",
       "    <tr>\n",
       "      <th>long</th>\n",
       "      <td>-0.394051</td>\n",
       "      <td>-0.152082</td>\n",
       "    </tr>\n",
       "    <tr>\n",
       "      <th>poid</th>\n",
       "      <td>-0.269106</td>\n",
       "      <td>0.483537</td>\n",
       "    </tr>\n",
       "    <tr>\n",
       "      <th>haut</th>\n",
       "      <td>-0.212282</td>\n",
       "      <td>0.027898</td>\n",
       "    </tr>\n",
       "    <tr>\n",
       "      <th>400</th>\n",
       "      <td>0.355847</td>\n",
       "      <td>0.352160</td>\n",
       "    </tr>\n",
       "    <tr>\n",
       "      <th>110</th>\n",
       "      <td>0.433482</td>\n",
       "      <td>0.069568</td>\n",
       "    </tr>\n",
       "    <tr>\n",
       "      <th>disq</th>\n",
       "      <td>-0.175792</td>\n",
       "      <td>0.503335</td>\n",
       "    </tr>\n",
       "    <tr>\n",
       "      <th>perc</th>\n",
       "      <td>-0.384082</td>\n",
       "      <td>0.149582</td>\n",
       "    </tr>\n",
       "    <tr>\n",
       "      <th>jave</th>\n",
       "      <td>-0.179944</td>\n",
       "      <td>0.371957</td>\n",
       "    </tr>\n",
       "    <tr>\n",
       "      <th>1500</th>\n",
       "      <td>0.170143</td>\n",
       "      <td>0.420965</td>\n",
       "    </tr>\n",
       "  </tbody>\n",
       "</table>\n",
       "</div>"
      ],
      "text/plain": [
       "           PC1       PC2\n",
       "100   0.415882  0.148808\n",
       "long -0.394051 -0.152082\n",
       "poid -0.269106  0.483537\n",
       "haut -0.212282  0.027898\n",
       "400   0.355847  0.352160\n",
       "110   0.433482  0.069568\n",
       "disq -0.175792  0.503335\n",
       "perc -0.384082  0.149582\n",
       "jave -0.179944  0.371957\n",
       "1500  0.170143  0.420965"
      ]
     },
     "execution_count": 13,
     "metadata": {},
     "output_type": "execute_result"
    }
   ],
   "source": [
    "pca_s.components_[0:2, :]\n",
    "pd.DataFrame(pca_s.components_[0:2, :].T, columns=['PC1', 'PC2'], index=olympic.columns)"
   ]
  },
  {
   "cell_type": "markdown",
   "metadata": {},
   "source": [
    "## Exercise\n",
    "- For the *non-standardized* olympic data, explain why the `1500` event is the more important to explain the variance. Is is still true after standardization?\n",
    "- Explain how many components do you think are sufficient to explain the *non-standardized* olympic data? Do you think the same is true for tje standardized data?\n",
    "- From the biplot analysis in the *standardized* case what are the global meanings of the first two principal components?  Are the loadings consistent with these conclusions?\n",
    "- In your opinion, is it better (i.e. more useful) to perform PCA on *standardized* or *non-standardized* data for this example?"
   ]
  }
 ],
 "metadata": {
  "kernelspec": {
   "display_name": "Python [conda env:calc]",
   "language": "python",
   "name": "conda-env-calc-py"
  },
  "language_info": {
   "codemirror_mode": {
    "name": "ipython",
    "version": 3
   },
   "file_extension": ".py",
   "mimetype": "text/x-python",
   "name": "python",
   "nbconvert_exporter": "python",
   "pygments_lexer": "ipython3",
   "version": "3.7.9"
  },
  "widgets": {
   "application/vnd.jupyter.widget-state+json": {
    "state": {},
    "version_major": 2,
    "version_minor": 0
   }
  }
 },
 "nbformat": 4,
 "nbformat_minor": 4
}
