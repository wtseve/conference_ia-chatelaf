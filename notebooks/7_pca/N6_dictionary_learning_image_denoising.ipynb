{
 "cells": [
  {
   "cell_type": "code",
   "execution_count": 2,
   "metadata": {},
   "outputs": [],
   "source": [
    "%matplotlib inline"
   ]
  },
  {
   "cell_type": "markdown",
   "metadata": {},
   "source": [
    "\n",
    "# Image denoising using dictionary learning\n",
    "\n",
    "\n",
    "An example comparing the effect of reconstructing noisy fragments\n",
    "of a raccoon face image using firstly online `DictionaryLearning` and\n",
    "various transform methods.\n",
    "\n",
    "The dictionary is fitted on the distorted left half of the image, and\n",
    "subsequently used to reconstruct the right half. Note that even better\n",
    "performance could be achieved by fitting to an undistorted (i.e.\n",
    "noiseless) image, but here we start from the assumption that it is not\n",
    "available.\n",
    "\n",
    "A common practice for evaluating the results of image denoising is by looking\n",
    "at the difference between the reconstruction and the original image. If the\n",
    "reconstruction is perfect this will look like Gaussian noise.\n",
    "\n",
    "It can be seen from the plots that the results of `omp` with two\n",
    "non-zero coefficients is a bit less biased than when keeping only one\n",
    "(the edges look less prominent). It is in addition closer from the ground\n",
    "truth in Frobenius norm.\n",
    "\n",
    "The result of `least_angle_regression` is much more strongly biased: the\n",
    "difference is reminiscent of the local intensity value of the original image.\n",
    "\n",
    "Thresholding is clearly not useful for denoising, but it is here to show that\n",
    "it can produce a suggestive output with very high speed, and thus be useful\n",
    "for other tasks such as object classification, where performance is not\n",
    "necessarily related to visualisation.\n"
   ]
  },
  {
   "cell_type": "code",
   "execution_count": 8,
   "metadata": {
    "scrolled": true
   },
   "outputs": [
    {
     "name": "stdout",
     "output_type": "stream",
     "text": [
      "Automatically created module for IPython interactive environment\n",
      "Distorting image...\n",
      "Extracting reference patches...\n",
      "done in 0.01s.\n",
      "Learning the dictionary...\n",
      "done in 6.79s.\n"
     ]
    },
    {
     "name": "stderr",
     "output_type": "stream",
     "text": [
      "/home/chatelaf/miniconda3/envs/calc/lib/python3.7/site-packages/ipykernel_launcher.py:54: RuntimeWarning: More than 20 figures have been opened. Figures created through the pyplot interface (`matplotlib.pyplot.figure`) are retained until explicitly closed and may consume too much memory. (To control this warning, see the rcParam `figure.max_open_warning`).\n"
     ]
    },
    {
     "data": {
      "application/vnd.jupyter.widget-view+json": {
       "model_id": "dba6d6caac4b4ed1aae6eb843f8e71f6",
       "version_major": 2,
       "version_minor": 0
      },
      "text/plain": [
       "Canvas(toolbar=Toolbar(toolitems=[('Home', 'Reset original view', 'home', 'home'), ('Back', 'Back to previous …"
      ]
     },
     "metadata": {},
     "output_type": "display_data"
    },
    {
     "name": "stderr",
     "output_type": "stream",
     "text": [
      "/home/chatelaf/miniconda3/envs/calc/lib/python3.7/site-packages/ipykernel_launcher.py:72: RuntimeWarning: More than 20 figures have been opened. Figures created through the pyplot interface (`matplotlib.pyplot.figure`) are retained until explicitly closed and may consume too much memory. (To control this warning, see the rcParam `figure.max_open_warning`).\n"
     ]
    },
    {
     "data": {
      "application/vnd.jupyter.widget-view+json": {
       "model_id": "b2c313b27ebe470298fb03e40ac567f9",
       "version_major": 2,
       "version_minor": 0
      },
      "text/plain": [
       "Canvas(toolbar=Toolbar(toolitems=[('Home', 'Reset original view', 'home', 'home'), ('Back', 'Back to previous …"
      ]
     },
     "metadata": {},
     "output_type": "display_data"
    },
    {
     "name": "stdout",
     "output_type": "stream",
     "text": [
      "Extracting noisy patches... \n",
      "done in 0.00s.\n",
      "Orthogonal Matching Pursuit\n",
      "1 atom...\n",
      "done in 1.13s.\n"
     ]
    },
    {
     "name": "stderr",
     "output_type": "stream",
     "text": [
      "/home/chatelaf/miniconda3/envs/calc/lib/python3.7/site-packages/ipykernel_launcher.py:72: RuntimeWarning: More than 20 figures have been opened. Figures created through the pyplot interface (`matplotlib.pyplot.figure`) are retained until explicitly closed and may consume too much memory. (To control this warning, see the rcParam `figure.max_open_warning`).\n"
     ]
    },
    {
     "data": {
      "application/vnd.jupyter.widget-view+json": {
       "model_id": "9a1ad85ff3874ec1b2f88f241ce38352",
       "version_major": 2,
       "version_minor": 0
      },
      "text/plain": [
       "Canvas(toolbar=Toolbar(toolitems=[('Home', 'Reset original view', 'home', 'home'), ('Back', 'Back to previous …"
      ]
     },
     "metadata": {},
     "output_type": "display_data"
    },
    {
     "name": "stdout",
     "output_type": "stream",
     "text": [
      "Orthogonal Matching Pursuit\n",
      "2 atoms...\n",
      "done in 2.08s.\n"
     ]
    },
    {
     "name": "stderr",
     "output_type": "stream",
     "text": [
      "/home/chatelaf/miniconda3/envs/calc/lib/python3.7/site-packages/ipykernel_launcher.py:72: RuntimeWarning: More than 20 figures have been opened. Figures created through the pyplot interface (`matplotlib.pyplot.figure`) are retained until explicitly closed and may consume too much memory. (To control this warning, see the rcParam `figure.max_open_warning`).\n"
     ]
    },
    {
     "data": {
      "application/vnd.jupyter.widget-view+json": {
       "model_id": "ed04f29b346a46029c4f062350038ff7",
       "version_major": 2,
       "version_minor": 0
      },
      "text/plain": [
       "Canvas(toolbar=Toolbar(toolitems=[('Home', 'Reset original view', 'home', 'home'), ('Back', 'Back to previous …"
      ]
     },
     "metadata": {},
     "output_type": "display_data"
    },
    {
     "name": "stdout",
     "output_type": "stream",
     "text": [
      "Least-angle regression\n",
      "5 atoms...\n",
      "done in 16.41s.\n"
     ]
    },
    {
     "name": "stderr",
     "output_type": "stream",
     "text": [
      "/home/chatelaf/miniconda3/envs/calc/lib/python3.7/site-packages/ipykernel_launcher.py:72: RuntimeWarning: More than 20 figures have been opened. Figures created through the pyplot interface (`matplotlib.pyplot.figure`) are retained until explicitly closed and may consume too much memory. (To control this warning, see the rcParam `figure.max_open_warning`).\n"
     ]
    },
    {
     "data": {
      "application/vnd.jupyter.widget-view+json": {
       "model_id": "07b78ee1b4e64b0ca4d23c40b77bcd94",
       "version_major": 2,
       "version_minor": 0
      },
      "text/plain": [
       "Canvas(toolbar=Toolbar(toolitems=[('Home', 'Reset original view', 'home', 'home'), ('Back', 'Back to previous …"
      ]
     },
     "metadata": {},
     "output_type": "display_data"
    },
    {
     "name": "stdout",
     "output_type": "stream",
     "text": [
      "Thresholding\n",
      " alpha=0.1...\n",
      "done in 0.23s.\n"
     ]
    },
    {
     "name": "stderr",
     "output_type": "stream",
     "text": [
      "/home/chatelaf/miniconda3/envs/calc/lib/python3.7/site-packages/ipykernel_launcher.py:72: RuntimeWarning: More than 20 figures have been opened. Figures created through the pyplot interface (`matplotlib.pyplot.figure`) are retained until explicitly closed and may consume too much memory. (To control this warning, see the rcParam `figure.max_open_warning`).\n"
     ]
    },
    {
     "data": {
      "application/vnd.jupyter.widget-view+json": {
       "model_id": "af9dfdfbc12144c492af0b22b1c2cf54",
       "version_major": 2,
       "version_minor": 0
      },
      "text/plain": [
       "Canvas(toolbar=Toolbar(toolitems=[('Home', 'Reset original view', 'home', 'home'), ('Back', 'Back to previous …"
      ]
     },
     "metadata": {},
     "output_type": "display_data"
    }
   ],
   "source": [
    "print(__doc__)\n",
    "\n",
    "from time import time\n",
    "\n",
    "import matplotlib.pyplot as plt\n",
    "import numpy as np\n",
    "import scipy as sp\n",
    "\n",
    "from sklearn.decomposition import MiniBatchDictionaryLearning\n",
    "from sklearn.feature_extraction.image import extract_patches_2d\n",
    "from sklearn.feature_extraction.image import reconstruct_from_patches_2d\n",
    "\n",
    "\n",
    "try:  # SciPy >= 0.16 have face in misc\n",
    "    from scipy.misc import face\n",
    "    face = face(gray=True)\n",
    "except ImportError:\n",
    "    face = sp.face(gray=True)\n",
    "\n",
    "# Convert from uint8 representation with values between 0 and 255 to\n",
    "# a floating point representation with values between 0 and 1.\n",
    "face = face / 255.\n",
    "\n",
    "# downsample for higher speed\n",
    "face = face[::4, ::4] + face[1::4, ::4] + face[::4, 1::4] + face[1::4, 1::4]\n",
    "face /= 4.0\n",
    "height, width = face.shape\n",
    "\n",
    "# Distort the right half of the image\n",
    "print('Distorting image...')\n",
    "distorted = face.copy()\n",
    "distorted[:, width // 2:] += 0.075 * np.random.randn(height, width // 2)\n",
    "\n",
    "# Extract all reference patches from the left half of the image\n",
    "print('Extracting reference patches...')\n",
    "t0 = time()\n",
    "patch_size = (7, 7)\n",
    "data = extract_patches_2d(distorted[:, :width // 2], patch_size)\n",
    "data = data.reshape(data.shape[0], -1)\n",
    "data -= np.mean(data, axis=0)\n",
    "data /= np.std(data, axis=0)\n",
    "print('done in %.2fs.' % (time() - t0))\n",
    "\n",
    "# #############################################################################\n",
    "# Learn the dictionary from reference patches\n",
    "\n",
    "print('Learning the dictionary...')\n",
    "t0 = time()\n",
    "dico = MiniBatchDictionaryLearning(n_components=100, alpha=1, n_iter=500)\n",
    "V = dico.fit(data).components_\n",
    "dt = time() - t0\n",
    "print('done in %.2fs.' % dt)\n",
    "\n",
    "plt.figure(figsize=(4.2, 4))\n",
    "for i, comp in enumerate(V[:100]):\n",
    "    plt.subplot(10, 10, i + 1)\n",
    "    plt.imshow(comp.reshape(patch_size), cmap=plt.cm.gray_r,\n",
    "               interpolation='nearest')\n",
    "    plt.xticks(())\n",
    "    plt.yticks(())\n",
    "plt.suptitle('Dictionary learned from face patches\\n' +\n",
    "             'Train time %.1fs on %d patches' % (dt, len(data)),\n",
    "             fontsize=16)\n",
    "plt.subplots_adjust(0.08, 0.02, 0.92, 0.85, 0.08, 0.23)\n",
    "\n",
    "\n",
    "# #############################################################################\n",
    "# Display the distorted image\n",
    "\n",
    "def show_with_diff(image, reference, title):\n",
    "    \"\"\"Helper function to display denoising\"\"\"\n",
    "    plt.figure(figsize=(5, 3.3))\n",
    "    plt.subplot(1, 2, 1)\n",
    "    plt.title('Image')\n",
    "    plt.imshow(image, vmin=0, vmax=1, cmap=plt.cm.gray,\n",
    "               interpolation='nearest')\n",
    "    plt.xticks(())\n",
    "    plt.yticks(())\n",
    "    plt.subplot(1, 2, 2)\n",
    "    difference = image - reference\n",
    "\n",
    "    plt.title('Difference (norm: %.2f)' % np.sqrt(np.sum(difference ** 2)))\n",
    "    plt.imshow(difference, vmin=-0.5, vmax=0.5, cmap=plt.cm.PuOr,\n",
    "               interpolation='nearest')\n",
    "    plt.xticks(())\n",
    "    plt.yticks(())\n",
    "    plt.suptitle(title, size=16)\n",
    "    plt.subplots_adjust(0.02, 0.02, 0.98, 0.79, 0.02, 0.2)\n",
    "\n",
    "show_with_diff(distorted, face, 'Distorted image')\n",
    "\n",
    "# #############################################################################\n",
    "# Extract noisy patches and reconstruct them using the dictionary\n",
    "\n",
    "print('Extracting noisy patches... ')\n",
    "t0 = time()\n",
    "data = extract_patches_2d(distorted[:, width // 2:], patch_size)\n",
    "data = data.reshape(data.shape[0], -1)\n",
    "intercept = np.mean(data, axis=0)\n",
    "data -= intercept\n",
    "print('done in %.2fs.' % (time() - t0))\n",
    "\n",
    "transform_algorithms = [\n",
    "    ('Orthogonal Matching Pursuit\\n1 atom', 'omp',\n",
    "     {'transform_n_nonzero_coefs': 1}),\n",
    "    ('Orthogonal Matching Pursuit\\n2 atoms', 'omp',\n",
    "     {'transform_n_nonzero_coefs': 2}),\n",
    "    ('Least-angle regression\\n5 atoms', 'lars',\n",
    "     {'transform_n_nonzero_coefs': 5}),\n",
    "    ('Thresholding\\n alpha=0.1', 'threshold', {'transform_alpha': .1})]\n",
    "\n",
    "reconstructions = {}\n",
    "for title, transform_algorithm, kwargs in transform_algorithms:\n",
    "    print(title + '...')\n",
    "    reconstructions[title] = face.copy()\n",
    "    t0 = time()\n",
    "    dico.set_params(transform_algorithm=transform_algorithm, **kwargs)\n",
    "    code = dico.transform(data)\n",
    "    patches = np.dot(code, V)\n",
    "\n",
    "    patches += intercept\n",
    "    patches = patches.reshape(len(data), *patch_size)\n",
    "    if transform_algorithm == 'threshold':\n",
    "        patches -= patches.min()\n",
    "        patches /= patches.max()\n",
    "    reconstructions[title][:, width // 2:] = reconstruct_from_patches_2d(\n",
    "        patches, (height, width // 2))\n",
    "    dt = time() - t0\n",
    "    print('done in %.2fs.' % dt)\n",
    "    show_with_diff(reconstructions[title], face,\n",
    "                   title + ' (time: %.1fs)' % dt)\n",
    "\n",
    "plt.show()"
   ]
  },
  {
   "cell_type": "markdown",
   "metadata": {},
   "source": [
    "## Exercice\n",
    "Compare the results: \n",
    " - which methods are the most biased (look at the residuals) for this denoising problem? which one are the most fast?\n",
    " - change the number `n_nonzero_coefs` of non zero coefs for the omp and lars algirithms. Which values seems to give the best results for each method? How can you interpret the difference?\n",
    "        "
   ]
  },
  {
   "cell_type": "code",
   "execution_count": null,
   "metadata": {},
   "outputs": [],
   "source": []
  }
 ],
 "metadata": {
  "kernelspec": {
   "display_name": "Python 3",
   "language": "python",
   "name": "python3"
  },
  "language_info": {
   "codemirror_mode": {
    "name": "ipython",
    "version": 3
   },
   "file_extension": ".py",
   "mimetype": "text/x-python",
   "name": "python",
   "nbconvert_exporter": "python",
   "pygments_lexer": "ipython3",
   "version": "3.7.4"
  }
 },
 "nbformat": 4,
 "nbformat_minor": 1
}
