{
 "cells": [
  {
   "cell_type": "markdown",
   "metadata": {},
   "source": [
    "This R notebook can be run with mybinder: \n",
    "\n",
    "[![Binder](https://mybinder.org/badge_logo.svg)](https://mybinder.org/v2/gh/fchatelain/Examples_R_1A.git/master?filepath=pca-olympic_example.ipynb)\n"
   ]
  },
  {
   "cell_type": "markdown",
   "metadata": {},
   "source": [
    "# Olympic decathlon data\n",
    "\n",
    "###### This example is a short introduction to PCA analysis (using R language). The Data are performance marks on the ten decathlon events for 33 athletes at the Olympic Games (1988)."
   ]
  },
  {
   "cell_type": "markdown",
   "metadata": {},
   "source": [
    "## Dataset\n",
    "Load olympic dataset contained in the package ade4"
   ]
  },
  {
   "cell_type": "code",
   "execution_count": null,
   "metadata": {},
   "outputs": [],
   "source": [
    "library(ade4)\n",
    "data(olympic)"
   ]
  },
  {
   "cell_type": "markdown",
   "metadata": {},
   "source": [
    "Display some descriptive statistics for this dataset"
   ]
  },
  {
   "cell_type": "code",
   "execution_count": null,
   "metadata": {
    "scrolled": true
   },
   "outputs": [],
   "source": [
    "summary(olympic$tab)\n"
   ]
  },
  {
   "cell_type": "markdown",
   "metadata": {},
   "source": [
    "## PCA\n",
    "\n",
    "Make *PCA* on decathlon event scores data $X \\in \\mathbb{R}^{n \\times p}$: $n=33$ samples (athletes), $p=10$ variables/features (decathlon events)"
   ]
  },
  {
   "cell_type": "code",
   "execution_count": null,
   "metadata": {},
   "outputs": [],
   "source": [
    "pca.olympic = princomp(olympic$tab)"
   ]
  },
  {
   "cell_type": "markdown",
   "metadata": {},
   "source": [
    "\n",
    "How is the distribution of component variances/eigenvalues $\\sigma_i^2$, $1 \\le i \\le p$ ? Let's visualize the **screeplot**"
   ]
  },
  {
   "cell_type": "code",
   "execution_count": null,
   "metadata": {
    "scrolled": false
   },
   "outputs": [],
   "source": [
    "plot(pca.olympic) # screeplot (graphical display)"
   ]
  },
  {
   "cell_type": "code",
   "execution_count": null,
   "metadata": {},
   "outputs": [],
   "source": [
    "#cumPropVar= cumsum(pca.olympic$sdev^2)/sum(pca.olympic$sdev^2) \n",
    "summary(pca.olympic) # summary (numerical display)"
   ]
  },
  {
   "cell_type": "markdown",
   "metadata": {},
   "source": [
    "The biplot gives a graphical summary of both samples (athletes) in terms of scores and the variables/features in terms of loadings"
   ]
  },
  {
   "cell_type": "code",
   "execution_count": null,
   "metadata": {
    "scrolled": false,
    "slideshow": {
     "slide_type": "-"
    }
   },
   "outputs": [],
   "source": [
    "biplot(pca.olympic)"
   ]
  },
  {
   "cell_type": "markdown",
   "metadata": {},
   "source": [
    "From this plot, we see that the first principal component is positively associated with longer times on the 1500. So, slower runners will have higher value on this component."
   ]
  },
  {
   "cell_type": "code",
   "execution_count": null,
   "metadata": {},
   "outputs": [],
   "source": [
    "cat('average 1500 event score (seconds) == ', mean( olympic$tab[, \"1500\"] ) )\n",
    "data.frame( olympic$tab[, \"1500\"], pca.olympic$scores[, 1])"
   ]
  },
  {
   "cell_type": "code",
   "execution_count": null,
   "metadata": {},
   "outputs": [],
   "source": [
    " plot(olympic$tab[, \"1500\"], pca.olympic$scores[, 1], pch = 23, bg = \"red\", cex = 2)"
   ]
  },
  {
   "cell_type": "markdown",
   "metadata": {},
   "source": [
    "Also, the second principal component is associated with strength in the form of a long javelin throw."
   ]
  },
  {
   "cell_type": "code",
   "execution_count": null,
   "metadata": {},
   "outputs": [],
   "source": [
    " plot(olympic$tab[, \"jave\"], pca.olympic$scores[, 2], pch = 23, \n",
    "      bg = \"red\", cex = 2)"
   ]
  },
  {
   "cell_type": "markdown",
   "metadata": {},
   "source": [
    "Standardizing\n",
    "---------------\n",
    "\n",
    "In the previous example, we saw that the two variables were based somewhat on speed and strength. However, \n",
    "**we did not scale the variables** so the 1500 has much more weight than the 400, for instance. We correct this by passing the cor=TRUE argument, which defaults to FALSE, as an argument to princomp."
   ]
  },
  {
   "cell_type": "code",
   "execution_count": null,
   "metadata": {},
   "outputs": [],
   "source": [
    "pca.olympic = princomp(olympic$tab, cor = TRUE)\n",
    "biplot(pca.olympic)"
   ]
  },
  {
   "cell_type": "markdown",
   "metadata": {},
   "source": [
    "This plot reinforces our earlier interpretation and has put the running events on an “even playing field” by standardizing."
   ]
  },
  {
   "cell_type": "code",
   "execution_count": null,
   "metadata": {},
   "outputs": [],
   "source": [
    "pca.olympic$loadings[, 1]\n"
   ]
  },
  {
   "cell_type": "code",
   "execution_count": null,
   "metadata": {
    "scrolled": true
   },
   "outputs": [],
   "source": [
    "pca.olympic$loadings[, 2]"
   ]
  },
  {
   "cell_type": "code",
   "execution_count": null,
   "metadata": {},
   "outputs": [],
   "source": []
  }
 ],
 "metadata": {
  "kernelspec": {
   "display_name": "R",
   "language": "R",
   "name": "ir"
  },
  "language_info": {
   "codemirror_mode": "r",
   "file_extension": ".r",
   "mimetype": "text/x-r-source",
   "name": "R",
   "pygments_lexer": "r",
   "version": "3.4.4"
  }
 },
 "nbformat": 4,
 "nbformat_minor": 2
}
