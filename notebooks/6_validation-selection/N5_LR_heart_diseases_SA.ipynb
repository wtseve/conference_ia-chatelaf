{
 "cells": [
  {
   "cell_type": "markdown",
   "metadata": {},
   "source": [
    "# South Africa Heart Diseases Data\n",
    "A retrospective sample of males in a heart-disease high-risk region\n",
    "of the Western Cape, South Africa. There are roughly two controls per\n",
    "case of Coranary Heart Disease (CHD). Many of the CHD positive men have undergone blood\n",
    "pressure reduction treatment and other programs to reduce their risk\n",
    "factors after their CHD event. In some cases the measurements were\n",
    "made after these treatments. These data are taken from a larger\n",
    "dataset, described in  Rousseauw et al, 1983, South African Medical\n",
    "Journal. \n",
    "\n",
    "| Variable name     | Description              |\n",
    "|:---------|:-------------------------|\n",
    "| sbp\t  |\tsystolic blood **pressure** |\n",
    "| tobacco\t|\tcumulative **tobacco** (kg) |\n",
    "| ldl |\t\tlow densiity lipoprotein **cholesterol** |\n",
    "| adiposity |                                     |\n",
    "| famhist\t |\t**family** history of heart disease (Present=1, Absent=0) |\n",
    "| typea\t|\ttype-A **behavior** |\n",
    "| obesity |            |\n",
    "| alcohol\t|\tcurrent **alcohol** consumption |\n",
    "| age\t\t| **age** at onset |\n",
    "| chd\t\t| **response**: coronary heart disease  (Present=1, Absent=0) |"
   ]
  },
  {
   "cell_type": "code",
   "execution_count": 1,
   "metadata": {},
   "outputs": [
    {
     "data": {
      "text/html": [
       "<div>\n",
       "<style scoped>\n",
       "    .dataframe tbody tr th:only-of-type {\n",
       "        vertical-align: middle;\n",
       "    }\n",
       "\n",
       "    .dataframe tbody tr th {\n",
       "        vertical-align: top;\n",
       "    }\n",
       "\n",
       "    .dataframe thead th {\n",
       "        text-align: right;\n",
       "    }\n",
       "</style>\n",
       "<table border=\"1\" class=\"dataframe\">\n",
       "  <thead>\n",
       "    <tr style=\"text-align: right;\">\n",
       "      <th></th>\n",
       "      <th>row.names</th>\n",
       "      <th>sbp</th>\n",
       "      <th>tobacco</th>\n",
       "      <th>ldl</th>\n",
       "      <th>adiposity</th>\n",
       "      <th>famhist</th>\n",
       "      <th>typea</th>\n",
       "      <th>obesity</th>\n",
       "      <th>alcohol</th>\n",
       "      <th>age</th>\n",
       "      <th>chd</th>\n",
       "    </tr>\n",
       "  </thead>\n",
       "  <tbody>\n",
       "    <tr>\n",
       "      <td>0</td>\n",
       "      <td>1</td>\n",
       "      <td>160</td>\n",
       "      <td>12.00</td>\n",
       "      <td>5.73</td>\n",
       "      <td>23.11</td>\n",
       "      <td>1</td>\n",
       "      <td>49</td>\n",
       "      <td>25.30</td>\n",
       "      <td>97.20</td>\n",
       "      <td>52</td>\n",
       "      <td>1</td>\n",
       "    </tr>\n",
       "    <tr>\n",
       "      <td>1</td>\n",
       "      <td>2</td>\n",
       "      <td>144</td>\n",
       "      <td>0.01</td>\n",
       "      <td>4.41</td>\n",
       "      <td>28.61</td>\n",
       "      <td>0</td>\n",
       "      <td>55</td>\n",
       "      <td>28.87</td>\n",
       "      <td>2.06</td>\n",
       "      <td>63</td>\n",
       "      <td>1</td>\n",
       "    </tr>\n",
       "    <tr>\n",
       "      <td>2</td>\n",
       "      <td>3</td>\n",
       "      <td>118</td>\n",
       "      <td>0.08</td>\n",
       "      <td>3.48</td>\n",
       "      <td>32.28</td>\n",
       "      <td>1</td>\n",
       "      <td>52</td>\n",
       "      <td>29.14</td>\n",
       "      <td>3.81</td>\n",
       "      <td>46</td>\n",
       "      <td>0</td>\n",
       "    </tr>\n",
       "    <tr>\n",
       "      <td>3</td>\n",
       "      <td>4</td>\n",
       "      <td>170</td>\n",
       "      <td>7.50</td>\n",
       "      <td>6.41</td>\n",
       "      <td>38.03</td>\n",
       "      <td>1</td>\n",
       "      <td>51</td>\n",
       "      <td>31.99</td>\n",
       "      <td>24.26</td>\n",
       "      <td>58</td>\n",
       "      <td>1</td>\n",
       "    </tr>\n",
       "    <tr>\n",
       "      <td>4</td>\n",
       "      <td>5</td>\n",
       "      <td>134</td>\n",
       "      <td>13.60</td>\n",
       "      <td>3.50</td>\n",
       "      <td>27.78</td>\n",
       "      <td>1</td>\n",
       "      <td>60</td>\n",
       "      <td>25.99</td>\n",
       "      <td>57.34</td>\n",
       "      <td>49</td>\n",
       "      <td>1</td>\n",
       "    </tr>\n",
       "  </tbody>\n",
       "</table>\n",
       "</div>"
      ],
      "text/plain": [
       "   row.names  sbp  tobacco   ldl  adiposity  famhist  typea  obesity  alcohol  \\\n",
       "0          1  160    12.00  5.73      23.11        1     49    25.30    97.20   \n",
       "1          2  144     0.01  4.41      28.61        0     55    28.87     2.06   \n",
       "2          3  118     0.08  3.48      32.28        1     52    29.14     3.81   \n",
       "3          4  170     7.50  6.41      38.03        1     51    31.99    24.26   \n",
       "4          5  134    13.60  3.50      27.78        1     60    25.99    57.34   \n",
       "\n",
       "   age  chd  \n",
       "0   52    1  \n",
       "1   63    1  \n",
       "2   46    0  \n",
       "3   58    1  \n",
       "4   49    1  "
      ]
     },
     "execution_count": 1,
     "metadata": {},
     "output_type": "execute_result"
    }
   ],
   "source": [
    "import pandas as pd\n",
    "import numpy as np\n",
    "\n",
    "#load data set\n",
    "heart = pd.read_csv('SAheart.csv', sep=',', header=0)\n",
    "heart.head() #data overview: variable names and first values"
   ]
  },
  {
   "cell_type": "code",
   "execution_count": 2,
   "metadata": {},
   "outputs": [
    {
     "name": "stdout",
     "output_type": "stream",
     "text": [
      "There is 462 samples: 160 cases and 302 control\n"
     ]
    }
   ],
   "source": [
    "y = np.asarray( heart.iloc[:,10], 'float' )\n",
    "X = np.asarray( heart.iloc[:,1:10], 'float' )\n",
    "names = list(heart.columns[1:10])\n",
    "\n",
    "# Data matrix X is (n,p) where p is the number of variable and n the number of sample\n",
    "(n,p)=X.shape\n",
    "ncases= int(np.sum(y)) # number of cases\n",
    "print('There is {} samples: {} cases and {:d} control'.format(n,ncases,n-ncases))"
   ]
  },
  {
   "cell_type": "markdown",
   "metadata": {},
   "source": [
    "## Compute lasso path"
   ]
  },
  {
   "cell_type": "code",
   "execution_count": 3,
   "metadata": {},
   "outputs": [
    {
     "name": "stdout",
     "output_type": "stream",
     "text": [
      "Computing regularization path ...\n",
      "This took 0.131s\n"
     ]
    }
   ],
   "source": [
    "#compute lasso path\n",
    "from sklearn import linear_model\n",
    "from time import time\n",
    "from sklearn.svm import l1_min_c\n",
    "from sklearn.preprocessing import StandardScaler\n",
    "\n",
    "import matplotlib.pyplot as plt\n",
    "\n",
    "# Standardize the data\n",
    "sc = StandardScaler()\n",
    "Xs= sc.fit_transform(X)\n",
    "\n",
    "cs = l1_min_c(Xs, y, loss='log') * np.logspace(0, 4, 30)\n",
    "\n",
    "\n",
    "print(\"Computing regularization path ...\")\n",
    "start = time()\n",
    "clf = linear_model.LogisticRegression(penalty='l1', solver='saga',\n",
    "                                      tol=1e-6, max_iter=int(1e6),\n",
    "                                      multi_class='multinomial',\n",
    "                                      warm_start=True)\n",
    "coefs_ = []\n",
    "beta_l1norm = []\n",
    "for c in cs:\n",
    "    clf.set_params(C=c)\n",
    "    clf.fit(Xs, y)\n",
    "    beta_l1norm.append( np.sum(np.abs(clf.coef_.ravel()))) \n",
    "    coefs_.append(clf.coef_.ravel().copy())\n",
    "print(\"This took %0.3fs\" % (time() - start))\n",
    "\n",
    "betas = np.array(coefs_)"
   ]
  },
  {
   "cell_type": "code",
   "execution_count": 4,
   "metadata": {},
   "outputs": [
    {
     "data": {
      "image/png": "[encoded data removed]",
      "text/plain": [
       "<Figure size 864x432 with 1 Axes>"
      ]
     },
     "metadata": {
      "needs_background": "light"
     },
     "output_type": "display_data"
    }
   ],
   "source": [
    "# Display lasso path Vs l1 norm of the coeff vector\n",
    "plt.figure(figsize=(12,6))\n",
    "#plt.plot(np.log10(cs), coefs_, marker='o')\n",
    "plt.plot(beta_l1norm, betas, marker='o')\n",
    "ymin, ymax = plt.ylim()\n",
    "plt.xlabel('l1 norm of beta')\n",
    "plt.ylabel('Coefficients')\n",
    "plt.title('Logistic Regression Path')\n",
    "plt.axis('tight')\n",
    "plt.legend(names, fontsize=14)\n",
    "plt.show()"
   ]
  },
  {
   "cell_type": "markdown",
   "metadata": {},
   "source": [
    "## Cross validation\n",
    "We estimate the optimal regularization parameter\n"
   ]
  },
  {
   "cell_type": "markdown",
   "metadata": {},
   "source": [
    "### Exercice\n",
    "- Complete the code in the cell below to show which are the only significant predictors (ranked by signicance order) estimated with cross-validation.\n"
   ]
  },
  {
   "cell_type": "code",
   "execution_count": 7,
   "metadata": {},
   "outputs": [
    {
     "data": {
      "text/plain": [
       "LogisticRegressionCV(Cs=array([0.01219716, 0.01339908, 0.01471944, 0.01616991, 0.01776332,\n",
       "       0.01951373, 0.02143664, 0.02354903, 0.02586958, 0.0284188 ,\n",
       "       0.03121922, 0.0342956 , 0.03767512, 0.04138767, 0.04546606,\n",
       "       0.04994634, 0.05486811, 0.06027487, 0.06621443, 0.07273927,\n",
       "       0.07990708, 0.08778122, 0.09643128, 0.10593373, 0.11637256,\n",
       "       0.12784004, 0.14043755, 0.15427643, 0.169479  , 0.18...\n",
       "       0.32721272, 0.35945664, 0.3948779 , 0.43378962, 0.47653575,\n",
       "       0.52349412, 0.57507983, 0.63174886, 0.69400211, 0.76238987,\n",
       "       0.83751664, 0.92004649, 1.01070892, 1.11030533, 1.21971608]),\n",
       "                     class_weight=None, cv=5, dual=False, fit_intercept=True,\n",
       "                     intercept_scaling=1.0, l1_ratios=None, max_iter=100,\n",
       "                     multi_class='multinomial', n_jobs=None, penalty='l1',\n",
       "                     random_state=2, refit=True, scoring=None, solver='saga',\n",
       "                     tol=1e-06, verbose=0)"
      ]
     },
     "execution_count": 7,
     "metadata": {},
     "output_type": "execute_result"
    }
   ],
   "source": [
    "# K fold cross validation  (K=5)\n",
    "cs = l1_min_c(Xs, y, loss='log') * np.logspace(0, 2, 50) # the vector fot he alpha (lasso penalty parameter) values\n",
    "model = linear_model.LogisticRegressionCV(Cs=cs, cv=5, penalty='l1', solver='saga', \n",
    "                                  multi_class='multinomial', random_state=2,tol=1e-6).fit(Xs,y)\n",
    "model"
   ]
  },
  {
   "cell_type": "code",
   "execution_count": 10,
   "metadata": {},
   "outputs": [
    {
     "data": {
      "text/plain": [
       "0.6708959072082061"
      ]
     },
     "execution_count": 10,
     "metadata": {},
     "output_type": "execute_result"
    }
   ],
   "source": [
    " np.sum(np.abs(model.coef_.ravel()))"
   ]
  },
  {
   "cell_type": "code",
   "execution_count": 14,
   "metadata": {},
   "outputs": [
    {
     "data": {
      "text/plain": [
       "0.6708959072082061"
      ]
     },
     "execution_count": 14,
     "metadata": {},
     "output_type": "execute_result"
    }
   ],
   "source": [
    "np.sum(np.abs(model.coef_))"
   ]
  },
  {
   "cell_type": "code",
   "execution_count": null,
   "metadata": {},
   "outputs": [],
   "source": []
  }
 ],
 "metadata": {
  "kernelspec": {
   "display_name": "Python 3",
   "language": "python",
   "name": "python3"
  },
  "language_info": {
   "codemirror_mode": {
    "name": "ipython",
    "version": 3
   },
   "file_extension": ".py",
   "mimetype": "text/x-python",
   "name": "python",
   "nbconvert_exporter": "python",
   "pygments_lexer": "ipython3",
   "version": "3.7.4"
  }
 },
 "nbformat": 4,
 "nbformat_minor": 4
}
