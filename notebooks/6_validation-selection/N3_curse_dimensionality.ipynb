{
 "cells": [
  {
   "cell_type": "code",
   "execution_count": 1,
   "metadata": {},
   "outputs": [],
   "source": [
    "%matplotlib widget"
   ]
  },
  {
   "cell_type": "code",
   "execution_count": 2,
   "metadata": {},
   "outputs": [],
   "source": [
    "import numpy as np\n",
    "import matplotlib.pyplot as plt\n",
    "\n",
    "from sklearn import datasets, svm\n",
    "from sklearn.preprocessing import StandardScaler \n",
    "\n",
    "# The iris dataset\n",
    "iris = datasets.load_iris()"
   ]
  },
  {
   "cell_type": "code",
   "execution_count": 7,
   "metadata": {},
   "outputs": [
    {
     "data": {
      "text/plain": [
       "(150, 4)"
      ]
     },
     "execution_count": 7,
     "metadata": {},
     "output_type": "execute_result"
    }
   ],
   "source": [
    "X = iris.data\n",
    "X.shape"
   ]
  },
  {
   "cell_type": "code",
   "execution_count": 20,
   "metadata": {},
   "outputs": [
    {
     "data": {
      "text/plain": [
       "(150, 104)"
      ]
     },
     "execution_count": 20,
     "metadata": {},
     "output_type": "execute_result"
    }
   ],
   "source": [
    "# Add a large number of noisy (not correlated to the target) data \n",
    "\n",
    "# Select random seed\n",
    "np.random.seed(0)\n",
    "\n",
    "E = np.random.uniform(0, 1, size=(len(iris.data), 10))\n",
    "\n",
    "# Add the noisy data to the informative features\n",
    "X = np.hstack((iris.data, E))\n",
    "\n",
    "# normalize\n",
    "scaler = StandardScaler()\n",
    "X= scaler.fit_transform(X)\n",
    "\n",
    "X.shape"
   ]
  },
  {
   "cell_type": "code",
   "execution_count": 21,
   "metadata": {},
   "outputs": [
    {
     "name": "stdout",
     "output_type": "stream",
     "text": [
      "Misclassification error rate for Logistic Regression: \t 0.35\n",
      "Misclassification error rate for K Nearest Neighbors: \t 0.35\n",
      "Misclassification error rate for Support Vector Machines: \t 0.42\n",
      "Misclassification error rate for Quadratic Discrim Analysis: \t 0.54\n",
      "Misclassification error rate for Linear Discrim Analysis: \t 0.64\n"
     ]
    },
    {
     "name": "stderr",
     "output_type": "stream",
     "text": [
      "/home/chatelaf/miniconda3/envs/calc/lib/python3.7/site-packages/sklearn/discriminant_analysis.py:693: UserWarning: Variables are collinear\n",
      "  warnings.warn(\"Variables are collinear\")\n"
     ]
    }
   ],
   "source": [
    "from sklearn import linear_model, svm\n",
    "from sklearn.neighbors import KNeighborsClassifier\n",
    "from sklearn.model_selection import train_test_split\n",
    "import scipy as sp\n",
    "from sklearn.metrics import accuracy_score\n",
    "from sklearn.discriminant_analysis import QuadraticDiscriminantAnalysis, LinearDiscriminantAnalysis\n",
    "\n",
    "\n",
    "# Init classifier\n",
    "classifiers = [linear_model.LogisticRegression(solver='lbfgs',multi_class='multinomial'),svm.SVC(kernel='linear'), KNeighborsClassifier(), QuadraticDiscriminantAnalysis(), LinearDiscriminantAnalysis(solver=\"lsqr\")]\n",
    "names = [\"Logistic Regression\", \"K Nearest Neighbors\", \"Support Vector Machines\", \"Quadratic Discrim Analysis\", \"Linear Discrim Analysis\"]\n",
    "\n",
    "# Split data -> 2/3 for learning & 1/3 for validation\n",
    "X_train, X_test, y_train, y_test = train_test_split(X, iris.target, test_size=0.75, random_state=0)\n",
    "\n",
    "for clf,name in zip(classifiers,names):\n",
    "    clf.fit(X_train, y_train)\n",
    "    y_pred = clf.predict(X_test) # predict the label of X_test from X_train and y_train\n",
    "    acc = accuracy_score(y_test, y_pred) # Compute the overall accuracy\n",
    "    print('Misclassification error rate for {1}: \\t {0:.2f}'.format(1-acc,name)) # \\t means \"tabular\" space, and {0:.2f} \n",
    "                                                           # means we print only two first decimal"
   ]
  },
  {
   "cell_type": "code",
   "execution_count": 22,
   "metadata": {},
   "outputs": [],
   "source": [
    "neighbors = sp.arange(1,30)\n",
    "errors_train, errors_validation = [], []\n",
    "for n_ in neighbors:\n",
    "    knn = KNeighborsClassifier(n_neighbors=n_)\n",
    "    knn.fit(X_train, y_train)\n",
    "    \n",
    "    y_pred = knn.predict(X_train)\n",
    "    errors_train.append(accuracy_score(y_train, y_pred))\n",
    "    \n",
    "    y_pred = knn.predict(X_test)\n",
    "    errors_validation.append(accuracy_score(y_test, y_pred))\n",
    "    \n",
    "plt.plot(neighbors,1- np.asarray(errors_train))\n",
    "plt.plot(neighbors,1- np.asarray(errors_validation))\n",
    "plt.legend([\"Train\", \"Test\"])\n",
    "plt.xlabel(\"Number of neighbors\")\n",
    "plt.ylabel(\"Misclassification error rate\")\n",
    "plt.grid()"
   ]
  },
  {
   "cell_type": "markdown",
   "metadata": {},
   "source": [
    "## Regularization and Variable selection"
   ]
  },
  {
   "cell_type": "code",
   "execution_count": 23,
   "metadata": {},
   "outputs": [
    {
     "name": "stdout",
     "output_type": "stream",
     "text": [
      "Accuracy for penalized Log Reg: \t 0.74\n",
      "\n",
      "Misclassification error rate for penalized Log Reg: \t 0.26\n",
      "\n"
     ]
    }
   ],
   "source": [
    "# LogisticRegression with L1  (lasso style) penalty\n",
    "\n",
    "from sklearn.linear_model import LogisticRegressionCV\n",
    "\n",
    "clf= LogisticRegressionCV( cv=5, penalty='l1', solver='liblinear', multi_class='auto' )\n",
    "clf.fit(X_train,y_train)\n",
    "\n",
    "y_pred = clf.predict(X_test) # predict the label of X_test from X_train and y_train\n",
    "acc = accuracy_score(y_test, y_pred) # Compute the overall accuracy\n",
    "print('Accuracy for penalized Log Reg: \\t {0:.2f}\\n'.format(acc,name)) \n",
    "print('Misclassification error rate for penalized Log Reg: \\t {0:.2f}\\n'.format(1-acc,name)) "
   ]
  },
  {
   "cell_type": "code",
   "execution_count": 24,
   "metadata": {},
   "outputs": [
    {
     "name": "stdout",
     "output_type": "stream",
     "text": [
      "[[ 0.          0.42541397 -1.86458172  0.          0.          0.\n",
      "   0.          0.          0.07170266  0.          0.          0.\n",
      "   0.          0.          0.          0.          0.          0.\n",
      "   0.          0.          0.          0.          0.          0.\n",
      "   0.          0.          0.          0.          0.          0.\n",
      "   0.          0.          0.          0.          0.          0.\n",
      "   0.          0.          0.          0.          0.          0.\n",
      "   0.          0.          0.          0.          0.          0.\n",
      "   0.          0.          0.          0.          0.          0.\n",
      "   0.          0.          0.          0.          0.          0.\n",
      "   0.          0.          0.          0.          0.          0.\n",
      "   0.          0.          0.          0.          0.          0.\n",
      "   0.          0.          0.          0.          0.          0.\n",
      "   0.          0.          0.          0.          0.          0.\n",
      "   0.          0.          0.          0.          0.          0.\n",
      "   0.          0.          0.          0.          0.          0.\n",
      "   0.          0.          0.          0.          0.          0.\n",
      "   0.          0.        ]\n",
      " [ 0.         -3.96224457  0.          0.          0.          0.\n",
      "   0.          0.         -0.13190622  0.          0.          0.\n",
      "   0.          0.          0.         -1.23214671  0.          0.\n",
      "   0.          0.          0.61529403 -0.45442337 -0.08933942  0.\n",
      "  -0.85429229  0.          0.          0.          0.          1.19981548\n",
      "   0.          0.          0.          0.13803393  0.          0.\n",
      "   0.          0.          0.         -0.17749785  0.          0.\n",
      "   0.          0.         -0.65824005  0.          0.          0.\n",
      "   0.          0.2901436   0.69945233  0.          0.          0.\n",
      "   0.         -1.02785124  0.31372921  0.          0.          0.\n",
      "   0.          0.         -0.28209914  0.          0.         -1.28399554\n",
      "   0.          0.          0.03461476  0.          0.          0.\n",
      "   0.88421217  0.          0.          0.          0.          0.\n",
      "   0.          0.0732111   0.         -0.29581035  0.38791372  0.\n",
      "   0.6559954   0.          0.          0.          0.          0.\n",
      "   0.          0.          0.88373454 -1.43402024  0.65317269  0.\n",
      "   0.46450265  0.          0.          0.          0.45608812  0.\n",
      "   0.          0.        ]\n",
      " [ 0.86963775  0.          0.          5.94286901  0.          0.\n",
      "   0.          0.          0.         -0.58395754  0.          0.64495585\n",
      "   0.          0.          0.          1.99413351  0.          0.\n",
      "   0.          0.          0.          0.          0.          0.\n",
      "   0.          0.          0.          0.          0.         -1.31963471\n",
      "   0.          0.          0.          0.          0.          0.\n",
      "   0.          0.          0.          0.63187795  0.          0.\n",
      "   0.          0.          0.          0.          0.          0.\n",
      "   0.         -0.16449916  0.          0.          0.          0.\n",
      "   0.1243411   0.          0.          0.          0.          0.\n",
      "   0.          0.          0.          0.          0.          0.\n",
      "   0.          0.         -0.02313018  0.          0.          0.56565723\n",
      "   0.          0.          0.          0.          0.          0.\n",
      "   0.64213989  0.          0.          0.78270833 -0.1741995  -1.00201829\n",
      "  -0.17326526  0.          0.          0.          0.          0.\n",
      "   0.          0.          0.          2.14765939  0.          0.\n",
      "   0.          0.         -1.72958194  0.          0.          0.\n",
      "   0.          0.        ]]\n"
     ]
    }
   ],
   "source": [
    "# Display the LR coefficients\n",
    "\n",
    "# for each of 3 vectors: first four coeffs corresponds to iris variable, others to noise variables\n",
    "print(clf.coef_)"
   ]
  },
  {
   "cell_type": "markdown",
   "metadata": {},
   "source": [
    "### Questions:\n",
    "- Does the methods without regularization work well on this high dimensional and noisy data?\n",
    "- Does the regularized (lasso penalty) works well?\n",
    "- Does the lasso penaly suceed in recovering the significant features?"
   ]
  },
  {
   "cell_type": "code",
   "execution_count": null,
   "metadata": {},
   "outputs": [],
   "source": []
  }
 ],
 "metadata": {
  "kernelspec": {
   "display_name": "Python 3",
   "language": "python",
   "name": "python3"
  },
  "language_info": {
   "codemirror_mode": {
    "name": "ipython",
    "version": 3
   },
   "file_extension": ".py",
   "mimetype": "text/x-python",
   "name": "python",
   "nbconvert_exporter": "python",
   "pygments_lexer": "ipython3",
   "version": "3.7.4"
  }
 },
 "nbformat": 4,
 "nbformat_minor": 4
}
