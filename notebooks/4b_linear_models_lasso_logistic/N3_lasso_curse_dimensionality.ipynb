{
 "cells": [
  {
   "cell_type": "markdown",
   "metadata": {},
   "source": [
    "This notebook can be run on mybinder: [![Binder](https://mybinder.org/badge_logo.svg)](https://mybinder.org/v2/git/https%3A%2F%2Fgricad-gitlab.univ-grenoble-alpes.fr%2Fchatelaf%2Fconference-ia/HEAD?urlpath=lab/tree/notebooks4b_linear_models_lasso_logistic)"
   ]
  },
  {
   "cell_type": "markdown",
   "metadata": {},
   "source": [
    "## Load the *Advertising* Data Set\n",
    "\n",
    "Sales (in thousands of units) for a particular product and Advertising budgets (in thousands of dollars) of the product for television, radio and newspapers. The purpose of the regression is to predict the `Sales` (target variable) based on the three variables `TV`, `Radio` and `Newspaper` which measure advertising budgets for each media respectively.\n"
   ]
  },
  {
   "cell_type": "code",
   "execution_count": 1,
   "metadata": {},
   "outputs": [
    {
     "name": "stdout",
     "output_type": "stream",
     "text": [
      "Summary statistics\n"
     ]
    },
    {
     "data": {
      "text/html": [
       "<div>\n",
       "<style scoped>\n",
       "    .dataframe tbody tr th:only-of-type {\n",
       "        vertical-align: middle;\n",
       "    }\n",
       "\n",
       "    .dataframe tbody tr th {\n",
       "        vertical-align: top;\n",
       "    }\n",
       "\n",
       "    .dataframe thead th {\n",
       "        text-align: right;\n",
       "    }\n",
       "</style>\n",
       "<table border=\"1\" class=\"dataframe\">\n",
       "  <thead>\n",
       "    <tr style=\"text-align: right;\">\n",
       "      <th></th>\n",
       "      <th>TV</th>\n",
       "      <th>Radio</th>\n",
       "      <th>Newspaper</th>\n",
       "      <th>Sales</th>\n",
       "    </tr>\n",
       "  </thead>\n",
       "  <tbody>\n",
       "    <tr>\n",
       "      <th>count</th>\n",
       "      <td>200.000000</td>\n",
       "      <td>200.000000</td>\n",
       "      <td>200.000000</td>\n",
       "      <td>200.000000</td>\n",
       "    </tr>\n",
       "    <tr>\n",
       "      <th>mean</th>\n",
       "      <td>147.042500</td>\n",
       "      <td>23.264000</td>\n",
       "      <td>30.554000</td>\n",
       "      <td>14.022500</td>\n",
       "    </tr>\n",
       "    <tr>\n",
       "      <th>std</th>\n",
       "      <td>85.854236</td>\n",
       "      <td>14.846809</td>\n",
       "      <td>21.778621</td>\n",
       "      <td>5.217457</td>\n",
       "    </tr>\n",
       "    <tr>\n",
       "      <th>min</th>\n",
       "      <td>0.700000</td>\n",
       "      <td>0.000000</td>\n",
       "      <td>0.300000</td>\n",
       "      <td>1.600000</td>\n",
       "    </tr>\n",
       "    <tr>\n",
       "      <th>25%</th>\n",
       "      <td>74.375000</td>\n",
       "      <td>9.975000</td>\n",
       "      <td>12.750000</td>\n",
       "      <td>10.375000</td>\n",
       "    </tr>\n",
       "    <tr>\n",
       "      <th>50%</th>\n",
       "      <td>149.750000</td>\n",
       "      <td>22.900000</td>\n",
       "      <td>25.750000</td>\n",
       "      <td>12.900000</td>\n",
       "    </tr>\n",
       "    <tr>\n",
       "      <th>75%</th>\n",
       "      <td>218.825000</td>\n",
       "      <td>36.525000</td>\n",
       "      <td>45.100000</td>\n",
       "      <td>17.400000</td>\n",
       "    </tr>\n",
       "    <tr>\n",
       "      <th>max</th>\n",
       "      <td>296.400000</td>\n",
       "      <td>49.600000</td>\n",
       "      <td>114.000000</td>\n",
       "      <td>27.000000</td>\n",
       "    </tr>\n",
       "  </tbody>\n",
       "</table>\n",
       "</div>"
      ],
      "text/plain": [
       "               TV       Radio   Newspaper       Sales\n",
       "count  200.000000  200.000000  200.000000  200.000000\n",
       "mean   147.042500   23.264000   30.554000   14.022500\n",
       "std     85.854236   14.846809   21.778621    5.217457\n",
       "min      0.700000    0.000000    0.300000    1.600000\n",
       "25%     74.375000    9.975000   12.750000   10.375000\n",
       "50%    149.750000   22.900000   25.750000   12.900000\n",
       "75%    218.825000   36.525000   45.100000   17.400000\n",
       "max    296.400000   49.600000  114.000000   27.000000"
      ]
     },
     "execution_count": 1,
     "metadata": {},
     "output_type": "execute_result"
    }
   ],
   "source": [
    "import numpy as np\n",
    "import pandas as pd\n",
    "import matplotlib.pyplot as plt\n",
    "\n",
    "# Load in the Advertising data set\n",
    "df = pd.read_csv('Advertising.csv')\n",
    "# Data distribution\n",
    "print('Summary statistics')\n",
    "df.describe()"
   ]
  },
  {
   "cell_type": "code",
   "execution_count": 2,
   "metadata": {},
   "outputs": [
    {
     "name": "stdout",
     "output_type": "stream",
     "text": [
      "(200, 3)\n"
     ]
    }
   ],
   "source": [
    "X = df.drop('Sales', axis=1) # TV, Radio and Newspaper variables only\n",
    "y = df['Sales'] # response\n",
    "print(X.shape) # data dimensions: n (sample size) x p (dimension size)"
   ]
  },
  {
   "cell_type": "markdown",
   "metadata": {},
   "source": [
    "## Apply linear regression on the original dataset"
   ]
  },
  {
   "cell_type": "code",
   "execution_count": 3,
   "metadata": {},
   "outputs": [
    {
     "name": "stdout",
     "output_type": "stream",
     "text": [
      "Training set dimensions: (50, 3)\n",
      "\n",
      "                         TV     Radio  Newspaper\n",
      "Estimated Weights  0.043334  0.207149   0.007986\n",
      "\n",
      "Linear model explains 88% of the Sales variance\n"
     ]
    }
   ],
   "source": [
    "from sklearn.model_selection import train_test_split\n",
    "\n",
    "# Split data -> 1/2 for learning & 1/2 for validation\n",
    "X_train, X_test, y_train, y_test = train_test_split(X, y, test_size=0.75, random_state=0)\n",
    "print('Training set dimensions: {}\\n'.format(X_train.shape)) # training set dimensions: n (sample size) x p (dimension size)\n",
    "\n",
    "# Apply linear regression\n",
    "from sklearn.linear_model import LinearRegression\n",
    "linrgr =  LinearRegression()\n",
    "linrgr.fit(X_train, y_train)\n",
    "\n",
    "# Get the estimated weights\n",
    "df_weights = pd.DataFrame.from_records( linrgr.coef_.reshape(1,-1), columns=X.columns, index=['Estimated Weights'])\n",
    "print(df_weights)\n",
    "\n",
    "# Get the coefficient of determination R2\n",
    "r2 = linrgr.score(X_test,y_test)\n",
    "print(\"\\nLinear model explains {:.0f}% of the Sales variance\".format(100*r2))"
   ]
  },
  {
   "cell_type": "markdown",
   "metadata": {},
   "source": [
    "**Exercise:**\n",
    "- Does the linear model seems accurate for this task and dataset?\n",
    "- What are the most significant variables to predict scale (*hint*: you may scale the training data if you want to be sure to correctly intepret the weight)"
   ]
  },
  {
   "cell_type": "markdown",
   "metadata": {},
   "source": [
    "## Curse of dimensionality \n",
    "\n",
    "We now add  a large number of noisy (i.e. not correlated to the target) data to the features, and we observe the resulting performances for different regression methods"
   ]
  },
  {
   "cell_type": "code",
   "execution_count": 4,
   "metadata": {},
   "outputs": [
    {
     "name": "stdout",
     "output_type": "stream",
     "text": [
      "(50, 33)\n"
     ]
    }
   ],
   "source": [
    "from sklearn.preprocessing import StandardScaler \n",
    "\n",
    "# Select random seed\n",
    "np.random.seed(1)\n",
    "\n",
    "# Generate the noisy variables \n",
    "p_noise = 30 # number of noisy data to add\n",
    "X_noisy = X.copy()\n",
    "E = np.random.randn(len(y), p_noise)\n",
    "# Add the noisy data at the end of the informative features\n",
    "for i in range(p_noise):\n",
    "    X_noisy.insert(loc=len(X_noisy.columns), column='noise_'+str(i), value = E[:,i])\n",
    "    \n",
    "# labels of the informative and noisy variables\n",
    "var_names = X_noisy.columns\n",
    "\n",
    "# normalize the data\n",
    "scaler = StandardScaler()\n",
    "X_noisy = scaler.fit_transform(X_noisy)\n",
    "\n",
    "# Split data -> 1/2 for learning & 1/2 for validation\n",
    "X_train, X_test, y_train, y_test = train_test_split(X_noisy, y, test_size=0.75, random_state=0)\n",
    "print(X_train.shape) # training set dimensions: n (sample size) x p (dimension size)"
   ]
  },
  {
   "cell_type": "code",
   "execution_count": 5,
   "metadata": {},
   "outputs": [
    {
     "name": "stdout",
     "output_type": "stream",
     "text": [
      "Coef. of Determination R2 for Linear Regression: \t 0.42\n",
      "Coef. of Determination R2 for Support Vector Machines: \t 0.60\n",
      "Coef. of Determination R2 for K Nearest Neighbors: \t 0.28\n",
      "Coef. of Determination R2 for Random Forest Regressor: \t 0.81\n"
     ]
    }
   ],
   "source": [
    "from sklearn.linear_model import LinearRegression\n",
    "from sklearn.svm import SVR\n",
    "from sklearn.neighbors import KNeighborsRegressor\n",
    "from sklearn.ensemble import RandomForestRegressor\n",
    "\n",
    "from sklearn.model_selection import train_test_split\n",
    "from sklearn.metrics import r2_score\n",
    "\n",
    "# Init regressors\n",
    "regressors = [LinearRegression(), SVR(kernel='linear'), KNeighborsRegressor(), RandomForestRegressor(n_estimators=10)]\n",
    "names = [\"Linear Regression\", \"Support Vector Machines\", \"K Nearest Neighbors\",  \"Random Forest Regressor\"]\n",
    "\n",
    "for rgr, name in zip(regressors, names):\n",
    "    rgr.fit(X_train, y_train)\n",
    "    y_pred = rgr.predict(X_test) # predict the label of X_test from X_train and y_train\n",
    "    r2 = r2_score(y_test, y_pred) # Compute the overall accuracy\n",
    "    print('Coef. of Determination R2 for {1}: \\t {0:.2f}'.format(r2,name))"
   ]
  },
  {
   "cell_type": "markdown",
   "metadata": {},
   "source": [
    "**Exercise:**\n",
    "- Does the methods without regularization work well  on this high dimensional and noisy data?"
   ]
  },
  {
   "cell_type": "code",
   "execution_count": 6,
   "metadata": {},
   "outputs": [
    {
     "data": {
      "image/png": "[encoded data removed]",
      "text/plain": [
       "<Figure size 432x288 with 1 Axes>"
      ]
     },
     "metadata": {
      "needs_background": "light"
     },
     "output_type": "display_data"
    }
   ],
   "source": [
    "# Optimize the number of neighbors in knn \n",
    "neighbors = np.arange(1,30)\n",
    "errors_train, errors_validation = [], []\n",
    "for n_ in neighbors:\n",
    "    knn = KNeighborsRegressor(n_neighbors=n_)\n",
    "    knn.fit(X_train, y_train)\n",
    "    \n",
    "    y_pred = knn.predict(X_train)\n",
    "    errors_train.append(r2_score(y_train, y_pred))\n",
    "    \n",
    "    y_pred = knn.predict(X_test)\n",
    "    errors_validation.append(r2_score(y_test, y_pred))\n",
    "    \n",
    "plt.plot(neighbors,np.asarray(errors_train))\n",
    "plt.plot(neighbors,np.asarray(errors_validation))\n",
    "plt.legend([\"Train\", \"Test\"])\n",
    "plt.xlabel(\"Number of neighbors\")\n",
    "plt.ylabel(\"Coef. of Determination R2 \")\n",
    "plt.grid()"
   ]
  },
  {
   "cell_type": "markdown",
   "metadata": {},
   "source": [
    "**Exercise:**\n",
    "- Does the knn regressor based on euclidean metric seems accurate for this task and dataset? How can we explain that?"
   ]
  },
  {
   "cell_type": "markdown",
   "metadata": {},
   "source": [
    "## Regularization and Variable selection"
   ]
  },
  {
   "cell_type": "code",
   "execution_count": 7,
   "metadata": {},
   "outputs": [
    {
     "name": "stdout",
     "output_type": "stream",
     "text": [
      "Coef. of Determination R2 for penalized Log Reg: \t 0.88\n"
     ]
    }
   ],
   "source": [
    "# Make Lasso Regression\n",
    "from sklearn.linear_model import LassoCV\n",
    "\n",
    "lassoCV = LassoCV(cv=5)\n",
    "lassoCV.fit(X_train, y_train)\n",
    "alpha_best = lassoCV.alpha_\n",
    "\n",
    "y_pred = lassoCV.predict(X_test) # predict the label of X_test from X_train and y_train\n",
    "r2 = r2_score(y_test, y_pred) # Compute the overall accuracy\n",
    "print('Coef. of Determination R2 for penalized Log Reg: \\t {0:.2f}'.format(r2,name))"
   ]
  },
  {
   "cell_type": "code",
   "execution_count": 8,
   "metadata": {},
   "outputs": [
    {
     "name": "stdout",
     "output_type": "stream",
     "text": [
      "                         TV     Radio  Newspaper  noise_0  noise_1  noise_2  \\\n",
      "Estimated Weights  3.339027  2.763272        0.0      0.0     -0.0     -0.0   \n",
      "\n",
      "                   noise_3  noise_4  noise_5  noise_6  noise_7  noise_8  \\\n",
      "Estimated Weights     -0.0     -0.0     -0.0     -0.0      0.0      0.0   \n",
      "\n",
      "                   noise_9  noise_10  noise_11  noise_12  noise_13  noise_14  \\\n",
      "Estimated Weights     -0.0       0.0      -0.0       0.0      -0.0       0.0   \n",
      "\n",
      "                   noise_15  noise_16  noise_17  noise_18  noise_19  noise_20  \\\n",
      "Estimated Weights       0.0  0.088921       0.0       0.0 -0.004513       0.0   \n",
      "\n",
      "                   noise_21  noise_22  noise_23  noise_24  noise_25  noise_26  \\\n",
      "Estimated Weights      -0.0      -0.0      -0.0      -0.0      -0.0      -0.0   \n",
      "\n",
      "                   noise_27  noise_28  noise_29  \n",
      "Estimated Weights       0.0      -0.0       0.0  \n"
     ]
    }
   ],
   "source": [
    "# Get the Lasso estimated weights\n",
    "df_weights = pd.DataFrame.from_records(lassoCV.coef_.reshape(1,-1).copy(), \n",
    "                                       columns=var_names, \n",
    "                                       index=['Estimated Weights'])\n",
    "pd.pandas.set_option('display.max_columns', None)\n",
    "print(df_weights)"
   ]
  },
  {
   "cell_type": "markdown",
   "metadata": {},
   "source": [
    "**Exercise:**\n",
    "- Does the lasso regression works well on this high dimensional and noisy data?\n",
    "- Does it suceed in recovering the significant features?"
   ]
  },
  {
   "cell_type": "markdown",
   "metadata": {},
   "source": [
    "## Show Lasso path"
   ]
  },
  {
   "cell_type": "code",
   "execution_count": 9,
   "metadata": {},
   "outputs": [],
   "source": [
    "from sklearn.linear_model import Lasso\n",
    "# warning: don't use lasso_path() or lars_path() that appear to \n",
    "# be bugged (on my install).  \n",
    "\n",
    "lasso = Lasso()\n",
    "lasso.fit(X_train, y_train)\n",
    "# useful values for the regularization parameter (log-scale)\n",
    "alphas = alpha_best * np.logspace(4, -.5, 100)\n",
    "# lasso path for the weights\n",
    "coefs_ = []\n",
    "beta_l1norm = []\n",
    "for a in alphas:\n",
    "    lasso.set_params(alpha=a)\n",
    "    lasso.fit(X_train, y_train)\n",
    "    beta_l1norm.append(np.sum(np.abs(lasso.coef_.ravel()))) \n",
    "    coefs_.append(lasso.coef_.ravel().copy())\n",
    "betas = np.array(coefs_)"
   ]
  },
  {
   "cell_type": "code",
   "execution_count": 10,
   "metadata": {},
   "outputs": [
    {
     "data": {
      "image/png": "[encoded data removed]",
      "text/plain": [
       "<Figure size 864x432 with 1 Axes>"
      ]
     },
     "metadata": {
      "needs_background": "light"
     },
     "output_type": "display_data"
    }
   ],
   "source": [
    "# Display lasso path Vs l1 norm of the coeff vector\n",
    "plt.figure(figsize=(12,6))\n",
    "plt.plot(beta_l1norm, betas, marker='o')\n",
    "ymin, ymax = plt.ylim()\n",
    "plt.xlabel('l1 norm of beta')\n",
    "plt.ylabel('Coefficients')\n",
    "plt.title('Lasso Path for noisy data')\n",
    "plt.axis('tight')\n",
    "plt.legend(var_names[:3], fontsize=14)\n",
    "plt.grid('On')\n",
    "plt.show()"
   ]
  },
  {
   "cell_type": "markdown",
   "metadata": {},
   "source": [
    "**Exercise:**\n",
    "- What are the two most significant variables according to the Lasso Path?"
   ]
  },
  {
   "cell_type": "code",
   "execution_count": null,
   "metadata": {},
   "outputs": [],
   "source": []
  }
 ],
 "metadata": {
  "kernelspec": {
   "display_name": "Python 3",
   "language": "python",
   "name": "python3"
  },
  "language_info": {
   "codemirror_mode": {
    "name": "ipython",
    "version": 3
   },
   "file_extension": ".py",
   "mimetype": "text/x-python",
   "name": "python",
   "nbconvert_exporter": "python",
   "pygments_lexer": "ipython3",
   "version": "3.7.9"
  },
  "widgets": {
   "application/vnd.jupyter.widget-state+json": {
    "state": {},
    "version_major": 2,
    "version_minor": 0
   }
  }
 },
 "nbformat": 4,
 "nbformat_minor": 4
}
