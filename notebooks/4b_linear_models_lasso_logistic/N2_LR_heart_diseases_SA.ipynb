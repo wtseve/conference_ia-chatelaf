{
 "cells": [
  {
   "cell_type": "markdown",
   "metadata": {},
   "source": [
    "This notebook can be run on mybinder: [![Binder](https://mybinder.org/badge_logo.svg)](https://mybinder.org/v2/git/https%3A%2F%2Fgricad-gitlab.univ-grenoble-alpes.fr%2Fchatelaf%2Fconference-ia/master?urlpath=lab/tree/notebooks/4b_linear_models_lasso_logistic/)"
   ]
  },
  {
   "cell_type": "markdown",
   "metadata": {},
   "source": [
    "# South Africa Heart Diseases Data\n",
    "A retrospective sample of males in a heart-disease high-risk region\n",
    "of the Western Cape, South Africa. There are roughly two controls per\n",
    "case of Coranary Heart Disease (CHD). Many of the CHD positive men have undergone blood\n",
    "pressure reduction treatment and other programs to reduce their risk\n",
    "factors after their CHD event. In some cases the measurements were\n",
    "made after these treatments. These data are taken from a larger\n",
    "dataset, described in Rousseauw et al, 1983, South African Medical Journal. \n",
    "\n",
    "| Variable name     | Description              |\n",
    "|:---------|:-------------------------|\n",
    "| sbp\t  |\tsystolic blood **pressure** |\n",
    "| tobacco\t|\tcumulative **tobacco** (kg) |\n",
    "| ldl |\t\tlow densiity lipoprotein **cholesterol** |\n",
    "| adiposity |                                     |\n",
    "| famhist\t |\t**family** history of heart disease (Present=1, Absent=0) |\n",
    "| typea\t|\ttype-A **behavior** |\n",
    "| obesity |            |\n",
    "| alcohol\t|\tcurrent **alcohol** consumption |\n",
    "| age\t\t| **age** at onset |\n",
    "| chd\t\t| **response**: coronary heart disease  (Present=1, Absent=0) |"
   ]
  },
  {
   "cell_type": "markdown",
   "metadata": {},
   "source": [
    "#### Load the data set"
   ]
  },
  {
   "cell_type": "code",
   "execution_count": 1,
   "metadata": {},
   "outputs": [
    {
     "data": {
      "text/html": [
       "<div>\n",
       "<style scoped>\n",
       "    .dataframe tbody tr th:only-of-type {\n",
       "        vertical-align: middle;\n",
       "    }\n",
       "\n",
       "    .dataframe tbody tr th {\n",
       "        vertical-align: top;\n",
       "    }\n",
       "\n",
       "    .dataframe thead th {\n",
       "        text-align: right;\n",
       "    }\n",
       "</style>\n",
       "<table border=\"1\" class=\"dataframe\">\n",
       "  <thead>\n",
       "    <tr style=\"text-align: right;\">\n",
       "      <th></th>\n",
       "      <th>row.names</th>\n",
       "      <th>sbp</th>\n",
       "      <th>tobacco</th>\n",
       "      <th>ldl</th>\n",
       "      <th>adiposity</th>\n",
       "      <th>famhist</th>\n",
       "      <th>typea</th>\n",
       "      <th>obesity</th>\n",
       "      <th>alcohol</th>\n",
       "      <th>age</th>\n",
       "      <th>chd</th>\n",
       "    </tr>\n",
       "  </thead>\n",
       "  <tbody>\n",
       "    <tr>\n",
       "      <th>0</th>\n",
       "      <td>1</td>\n",
       "      <td>160</td>\n",
       "      <td>12.00</td>\n",
       "      <td>5.73</td>\n",
       "      <td>23.11</td>\n",
       "      <td>1</td>\n",
       "      <td>49</td>\n",
       "      <td>25.30</td>\n",
       "      <td>97.20</td>\n",
       "      <td>52</td>\n",
       "      <td>1</td>\n",
       "    </tr>\n",
       "    <tr>\n",
       "      <th>1</th>\n",
       "      <td>2</td>\n",
       "      <td>144</td>\n",
       "      <td>0.01</td>\n",
       "      <td>4.41</td>\n",
       "      <td>28.61</td>\n",
       "      <td>0</td>\n",
       "      <td>55</td>\n",
       "      <td>28.87</td>\n",
       "      <td>2.06</td>\n",
       "      <td>63</td>\n",
       "      <td>1</td>\n",
       "    </tr>\n",
       "    <tr>\n",
       "      <th>2</th>\n",
       "      <td>3</td>\n",
       "      <td>118</td>\n",
       "      <td>0.08</td>\n",
       "      <td>3.48</td>\n",
       "      <td>32.28</td>\n",
       "      <td>1</td>\n",
       "      <td>52</td>\n",
       "      <td>29.14</td>\n",
       "      <td>3.81</td>\n",
       "      <td>46</td>\n",
       "      <td>0</td>\n",
       "    </tr>\n",
       "    <tr>\n",
       "      <th>3</th>\n",
       "      <td>4</td>\n",
       "      <td>170</td>\n",
       "      <td>7.50</td>\n",
       "      <td>6.41</td>\n",
       "      <td>38.03</td>\n",
       "      <td>1</td>\n",
       "      <td>51</td>\n",
       "      <td>31.99</td>\n",
       "      <td>24.26</td>\n",
       "      <td>58</td>\n",
       "      <td>1</td>\n",
       "    </tr>\n",
       "    <tr>\n",
       "      <th>4</th>\n",
       "      <td>5</td>\n",
       "      <td>134</td>\n",
       "      <td>13.60</td>\n",
       "      <td>3.50</td>\n",
       "      <td>27.78</td>\n",
       "      <td>1</td>\n",
       "      <td>60</td>\n",
       "      <td>25.99</td>\n",
       "      <td>57.34</td>\n",
       "      <td>49</td>\n",
       "      <td>1</td>\n",
       "    </tr>\n",
       "  </tbody>\n",
       "</table>\n",
       "</div>"
      ],
      "text/plain": [
       "   row.names  sbp  tobacco   ldl  adiposity  famhist  typea  obesity  alcohol  \\\n",
       "0          1  160    12.00  5.73      23.11        1     49    25.30    97.20   \n",
       "1          2  144     0.01  4.41      28.61        0     55    28.87     2.06   \n",
       "2          3  118     0.08  3.48      32.28        1     52    29.14     3.81   \n",
       "3          4  170     7.50  6.41      38.03        1     51    31.99    24.26   \n",
       "4          5  134    13.60  3.50      27.78        1     60    25.99    57.34   \n",
       "\n",
       "   age  chd  \n",
       "0   52    1  \n",
       "1   63    1  \n",
       "2   46    0  \n",
       "3   58    1  \n",
       "4   49    1  "
      ]
     },
     "execution_count": 1,
     "metadata": {},
     "output_type": "execute_result"
    }
   ],
   "source": [
    "import pandas as pd\n",
    "import numpy as np\n",
    "\n",
    "#load data set\n",
    "heart = pd.read_csv('SAheart.csv', sep=',', header=0)\n",
    "heart.head() #data overview: variable names and first values"
   ]
  },
  {
   "cell_type": "markdown",
   "metadata": {},
   "source": [
    "#### Display some summary statistics"
   ]
  },
  {
   "cell_type": "code",
   "execution_count": 2,
   "metadata": {},
   "outputs": [
    {
     "data": {
      "text/html": [
       "<div>\n",
       "<style scoped>\n",
       "    .dataframe tbody tr th:only-of-type {\n",
       "        vertical-align: middle;\n",
       "    }\n",
       "\n",
       "    .dataframe tbody tr th {\n",
       "        vertical-align: top;\n",
       "    }\n",
       "\n",
       "    .dataframe thead th {\n",
       "        text-align: right;\n",
       "    }\n",
       "</style>\n",
       "<table border=\"1\" class=\"dataframe\">\n",
       "  <thead>\n",
       "    <tr style=\"text-align: right;\">\n",
       "      <th></th>\n",
       "      <th>row.names</th>\n",
       "      <th>sbp</th>\n",
       "      <th>tobacco</th>\n",
       "      <th>ldl</th>\n",
       "      <th>adiposity</th>\n",
       "      <th>famhist</th>\n",
       "      <th>typea</th>\n",
       "      <th>obesity</th>\n",
       "      <th>alcohol</th>\n",
       "      <th>age</th>\n",
       "      <th>chd</th>\n",
       "    </tr>\n",
       "  </thead>\n",
       "  <tbody>\n",
       "    <tr>\n",
       "      <th>count</th>\n",
       "      <td>462.000000</td>\n",
       "      <td>462.000000</td>\n",
       "      <td>462.000000</td>\n",
       "      <td>462.000000</td>\n",
       "      <td>462.000000</td>\n",
       "      <td>462.000000</td>\n",
       "      <td>462.000000</td>\n",
       "      <td>462.000000</td>\n",
       "      <td>462.000000</td>\n",
       "      <td>462.000000</td>\n",
       "      <td>462.000000</td>\n",
       "    </tr>\n",
       "    <tr>\n",
       "      <th>mean</th>\n",
       "      <td>231.935065</td>\n",
       "      <td>138.326840</td>\n",
       "      <td>3.635649</td>\n",
       "      <td>4.740325</td>\n",
       "      <td>25.406732</td>\n",
       "      <td>0.415584</td>\n",
       "      <td>53.103896</td>\n",
       "      <td>26.044113</td>\n",
       "      <td>17.044394</td>\n",
       "      <td>42.816017</td>\n",
       "      <td>0.346320</td>\n",
       "    </tr>\n",
       "    <tr>\n",
       "      <th>std</th>\n",
       "      <td>133.938585</td>\n",
       "      <td>20.496317</td>\n",
       "      <td>4.593024</td>\n",
       "      <td>2.070909</td>\n",
       "      <td>7.780699</td>\n",
       "      <td>0.493357</td>\n",
       "      <td>9.817534</td>\n",
       "      <td>4.213680</td>\n",
       "      <td>24.481059</td>\n",
       "      <td>14.608956</td>\n",
       "      <td>0.476313</td>\n",
       "    </tr>\n",
       "    <tr>\n",
       "      <th>min</th>\n",
       "      <td>1.000000</td>\n",
       "      <td>101.000000</td>\n",
       "      <td>0.000000</td>\n",
       "      <td>0.980000</td>\n",
       "      <td>6.740000</td>\n",
       "      <td>0.000000</td>\n",
       "      <td>13.000000</td>\n",
       "      <td>14.700000</td>\n",
       "      <td>0.000000</td>\n",
       "      <td>15.000000</td>\n",
       "      <td>0.000000</td>\n",
       "    </tr>\n",
       "    <tr>\n",
       "      <th>25%</th>\n",
       "      <td>116.250000</td>\n",
       "      <td>124.000000</td>\n",
       "      <td>0.052500</td>\n",
       "      <td>3.282500</td>\n",
       "      <td>19.775000</td>\n",
       "      <td>0.000000</td>\n",
       "      <td>47.000000</td>\n",
       "      <td>22.985000</td>\n",
       "      <td>0.510000</td>\n",
       "      <td>31.000000</td>\n",
       "      <td>0.000000</td>\n",
       "    </tr>\n",
       "    <tr>\n",
       "      <th>50%</th>\n",
       "      <td>231.500000</td>\n",
       "      <td>134.000000</td>\n",
       "      <td>2.000000</td>\n",
       "      <td>4.340000</td>\n",
       "      <td>26.115000</td>\n",
       "      <td>0.000000</td>\n",
       "      <td>53.000000</td>\n",
       "      <td>25.805000</td>\n",
       "      <td>7.510000</td>\n",
       "      <td>45.000000</td>\n",
       "      <td>0.000000</td>\n",
       "    </tr>\n",
       "    <tr>\n",
       "      <th>75%</th>\n",
       "      <td>347.750000</td>\n",
       "      <td>148.000000</td>\n",
       "      <td>5.500000</td>\n",
       "      <td>5.790000</td>\n",
       "      <td>31.227500</td>\n",
       "      <td>1.000000</td>\n",
       "      <td>60.000000</td>\n",
       "      <td>28.497500</td>\n",
       "      <td>23.892500</td>\n",
       "      <td>55.000000</td>\n",
       "      <td>1.000000</td>\n",
       "    </tr>\n",
       "    <tr>\n",
       "      <th>max</th>\n",
       "      <td>463.000000</td>\n",
       "      <td>218.000000</td>\n",
       "      <td>31.200000</td>\n",
       "      <td>15.330000</td>\n",
       "      <td>42.490000</td>\n",
       "      <td>1.000000</td>\n",
       "      <td>78.000000</td>\n",
       "      <td>46.580000</td>\n",
       "      <td>147.190000</td>\n",
       "      <td>64.000000</td>\n",
       "      <td>1.000000</td>\n",
       "    </tr>\n",
       "  </tbody>\n",
       "</table>\n",
       "</div>"
      ],
      "text/plain": [
       "        row.names         sbp     tobacco         ldl   adiposity     famhist  \\\n",
       "count  462.000000  462.000000  462.000000  462.000000  462.000000  462.000000   \n",
       "mean   231.935065  138.326840    3.635649    4.740325   25.406732    0.415584   \n",
       "std    133.938585   20.496317    4.593024    2.070909    7.780699    0.493357   \n",
       "min      1.000000  101.000000    0.000000    0.980000    6.740000    0.000000   \n",
       "25%    116.250000  124.000000    0.052500    3.282500   19.775000    0.000000   \n",
       "50%    231.500000  134.000000    2.000000    4.340000   26.115000    0.000000   \n",
       "75%    347.750000  148.000000    5.500000    5.790000   31.227500    1.000000   \n",
       "max    463.000000  218.000000   31.200000   15.330000   42.490000    1.000000   \n",
       "\n",
       "            typea     obesity     alcohol         age         chd  \n",
       "count  462.000000  462.000000  462.000000  462.000000  462.000000  \n",
       "mean    53.103896   26.044113   17.044394   42.816017    0.346320  \n",
       "std      9.817534    4.213680   24.481059   14.608956    0.476313  \n",
       "min     13.000000   14.700000    0.000000   15.000000    0.000000  \n",
       "25%     47.000000   22.985000    0.510000   31.000000    0.000000  \n",
       "50%     53.000000   25.805000    7.510000   45.000000    0.000000  \n",
       "75%     60.000000   28.497500   23.892500   55.000000    1.000000  \n",
       "max     78.000000   46.580000  147.190000   64.000000    1.000000  "
      ]
     },
     "execution_count": 2,
     "metadata": {},
     "output_type": "execute_result"
    }
   ],
   "source": [
    "heart.describe()"
   ]
  },
  {
   "cell_type": "markdown",
   "metadata": {},
   "source": [
    "#### Format the input/target data set"
   ]
  },
  {
   "cell_type": "code",
   "execution_count": 3,
   "metadata": {},
   "outputs": [
    {
     "name": "stdout",
     "output_type": "stream",
     "text": [
      "There is 462 samples: 160 cases and 302 control\n"
     ]
    }
   ],
   "source": [
    "y = np.asarray( heart.iloc[:,10], 'float' )\n",
    "X = np.asarray( heart.iloc[:,1:10], 'float' )\n",
    "names = list(heart.columns[1:10]) # variable names\n",
    "y = heart.iloc[:,10]\n",
    "X = heart.iloc[:,1:10]\n",
    "\n",
    "# Data matrix X is (n,p) where p is the number of variable and n the number of sample\n",
    "(n,p) = X.shape\n",
    "ncases = int(np.sum(y)) # number of cases\n",
    "print('There is {} samples: {} cases and {:d} control'.format(n,ncases,n-ncases))"
   ]
  },
  {
   "cell_type": "markdown",
   "metadata": {},
   "source": [
    "## Compute ordinary (without regularization) Logistic Regression"
   ]
  },
  {
   "cell_type": "code",
   "execution_count": 4,
   "metadata": {},
   "outputs": [
    {
     "name": "stdout",
     "output_type": "stream",
     "text": [
      "Computing LR estimates ...\n",
      "This took 0.004s\n",
      "Estimated Weights for standardized variables:\n",
      "\n"
     ]
    },
    {
     "data": {
      "text/html": [
       "<div>\n",
       "<style scoped>\n",
       "    .dataframe tbody tr th:only-of-type {\n",
       "        vertical-align: middle;\n",
       "    }\n",
       "\n",
       "    .dataframe tbody tr th {\n",
       "        vertical-align: top;\n",
       "    }\n",
       "\n",
       "    .dataframe thead th {\n",
       "        text-align: right;\n",
       "    }\n",
       "</style>\n",
       "<table border=\"1\" class=\"dataframe\">\n",
       "  <thead>\n",
       "    <tr style=\"text-align: right;\">\n",
       "      <th></th>\n",
       "      <th>sbp</th>\n",
       "      <th>tobacco</th>\n",
       "      <th>ldl</th>\n",
       "      <th>adiposity</th>\n",
       "      <th>famhist</th>\n",
       "      <th>typea</th>\n",
       "      <th>obesity</th>\n",
       "      <th>alcohol</th>\n",
       "      <th>age</th>\n",
       "      <th>intercept</th>\n",
       "    </tr>\n",
       "  </thead>\n",
       "  <tbody>\n",
       "    <tr>\n",
       "      <th>Weights</th>\n",
       "      <td>0.133162</td>\n",
       "      <td>0.364183</td>\n",
       "      <td>0.359791</td>\n",
       "      <td>0.144465</td>\n",
       "      <td>0.456047</td>\n",
       "      <td>0.388312</td>\n",
       "      <td>-0.264795</td>\n",
       "      <td>0.002981</td>\n",
       "      <td>0.659973</td>\n",
       "      <td>-0.878543</td>\n",
       "    </tr>\n",
       "  </tbody>\n",
       "</table>\n",
       "</div>"
      ],
      "text/plain": [
       "              sbp   tobacco       ldl  adiposity   famhist     typea  \\\n",
       "Weights  0.133162  0.364183  0.359791   0.144465  0.456047  0.388312   \n",
       "\n",
       "          obesity   alcohol       age  intercept  \n",
       "Weights -0.264795  0.002981  0.659973  -0.878543  "
      ]
     },
     "execution_count": 4,
     "metadata": {},
     "output_type": "execute_result"
    }
   ],
   "source": [
    "from sklearn.linear_model import LogisticRegression\n",
    "from sklearn.preprocessing import StandardScaler\n",
    "from time import time\n",
    "\n",
    "# Standardize the data (useful to compare the variable weights)\n",
    "sc = StandardScaler()\n",
    "X = heart.iloc[:,1:10]\n",
    "Xs= sc.fit_transform(X)\n",
    "\n",
    "print(\"Computing LR estimates ...\")\n",
    "start = time()\n",
    "clf = LogisticRegression(penalty='none', tol=1e-6, max_iter=int(1e6))\n",
    "clf.fit(Xs, y)\n",
    "print(\"This took %0.3fs\" % (time() - start))\n",
    "betas = pd.DataFrame.from_records(clf.coef_, columns=names, index=['Weights'])\n",
    "betas['intercept'] = clf.intercept_\n",
    "print('Estimated Weights for standardized variables:\\n')\n",
    "betas.head()"
   ]
  },
  {
   "cell_type": "markdown",
   "metadata": {},
   "source": [
    "**Exercise**:\n",
    "- what does a positive, negative or near-zero weight mean to predict heart disease?\n",
    "- How do you interpret the weight of obesity for instance?\n",
    "- How can you explain such surprising findings?"
   ]
  },
  {
   "cell_type": "markdown",
   "metadata": {},
   "source": [
    "## Compute $\\ell_1$ penalized  Logistic Regression and lasso path\n",
    "\n",
    "Regularization functions such as $\\ell_1$ or $\\ell_2$ penalty (or combined $\\ell_1$/$\\ell_2$ penalty as in *elastic net*)  can also be used in generalized linear model such that Logistic Regression. The residual sum of squares criterion used for linear regression is then replaced by the opposite of the (conditional) log likelihood. \n",
    "For instance for Logitic Regression with Lasso-type regularization ($\\ell_1$ penalty), this yields for binary classification $y_i \\in \\{-1,+1\\}$ the following optimization problem:\n",
    "$$\n",
    "\\min_{\\beta}   \\sum_{i=1}^n \\log(\\exp(- y_i (X_i^T \\beta )) + 1) +  \\lambda \\| \\beta \\|_1.\n",
    "$$\n",
    "Within scikit-learn, penalized Logistic Regression is available through the `penalty` parameter of [`linear_model.LogisticRegression`](https://scikit-learn.org/stable/modules/generated/sklearn.linear_model.LogisticRegression.htm),  parameter `C` being the inverse of regularization strength such that $C=\\frac{1}{\\lambda}$ "
   ]
  },
  {
   "cell_type": "code",
   "execution_count": 5,
   "metadata": {},
   "outputs": [
    {
     "name": "stdout",
     "output_type": "stream",
     "text": [
      "Computing regularization path ...\n",
      "This took 0.085s\n"
     ]
    }
   ],
   "source": [
    "#compute lasso path\n",
    "from sklearn.linear_model import LogisticRegression\n",
    "from sklearn.preprocessing import StandardScaler\n",
    "from time import time\n",
    "from sklearn.svm import l1_min_c\n",
    "\n",
    "import matplotlib.pyplot as plt\n",
    "\n",
    "# Standardize the data! \n",
    "# Don't forget that scale matters for penaliezd regression such that Lasso or ridge\n",
    "# (This is true also for distance based methods s.t. K-NN).\n",
    "# If one variable has a larger magnitude than the other (imagine that you change the \n",
    "# unity for a variable from kilograms to grams), this variable will be much less shrunken than \n",
    "# the others.\n",
    "# Advice: Except if you have a good reason to do the opposite, standardize all your variables \n",
    "# to be sure that they are comparable\n",
    "sc = StandardScaler()\n",
    "Xs= sc.fit_transform(X) #center  (zero mean) and reduce (unit variance) the variables \n",
    "\n",
    "# generate useful values for the regularization parameter (log-scale)\n",
    "cs = l1_min_c(Xs, y, loss='log') * np.logspace(0, 4, 30)\n",
    "\n",
    "# Use a stochastic gradient descent \n",
    "print(\"Computing regularization path ...\")\n",
    "start = time()\n",
    "clf = LogisticRegression(penalty='l1', solver='saga',\n",
    "                                      tol=1e-6, max_iter=int(1e6),\n",
    "                                      warm_start=True)\n",
    "coefs_ = []\n",
    "beta_l1norm = []\n",
    "for c in cs:\n",
    "    clf.set_params(C=c)\n",
    "    clf.fit(Xs, y)\n",
    "    beta_l1norm.append( np.sum(np.abs(clf.coef_.ravel()))) \n",
    "    coefs_.append(clf.coef_.ravel().copy())\n",
    "print(\"This took %0.3fs\" % (time() - start))\n",
    "\n",
    "betas = np.array(coefs_)"
   ]
  },
  {
   "cell_type": "code",
   "execution_count": 6,
   "metadata": {},
   "outputs": [
    {
     "data": {
      "image/png": "[encoded data removed]",
      "text/plain": [
       "<Figure size 864x432 with 1 Axes>"
      ]
     },
     "metadata": {
      "needs_background": "light"
     },
     "output_type": "display_data"
    }
   ],
   "source": [
    "# Display lasso path Vs l1 norm of the coeff vector\n",
    "plt.figure(figsize=(12,6))\n",
    "#plt.plot(np.log10(cs), coefs_, marker='o')\n",
    "plt.plot(beta_l1norm, betas, marker='o')\n",
    "ymin, ymax = plt.ylim()\n",
    "plt.xlabel('l1 norm of beta')\n",
    "plt.ylabel('Coefficients')\n",
    "plt.title('Logistic Regression Path')\n",
    "plt.axis('tight')\n",
    "plt.legend(names, fontsize=14)\n",
    "plt.grid('On')\n",
    "plt.show()"
   ]
  },
  {
   "cell_type": "markdown",
   "metadata": {},
   "source": [
    "### Cross validation of the LR model with Lasso penalty\n",
    "\n",
    "We estimate now the optimal regularization parameter"
   ]
  },
  {
   "cell_type": "code",
   "execution_count": 7,
   "metadata": {},
   "outputs": [
    {
     "name": "stdout",
     "output_type": "stream",
     "text": [
      "Computing K-fold CV ...\n",
      "This took 0.419s\n"
     ]
    }
   ],
   "source": [
    "from sklearn.linear_model import LogisticRegressionCV\n",
    "\n",
    "print(\"Computing K-fold CV ...\")\n",
    "# K fold cross validation  (K=5)\n",
    "start = time()\n",
    "cs = l1_min_c(Xs, y, loss='log') * np.logspace(0, 2, 50) # the vector fot the alpha (lasso penalty parameter) values\n",
    "model = LogisticRegressionCV(Cs=cs, cv=5, penalty='l1', solver='saga', tol=1e-6).fit(Xs,y)\n",
    "print(\"This took %0.3fs\" % (time() - start))"
   ]
  },
  {
   "cell_type": "code",
   "execution_count": 9,
   "metadata": {},
   "outputs": [
    {
     "name": "stdout",
     "output_type": "stream",
     "text": [
      "CV estimates:\n",
      "- lambda = 0.060, which yields ||beta||_1 = 1.342\n",
      "\n",
      "CV weights for standardized variables:\n"
     ]
    },
    {
     "data": {
      "text/html": [
       "<div>\n",
       "<style scoped>\n",
       "    .dataframe tbody tr th:only-of-type {\n",
       "        vertical-align: middle;\n",
       "    }\n",
       "\n",
       "    .dataframe tbody tr th {\n",
       "        vertical-align: top;\n",
       "    }\n",
       "\n",
       "    .dataframe thead th {\n",
       "        text-align: right;\n",
       "    }\n",
       "</style>\n",
       "<table border=\"1\" class=\"dataframe\">\n",
       "  <thead>\n",
       "    <tr style=\"text-align: right;\">\n",
       "      <th></th>\n",
       "      <th>sbp</th>\n",
       "      <th>tobacco</th>\n",
       "      <th>ldl</th>\n",
       "      <th>adiposity</th>\n",
       "      <th>famhist</th>\n",
       "      <th>typea</th>\n",
       "      <th>obesity</th>\n",
       "      <th>alcohol</th>\n",
       "      <th>age</th>\n",
       "      <th>intercept</th>\n",
       "    </tr>\n",
       "  </thead>\n",
       "  <tbody>\n",
       "    <tr>\n",
       "      <th>Weights</th>\n",
       "      <td>0.0</td>\n",
       "      <td>0.232515</td>\n",
       "      <td>0.199362</td>\n",
       "      <td>0.0</td>\n",
       "      <td>0.284652</td>\n",
       "      <td>0.11216</td>\n",
       "      <td>0.0</td>\n",
       "      <td>0.0</td>\n",
       "      <td>0.513103</td>\n",
       "      <td>-0.878436</td>\n",
       "    </tr>\n",
       "  </tbody>\n",
       "</table>\n",
       "</div>"
      ],
      "text/plain": [
       "         sbp   tobacco       ldl  adiposity   famhist    typea  obesity  \\\n",
       "Weights  0.0  0.232515  0.199362        0.0  0.284652  0.11216      0.0   \n",
       "\n",
       "         alcohol       age  intercept  \n",
       "Weights      0.0  0.513103  -0.878436  "
      ]
     },
     "execution_count": 9,
     "metadata": {},
     "output_type": "execute_result"
    }
   ],
   "source": [
    "# Now model is tuned with the penalty parameter estimated by CV\n",
    "lambda_cv = model.C_[0]\n",
    "# The coef estimated with CV\n",
    "beta_l1norm = np.sum(np.abs(model.coef_))\n",
    "\n",
    "print('CV estimates:')\n",
    "print('- lambda = {:.3f}, which yields ||beta||_1 = {:.3f}\\n'.format(lambda_cv,beta_l1norm) )\n",
    "print('CV weights for standardized variables:')\n",
    "betas_cv = pd.DataFrame.from_records(model.coef_, columns=names, index=['Weights'])\n",
    "betas_cv['intercept'] = clf.intercept_\n",
    "betas_cv.head()"
   ]
  },
  {
   "cell_type": "markdown",
   "metadata": {},
   "source": [
    "### Exercise\n",
    "- What are the only significant variables estimated with cross-validation? \n",
    "- How can we rank them by significance order (*hint: look at the lasso path*)?\n",
    "- Do these results seem more credible (than those obtain without regularization) to predict heart diseases? "
   ]
  },
  {
   "cell_type": "markdown",
   "metadata": {},
   "source": [
    "### Compute the predicted CHD probability for some patients\n",
    "\n",
    "For this kind of problem, we are more of course more interested in the modeling between the inputs/response variables and their interpretation rather than the only prediction of the binary responses  (CHD or not). With a generalized linear model such that LR, it is possible to compute a risk probability for each patient and to assess and to interpret the influence of each variable.  "
   ]
  },
  {
   "cell_type": "code",
   "execution_count": 10,
   "metadata": {},
   "outputs": [
    {
     "name": "stdout",
     "output_type": "stream",
     "text": [
      "Case Patient with (standardized) features:\n",
      "        sbp   tobacco       ldl  adiposity   famhist    typea   obesity  \\\n",
      "0  1.058564  1.823073  0.478412  -0.295503  1.185854 -0.41847 -0.176786   \n",
      "\n",
      "    alcohol       age  \n",
      "0  3.277738  0.629336  \n",
      "\n",
      "Proba of coronary heart disease (CHD): 0.596\n",
      "Odds probability of CHD: 1.473\n"
     ]
    }
   ],
   "source": [
    "# Get the predicted risk for the first patient\n",
    "ipatient = 0 # patient index\n",
    "x = Xs[ipatient,:].reshape(1, -1)\n",
    "x = pd.DataFrame.from_records(x, columns=names)\n",
    "ylabel = 'Case' if y[ipatient] else 'Control'\n",
    "print(\"{} Patient with (standardized) features:\\n{}\\n\".format(ylabel, x))\n",
    "\n",
    "# TODO: increase/decrease tobacco consumption\n",
    "x_copy = x.copy()\n",
    "x_copy['tobacco'] += 0 # offset to add in standardized unit\n",
    "\n",
    "# Proba of heart disease\n",
    "proba_CHD_0 = model.predict_proba(x)[0,1]\n",
    "proba_CHD = model.predict_proba(x_copy)[0,1]\n",
    "print(\"Proba of coronary heart disease (CHD): {:.3f}\".format(proba_CHD))\n",
    "print(\"Odds probability of CHD: {:.3f}\".format(proba_CHD/(1-proba_CHD)))"
   ]
  },
  {
   "cell_type": "markdown",
   "metadata": {},
   "source": [
    "### Exercice (*Optional*)\n",
    "-  Based on the logistic regression formula to compute the probability of each class  (with, or without CHD) and the values of the estimated weights, what would be the increase factor on the odds probability $$\\frac{ \\Pr(\\textrm{\"CHD\"} |X=x)}{\\Pr( \\textrm{\"no CHD\"}|X=x)}$$ when the tobacco consumption increases of 1 (in standardized unit)? \n",
    "- Check this by adding an offset  to the tobbaco variable in the cell above and comparing the obtained odds"
   ]
  },
  {
   "cell_type": "markdown",
   "metadata": {},
   "source": [
    "## Greedy variable selection procedure\n",
    "\n",
    "An alternative to Lasso penalization to select the most significant variables and regularize the problem is to fit all the possible combination of variables and choose the best one (for instance that minimizes the test error). This is called *best subset criterion*.  However this approach is very computationnaly demanding. With $p$ variables, we need to fit $2^p$ models. Additionally, if we want to use cross-validation to evaluate and compare their performances, the problem quickly becomes unfeasible...\n",
    "\n",
    "Greedy algorithm are then useful procedures that select the best variables (forward selection) or remove the worst variables (backward selection) **step by step**. There is generally no longer any guarantee of converging towards the best subset solution, but this may give useful solutions at a much reduced computational cost.\n",
    "\n",
    "### Exercise:\n",
    "- for our heart diseases dataset, usig a $K=5$-fold CV, how many fits would be required to find the best subset?"
   ]
  },
  {
   "cell_type": "markdown",
   "metadata": {},
   "source": [
    "### Backward selection: Recursive Feature Elimination (RFE)\n",
    "\n",
    "Given a prediction rule that assigns weights to features (e.g., the coefficients of a linear model), the goal of recursive feature elimination (RFE) is to select variables (the features) by recursively considering smaller and smaller sets of features. First, the estimator is trained on the initial set of features. Then, the least important features are pruned from current set of features. That procedure is recursively repeated on the pruned set.\n",
    "\n",
    "Within scikit-learn, recursive feature elimination is available with [`feature_selection.RFE`](https://scikit-learn.org/stable/modules/generated/sklearn.feature_selection.RFE.html): for a linear model such that Logistic Regression, the importance of the features is obtained through their coefficients (pay attention to scale your data!). The recursive feature elimination is repeated until the desired number of features to select is reached."
   ]
  },
  {
   "cell_type": "code",
   "execution_count": 10,
   "metadata": {},
   "outputs": [
    {
     "name": "stdout",
     "output_type": "stream",
     "text": [
      "This took 0.017s\n",
      "The selected variables are: ['tobacco' 'famhist' 'typea' 'age']\n"
     ]
    },
    {
     "data": {
      "text/html": [
       "<div>\n",
       "<style scoped>\n",
       "    .dataframe tbody tr th:only-of-type {\n",
       "        vertical-align: middle;\n",
       "    }\n",
       "\n",
       "    .dataframe tbody tr th {\n",
       "        vertical-align: top;\n",
       "    }\n",
       "\n",
       "    .dataframe thead th {\n",
       "        text-align: right;\n",
       "    }\n",
       "</style>\n",
       "<table border=\"1\" class=\"dataframe\">\n",
       "  <thead>\n",
       "    <tr style=\"text-align: right;\">\n",
       "      <th></th>\n",
       "      <th>tobacco</th>\n",
       "      <th>famhist</th>\n",
       "      <th>typea</th>\n",
       "      <th>age</th>\n",
       "      <th>ldl</th>\n",
       "      <th>obesity</th>\n",
       "      <th>adiposity</th>\n",
       "      <th>sbp</th>\n",
       "      <th>alcohol</th>\n",
       "    </tr>\n",
       "  </thead>\n",
       "  <tbody>\n",
       "    <tr>\n",
       "      <th>Rank</th>\n",
       "      <td>1</td>\n",
       "      <td>1</td>\n",
       "      <td>1</td>\n",
       "      <td>1</td>\n",
       "      <td>2</td>\n",
       "      <td>3</td>\n",
       "      <td>4</td>\n",
       "      <td>5</td>\n",
       "      <td>6</td>\n",
       "    </tr>\n",
       "  </tbody>\n",
       "</table>\n",
       "</div>"
      ],
      "text/plain": [
       "      tobacco  famhist  typea  age  ldl  obesity  adiposity  sbp  alcohol\n",
       "Rank        1        1      1    1    2        3          4    5        6"
      ]
     },
     "execution_count": 10,
     "metadata": {},
     "output_type": "execute_result"
    }
   ],
   "source": [
    "from sklearn.feature_selection import RFE, RFECV\n",
    "clf = LogisticRegression(penalty='none', tol=1e-6, max_iter=int(1e6))\n",
    "start = time()\n",
    "selector = RFE(clf, n_features_to_select=4, step=1)\n",
    "selector = selector.fit(Xs, y)\n",
    "print(\"This took %0.3fs\" % (time() - start))\n",
    "print(\"The selected variables are: {}\".format(np.array(names)[selector.support_]))\n",
    "sel_ind_sorted = np.argsort(selector.ranking_)\n",
    "ranking = pd.DataFrame.from_records(selector.ranking_[sel_ind_sorted].reshape(1,p), \n",
    "                                    columns=[names[i] for i in sel_ind_sorted], index=['Rank'])\n",
    "ranking.head()"
   ]
  },
  {
   "cell_type": "markdown",
   "metadata": {},
   "source": [
    "### Exercise:\n",
    "- Change the desired number of features to 1 to rank the features by signicance order (most significant variables must enter first in the model). Is it perfectly consistent with the Lasso path ranking?\n",
    "- What is hyperparameter to optimize for the RFE procedure?  How can you estimate it?\n",
    "- Replace the RFE procedure by [`feature_selection.RFECV`](https://scikit-learn.org/stable/modules/generated/sklearn.feature_selection.RFECV.html) to select the most significant variables. Is it in agreement with the Lasso results?\n",
    "- Do you think that this procedure is still appropriate when the number of variables $p$ is greater than the sample size $n$ of the training set?"
   ]
  },
  {
   "cell_type": "markdown",
   "metadata": {},
   "source": [
    "### Forward selection: Orthogonal Matching Pursuit (OMP)\n",
    "\n",
    "Orthogonal Matching Pursuit (OMP) is based on a greedy algorithm that selects at each step the most significant variable to enter the model. For a linear regression model, this is the variable\n",
    "most highly correlated with the current residual. It is similar to the simpler matching pursuit (MP) method, but better in that at each iteration, the residual is recomputed using an orthogonal projection on the space of the previously chosen variables.\n",
    "OMP was introduced in \n",
    "> G. Mallat, Z. Zhang, [Matching pursuits with time-frequency dictionaries](http://blanche.polytechnique.fr/~mallat/papiers/MallatPursuit93.pdf), IEEE Transactions on Signal Processing, Vol. 41, No. 12. (December 1993), pp. 3397-3415.\n",
    "\n",
    "Note also that there exists an other popular method in the statistical literature called *Forward stepwise selection*. The selection step used differs from the one used in OMP in that it selects the variable that will lead to the minimum residual error *after* orthogonalisation. See for instance the following paper for a comparison between both methods\n",
    "> Blumensath, Thomas, and Mike E. Davies. [\"On the difference between orthogonal matching pursuit and orthogonal least squares.\"](https://eprints.soton.ac.uk/142469/1/BDOMPvsOLS07.pdf) (2007).\n",
    "\n",
    "This principle can be extented to generalized linear model such that Logistic Regression by replacing the residual sum of squares criterion by the opposite of the log likelihood. \n",
    "\n",
    "Within scikit-learn, only OMP is available for linear regression model with [`linear_model.OrthogonalMatchingPursuit`](https://scikit-learn.org/stable/modules/generated/sklearn.linear_model.OrthogonalMatchingPursuit.html). However this can be directly apply to our binary classification problem"
   ]
  },
  {
   "cell_type": "code",
   "execution_count": 11,
   "metadata": {},
   "outputs": [
    {
     "name": "stdout",
     "output_type": "stream",
     "text": [
      "Most significant features: ['tobacco' 'ldl' 'famhist' 'typea' 'age']\n"
     ]
    }
   ],
   "source": [
    "# We use Forward selection, aka Orthogonal Matching Pursuit\n",
    "from sklearn.linear_model import OrthogonalMatchingPursuit, OrthogonalMatchingPursuitCV\n",
    "\n",
    "# Get the 5 most significant features\n",
    "omp = OrthogonalMatchingPursuit(n_nonzero_coefs=5,fit_intercept=True, normalize=True)\n",
    "omp.fit(X, y)\n",
    "coef = omp.coef_\n",
    "idx_r, = coef.nonzero()\n",
    "\n",
    "sel_feat_name= [names[l] for l in idx_r] ;\n",
    "print(\"Most significant features: {}\".format(np.array(names)[omp.coef_.nonzero()]))"
   ]
  },
  {
   "cell_type": "markdown",
   "metadata": {},
   "source": [
    "### Exercise:\n",
    "- Change the desired number of variables (number of nonzero coefs) from p to 1 to rank the features by signicance order (most significant variables must enter first in the model). Is it perfectly consistent with the previous results?\n",
    "- What is hyperparameter to optimize for the OMP procedure?  How can you estimate it?\n",
    "- Replace the OMP procedure by [`linear_model.OrthogonalMatchingPursuitCV`](https://scikit-learn.org/stable/modules/generated/sklearn.linear_model.OrthogonalMatchingPursuit.html#sklearn.linear_model.OrthogonalMatchingPursuit) to select the most significant variables. Is it in agreement with the previous results?\n",
    "- *Optional:* Compared to greedy methods that are suboptimal procedures to approximate the best sparse solution (the best subset), Lasso penalty is often presented as a *convex relexation of the sparsity constraint*. Can you explain why? What are the possible benefits/disadvantages of the greedy and lasso procedures?\n"
   ]
  },
  {
   "cell_type": "code",
   "execution_count": null,
   "metadata": {},
   "outputs": [],
   "source": []
  }
 ],
 "metadata": {
  "kernelspec": {
   "display_name": "Python [conda env:calc]",
   "language": "python",
   "name": "conda-env-calc-py"
  },
  "language_info": {
   "codemirror_mode": {
    "name": "ipython",
    "version": 3
   },
   "file_extension": ".py",
   "mimetype": "text/x-python",
   "name": "python",
   "nbconvert_exporter": "python",
   "pygments_lexer": "ipython3",
   "version": "3.7.9"
  },
  "widgets": {
   "application/vnd.jupyter.widget-state+json": {
    "state": {},
    "version_major": 2,
    "version_minor": 0
   }
  }
 },
 "nbformat": 4,
 "nbformat_minor": 4
}
