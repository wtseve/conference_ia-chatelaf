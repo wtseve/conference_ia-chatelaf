{
 "cells": [
  {
   "cell_type": "markdown",
   "metadata": {},
   "source": [
    "This notebook can be run on mybinder: [![Binder](https://mybinder.org/badge_logo.svg)](https://mybinder.org/v2/git/https%3A%2F%2Fgricad-gitlab.univ-grenoble-alpes.fr%2Fchatelaf%2Fml-sicom3a/master?urlpath=lab/tree/notebooks/6_clustering/)"
   ]
  },
  {
   "cell_type": "markdown",
   "metadata": {},
   "source": [
    "# KMEANS basics \n",
    "The purpose of this lab is to implement simple 1D Kmeans clustering algorithm, and compare the obtained results with those obtained using skleran implementation"
   ]
  },
  {
   "cell_type": "code",
   "execution_count": 1,
   "metadata": {},
   "outputs": [],
   "source": [
    "import numpy as np\n",
    "import matplotlib.pyplot as plt\n",
    "from scipy.io import loadmat\n",
    "%matplotlib inline"
   ]
  },
  {
   "cell_type": "markdown",
   "metadata": {},
   "source": [
    "## import data from matlab file : "
   ]
  },
  {
   "cell_type": "code",
   "execution_count": 2,
   "metadata": {},
   "outputs": [
    {
     "name": "stdout",
     "output_type": "stream",
     "text": [
      "dict_keys(['__header__', '__version__', '__globals__', 'Xtrain'])\n",
      "dim of X:(20, 1)\n"
     ]
    }
   ],
   "source": [
    "Data=loadmat('fictitious_train.mat')\n",
    "print(Data.keys())\n",
    "X=Data.get('Xtrain')\n",
    "print('dim of X:{}'.format(X.shape))"
   ]
  },
  {
   "cell_type": "markdown",
   "metadata": {},
   "source": [
    "## Compute the histogram"
   ]
  },
  {
   "cell_type": "code",
   "execution_count": 3,
   "metadata": {},
   "outputs": [
    {
     "name": "stdout",
     "output_type": "stream",
     "text": [
      "[0 4 2 5 1 4 3 1 0]\n",
      "[-1.39 -0.39  0.61  1.61  2.61  3.61  4.61  5.61  6.61  7.61]\n"
     ]
    }
   ],
   "source": [
    "bins=np.arange(np.min(X)-1,np.max(X)+2,1)\n",
    "hist_val,bins=np.histogram(X, bins=bins)\n",
    "print(hist_val)\n",
    "print(bins)"
   ]
  },
  {
   "cell_type": "markdown",
   "metadata": {},
   "source": [
    "### or directly visualize the histogram "
   ]
  },
  {
   "cell_type": "code",
   "execution_count": 4,
   "metadata": {},
   "outputs": [
    {
     "data": {
      "image/png": "[encoded data removed]",
      "text/plain": [
       "<Figure size 432x288 with 1 Axes>"
      ]
     },
     "metadata": {
      "needs_background": "light"
     },
     "output_type": "display_data"
    }
   ],
   "source": [
    "bins=np.arange(np.min(X)-1,np.max(X)+2,1)\n",
    "plt.scatter(X,np.zeros_like(X)+.5,c='red',marker='+')\n",
    "n,bin_edges,patches=plt.hist(x=X,bins=bins, color='blue',histtype='step')"
   ]
  },
  {
   "cell_type": "markdown",
   "metadata": {},
   "source": [
    "## Implementation of Kmean on a simple case\n",
    "In this example, the number of clusters is assumed to be known. \n",
    "\n",
    "### Exercize :\n",
    "- Explain/ comment the code below\n",
    "- What is the main problem left aside by this code? "
   ]
  },
  {
   "cell_type": "code",
   "execution_count": 5,
   "metadata": {},
   "outputs": [],
   "source": [
    "K=2 #nb of clusters \n",
    "p=1 # dimension (the code below is given for p=1 only)\n"
   ]
  },
  {
   "cell_type": "code",
   "execution_count": 6,
   "metadata": {},
   "outputs": [
    {
     "data": {
      "image/png": "[encoded data removed]",
      "text/plain": [
       "<Figure size 432x288 with 1 Axes>"
      ]
     },
     "metadata": {
      "needs_background": "light"
     },
     "output_type": "display_data"
    }
   ],
   "source": [
    "N=X.size\n",
    "idx=np.zeros((N,1))\n",
    "muvec=np.zeros((K,1)) \n",
    "\n",
    "\n",
    "change = True\n",
    "perm=np.random.permutation(N)[0:2]\n",
    "\n",
    "for k in range (0,K): \n",
    "    muvec[k] = X[perm[k],:]\n",
    "\n",
    "for i in range (0,N):\n",
    "    d=(X[i] - muvec )**2\n",
    "    idx[i]=np.where(d==d.min())[0]\n",
    "    \n",
    "while change:\n",
    "    change=False\n",
    "    #update\n",
    "    for k in range (0,K):\n",
    "        muvec[k]= np.mean( X[idx == k] ) \n",
    "    #prediction\n",
    "    for i in range (0,N):\n",
    "        d=(X[i] - muvec )**2\n",
    "        index=np.where(d==d.min())[0]\n",
    "        if index != idx[i]:\n",
    "            change=True\n",
    "            idx[i]=index\n",
    "            \n",
    "X0=X[idx==0]\n",
    "X1=X[idx==1]\n",
    "bins=np.arange(np.min(X)-1,np.max(X)+2,1)\n",
    "n,bin_edges,patches=plt.hist(x=X,bins=bins, color='blue',histtype='step')\n",
    "plt.scatter(X0,np.zeros_like(X0)+.5,c='red',marker='+', label='class 0')\n",
    "plt.scatter(X1,np.zeros_like(X1)+.5,c='green',marker='+',label='class 1')\n",
    "plt.legend()\n",
    "h=plt.gcf()"
   ]
  },
  {
   "cell_type": "markdown",
   "metadata": {},
   "source": [
    "### sklearn implementation - exercize\n",
    "- Compare the results obtained with the simple code above\n",
    "- Comment and explain the role of the iput parameters used in this implementation\n"
   ]
  },
  {
   "cell_type": "code",
   "execution_count": 7,
   "metadata": {
    "scrolled": true
   },
   "outputs": [
    {
     "data": {
      "text/plain": [
       "<matplotlib.legend.Legend at 0x7fe7a8fa27c0>"
      ]
     },
     "execution_count": 7,
     "metadata": {},
     "output_type": "execute_result"
    },
    {
     "data": {
      "image/png": "[encoded data removed]",
      "text/plain": [
       "<Figure size 432x288 with 1 Axes>"
      ]
     },
     "metadata": {
      "needs_background": "light"
     },
     "output_type": "display_data"
    }
   ],
   "source": [
    "#https://scikit-learn.org/stable/modules/generated/sklearn.cluster.KMeans.html\n",
    "from sklearn.cluster import KMeans\n",
    "\n",
    "kmeans = KMeans(n_clusters = 2, init = 'k-means++', max_iter = 10, n_init = 10, random_state = 0)\n",
    "kmeans.fit(X)\n",
    "y_kmeans = kmeans.fit_predict(X)\n",
    "\n",
    "Y0=X[y_kmeans==0]\n",
    "Y1=X[y_kmeans==1]\n",
    "plt.scatter(Y0,np.zeros_like(Y0)+.7,c='red',marker='o', label='class 0 skl')\n",
    "plt.scatter(Y1,np.zeros_like(Y1)+.7,c='green',marker='o',label='class 1 skl')\n",
    "plt.scatter(X0,np.zeros_like(X0)+.5,c='red',marker='+', label='class 0')\n",
    "plt.scatter(X1,np.zeros_like(X1)+.5,c='green',marker='+',label='class 1')\n",
    "plt.legend()"
   ]
  }
 ],
 "metadata": {
  "kernelspec": {
   "display_name": "Python 3",
   "language": "python",
   "name": "python3"
  },
  "language_info": {
   "codemirror_mode": {
    "name": "ipython",
    "version": 3
   },
   "file_extension": ".py",
   "mimetype": "text/x-python",
   "name": "python",
   "nbconvert_exporter": "python",
   "pygments_lexer": "ipython3",
   "version": "3.8.2"
  }
 },
 "nbformat": 4,
 "nbformat_minor": 4
}
