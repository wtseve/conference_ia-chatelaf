{
 "cells": [
  {
   "cell_type": "markdown",
   "metadata": {},
   "source": [
    "This notebook can be run on mybinder: [![Binder](https://mybinder.org/badge_logo.svg)](https://mybinder.org/v2/git/https%3A%2F%2Fgricad-gitlab.univ-grenoble-alpes.fr%2Fchatelaf%2Fml-sicom3a/master?urlpath=lab/tree/notebooks/6_clustering/)"
   ]
  },
  {
   "cell_type": "markdown",
   "metadata": {},
   "source": [
    "# EM basic example \n",
    "The purpose of this labwork is to imlement a Gaussian Mixture Model Clustering algortihm, using Expectation Maximization (EM) method. First, a code is proposed on a 1D example implementing directly the theretical formula from the lecture. Second, the obtzined results are compared with the results obtained using sklearn GMM function. "
   ]
  },
  {
   "cell_type": "markdown",
   "metadata": {},
   "source": [
    "## Data import from matlab file"
   ]
  },
  {
   "cell_type": "code",
   "execution_count": 1,
   "metadata": {},
   "outputs": [],
   "source": [
    "import numpy as np\n",
    "import matplotlib.pyplot as plt\n",
    "from scipy.io import loadmat\n",
    "import scipy.stats as stats\n",
    "%matplotlib inline\n",
    "\n",
    "Data_train = loadmat('fictitious_train.mat')\n",
    "#Data_train.keys()\n",
    "\n",
    "X=Data_train.get('Xtrain')\n",
    "#H=Data_train.get('__header__')\n",
    "#print(\"dimensions ox X ={}\".format(X.shape))"
   ]
  },
  {
   "cell_type": "markdown",
   "metadata": {},
   "source": [
    "## intialization of parameters and Kernel computation\n",
    "- note that here, the number of clusters is set a priori "
   ]
  },
  {
   "cell_type": "code",
   "execution_count": 10,
   "metadata": {},
   "outputs": [],
   "source": [
    "#EM\n",
    "N=X.size\n",
    "K=2\n",
    "p=1\n",
    "MaxIter=100\n",
    "#init \n",
    "perm=np.random.permutation(N)[0:2]\n",
    "pivec= np.ones((K,p))/K \n",
    "muvec= np.zeros((K,p)) \n",
    "sigvec= np.zeros((K,p)) ;\n",
    "postpr=np.zeros((N,K))\n",
    "\n",
    "for k in range (0,K):\n",
    "    muvec[k,:]=X[perm[k],:]  #different means\n",
    "    sigvec[k,:]=np.var(X)*19/20"
   ]
  },
  {
   "cell_type": "markdown",
   "metadata": {},
   "source": [
    "### Exercize\n",
    "- Identify the arrays above wrt to the charateristics of the GMM introduced in th electure\n",
    "- Explain why different means are initialized, whereas same variances may be used\n",
    "- Comment the line codes below, briefly"
   ]
  },
  {
   "cell_type": "code",
   "execution_count": 11,
   "metadata": {},
   "outputs": [
    {
     "name": "stdout",
     "output_type": "stream",
     "text": [
      "muvec=[[4.65591281]\n",
      " [1.08316181]]\n",
      "sigvec=[[0.81879357]\n",
      " [0.81137062]]\n",
      "pivec=[[0.44540977]\n",
      " [0.55459023]]\n"
     ]
    }
   ],
   "source": [
    "#A posteriori Proba to be in a class\n",
    "\n",
    "\n",
    "for t in range (0,MaxIter):\n",
    "    #E-Step\n",
    "    for i in range(0,N): \n",
    "        px = 0\n",
    "        for k in range (0,K):\n",
    "            px=px + pivec[k] * stats.norm.pdf( X[i], muvec[k,:],  np.sqrt( sigvec[k,:] ) )\n",
    "         \n",
    "        for k in range (0,K):\n",
    "            postpr[i,k]=pivec[k]* stats.norm.pdf( X[i], muvec[k,:],  np.sqrt( sigvec[k,:] ) ) / px\n",
    "            \n",
    " #M-step    \n",
    "    for k in range (0,K):\n",
    "        pivec[k,:]=np.mean( postpr[:,k] )\n",
    "        muvec[k,:]= np.sum( np.reshape(postpr[:,k],(N,p)) * X ) / np.sum(postpr[:,k]) # a*b = a.*b matlab\n",
    "        sigvec[k,:]=np.sum( np.reshape(postpr[:,k],(N,p))* (X-muvec[k,:])**2 ) / np.sum(postpr[:,k])\n",
    "\n",
    "\n",
    "print(\"muvec={}\".format(muvec))\n",
    "print(\"sigvec={}\".format(sigvec))\n",
    "print(\"pivec={}\".format(pivec))\n"
   ]
  },
  {
   "cell_type": "markdown",
   "metadata": {},
   "source": [
    "### Exercize\n",
    "Below, the plot diplays the 2 Gaussian pdfs involved in the mixture; the mixture distribution to that plot. "
   ]
  },
  {
   "cell_type": "code",
   "execution_count": 12,
   "metadata": {},
   "outputs": [
    {
     "data": {
      "image/png": "[encoded data removed]",
      "text/plain": [
       "<Figure size 432x288 with 1 Axes>"
      ]
     },
     "metadata": {
      "needs_background": "light"
     },
     "output_type": "display_data"
    }
   ],
   "source": [
    "Xt=np.linspace(-2,8,1000)\n",
    "g0=stats.norm.pdf(Xt,muvec[0],np.sqrt(sigvec[0]))\n",
    "g1=stats.norm.pdf(Xt,muvec[1],np.sqrt(sigvec[1]))\n",
    "# g=?? \n",
    "plt.plot(Xt,g0, label='g0')\n",
    "plt.plot(Xt,g1,label='g1')\n",
    "# plt.plot(Xt,g,label='g')\n",
    "plt.legend()\n",
    "plt.xlabel('X');"
   ]
  },
  {
   "cell_type": "markdown",
   "metadata": {},
   "source": [
    "## Sklearn implementation"
   ]
  },
  {
   "cell_type": "code",
   "execution_count": 19,
   "metadata": {},
   "outputs": [
    {
     "name": "stdout",
     "output_type": "stream",
     "text": [
      "est.cov=[[[0.80453749]]\n",
      "\n",
      " [[0.82470987]]]\n",
      "est.means=[[1.07911119]\n",
      " [4.65159155]]\n",
      "est.weights=[0.55342265 0.44657735]\n"
     ]
    }
   ],
   "source": [
    "\n",
    "from sklearn.mixture import GaussianMixture\n",
    "# Try GMMs using full covariance (no constraints imposed on cov)\n",
    "est = GaussianMixture(n_components=2, \n",
    "                      covariance_type='full', \n",
    "                      max_iter= MaxIter,\n",
    "                      random_state=0)\n",
    "\n",
    "est.fit(X)\n",
    "\n",
    "print(\"est.cov={}\".format(est.covariances_))\n",
    "print(\"est.means={}\".format(est.means_))\n",
    "print(\"est.weights={}\".format(est.weights_))"
   ]
  },
  {
   "cell_type": "markdown",
   "metadata": {},
   "source": [
    "### Exercize \n",
    "- compare the results obtained with Sklearn with the previously obtained results. \n",
    "- Comments? \n",
    "- Add the mixture pdf to the plot"
   ]
  },
  {
   "cell_type": "code",
   "execution_count": 14,
   "metadata": {},
   "outputs": [
    {
     "data": {
      "text/plain": [
       "Text(0.5, 0, 'X')"
      ]
     },
     "execution_count": 14,
     "metadata": {},
     "output_type": "execute_result"
    },
    {
     "data": {
      "image/png": "[encoded data removed]",
      "text/plain": [
       "<Figure size 432x288 with 1 Axes>"
      ]
     },
     "metadata": {
      "needs_background": "light"
     },
     "output_type": "display_data"
    }
   ],
   "source": [
    "Xt=np.linspace(-2,8,1000)\n",
    "g0sklearn=stats.norm.pdf(Xt,np.squeeze(est.means_[0]),\n",
    "                  np.sqrt(np.squeeze(est.covariances_[0])))\n",
    "\n",
    "g1sklearn=stats.norm.pdf(Xt,np.squeeze(est.means_[1]),\n",
    "                  np.sqrt(np.squeeze(est.covariances_[1])))\n",
    "                         \n",
    "# gsklearn= \n",
    "                         \n",
    "plt.plot(Xt,g0sklearn, label='g0sklearn')\n",
    "plt.plot(Xt,g1sklearn,label='g1sklearn')\n",
    "# plt.plot(Xt,gsklearn,label='gsklearn')\n",
    "plt.legend()\n",
    "plt.xlabel('X')"
   ]
  },
  {
   "cell_type": "code",
   "execution_count": 22,
   "metadata": {},
   "outputs": [
    {
     "data": {
      "text/plain": [
       "<matplotlib.collections.PathCollection at 0x7f9498e38d00>"
      ]
     },
     "execution_count": 22,
     "metadata": {},
     "output_type": "execute_result"
    },
    {
     "data": {
      "image/png": "[encoded data removed]",
      "text/plain": [
       "<Figure size 432x288 with 1 Axes>"
      ]
     },
     "metadata": {
      "needs_background": "light"
     },
     "output_type": "display_data"
    }
   ],
   "source": [
    "#Kmeans vs EM\n",
    "resp0= pivec[0] * g0 / g ;\n",
    "resp1= pivec[1] * g1 / g ;\n",
    "\n",
    "plt.plot(Xt,resp0,label='responsability class0')\n",
    "plt.plot(Xt,resp1,label='responsability class1')\n",
    "\n",
    "Y=est.fit_predict(X)\n",
    "plt.scatter(X[Y==0],np.ones_like(X[Y==0])*.5,color='red',marker='+',\n",
    "            label='class 0')\n",
    "plt.scatter(X[Y==1],np.ones_like(X[Y==1])*.5,color='blue',marker='+',\n",
    "            label='class 1')\n",
    "#plt.legend();"
   ]
  },
  {
   "cell_type": "markdown",
   "metadata": {},
   "source": [
    "### Exercize \n",
    "- Compare and interpret Kmeans wrt EM; \n",
    "- Interpret the reposability functions resp0 and resp1. "
   ]
  }
 ],
 "metadata": {
  "kernelspec": {
   "display_name": "Python 3",
   "language": "python",
   "name": "python3"
  },
  "language_info": {
   "codemirror_mode": {
    "name": "ipython",
    "version": 3
   },
   "file_extension": ".py",
   "mimetype": "text/x-python",
   "name": "python",
   "nbconvert_exporter": "python",
   "pygments_lexer": "ipython3",
   "version": "3.8.2"
  }
 },
 "nbformat": 4,
 "nbformat_minor": 4
}
