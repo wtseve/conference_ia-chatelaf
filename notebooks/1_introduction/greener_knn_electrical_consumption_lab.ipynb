{
 "cells": [
  {
   "cell_type": "markdown",
   "metadata": {},
   "source": [
    "# GreEn-ER Dataset\n",
    "The data set consists of electrical consumption data for the GreEn-ER building, as well as meteorological data since September 2016. \n",
    "\n",
    "This is a subset of the available measures. The objective is to predict the electricity consumption due to heating over a 3-day period, using the different data available on day D (one hour sampling period):\n",
    "  - Electrical consumption for heating (kWh)\n",
    "  - Outdoor temperature (Deg C)\n",
    "  - Global measured radiation (RSR2 sensor, averaged over one hour, W/m^2)\n",
    "  - Time of day for measurements (0 to 23 hours)\n",
    "  - Number of the day of the week (1 for monday, 7 for sunday)\n"
   ]
  },
  {
   "cell_type": "markdown",
   "metadata": {},
   "source": [
    "## Loading training data"
   ]
  },
  {
   "cell_type": "code",
   "execution_count": null,
   "metadata": {},
   "outputs": [],
   "source": [
    "import scipy.io as sio\n",
    "import numpy as np\n",
    "greener_train= sio.loadmat('greener_train.mat')\n",
    "X_train= greener_train['data']\n",
    "Y_train= greener_train['targets']\n",
    "X_train.shape"
   ]
  },
  {
   "cell_type": "markdown",
   "metadata": {},
   "source": [
    "### features\n",
    "We have $n=4000$ samples on the training set with $p=5$ features:\n",
    " - `X_train[:,0]` Heating (kWh)\n",
    " - `X_train[:,1]` Temperature (Deg C)\n",
    " - `X_train[:,2]` Global measured radiation  (W/m^2)\n",
    " - `X_train[:,3]` Time of day (0 to 23 hours)\n",
    " - `X_train[:,4]` Day of the week (1 for monday, 7 for sunday)\n",
    " \n",
    "We can plot some features"
   ]
  },
  {
   "cell_type": "code",
   "execution_count": null,
   "metadata": {},
   "outputs": [],
   "source": [
    "%matplotlib notebook\n",
    "import matplotlib.pyplot as plt\n",
    "plt.figure(figsize=(10,5))\n",
    "plt.subplot(2,1,1)\n",
    "plt.plot(X_train[:,0])\n",
    "plt.grid()\n",
    "plt.xlabel('hours')\n",
    "plt.ylabel('kWh')\n",
    "plt.subplot(2,1,2)\n",
    "plt.plot(X_train[:,1])\n",
    "plt.grid()\n",
    "plt.xlabel('hours')\n",
    "plt.ylabel('Temp (Deg C)')\n"
   ]
  },
  {
   "cell_type": "markdown",
   "metadata": {},
   "source": [
    "### Responses\n",
    "We have $n=4000$ samples of the Heating elactrical consumption at day D+3. We can plot them"
   ]
  },
  {
   "cell_type": "code",
   "execution_count": null,
   "metadata": {},
   "outputs": [],
   "source": [
    "%matplotlib notebook\n",
    "import matplotlib.pyplot as plt\n",
    "plt.figure(figsize=(10,5))\n",
    "ax1= plt.subplot(211)\n",
    "plt.plot(np.arange(4000)+3*24, Y_train[:],'r')\n",
    "plt.grid()\n",
    "plt.xlabel('hours')\n",
    "plt.ylabel('Heating D+3(kWh)')\n",
    "plt.subplot(212)\n",
    "plt.plot(X_train[:,0])\n",
    "plt.grid()\n",
    "plt.xlabel('hours')\n",
    "plt.ylabel('Heating (kWh)')\n"
   ]
  },
  {
   "cell_type": "markdown",
   "metadata": {},
   "source": [
    "## Loading test data\n",
    "Here we have a test set in order to estimate true performances and validate the method/prediction rule\n"
   ]
  },
  {
   "cell_type": "code",
   "execution_count": null,
   "metadata": {},
   "outputs": [],
   "source": [
    "greener_test= sio.loadmat('greener_test.mat')\n",
    "X_test= greener_test['data']\n",
    "Y_test= greener_test['targets']"
   ]
  },
  {
   "cell_type": "markdown",
   "metadata": {},
   "source": [
    " # TODO\n",
    " \n",
    "- Train a knn classifier to predict the responses (heating electrical consumption at Day D+3)\n",
    "- plot the results\n",
    "- evaluate both train and test error rate as a function of k (number of neighbors)  \n",
    "- validate the parameters/methods"
   ]
  },
  {
   "cell_type": "code",
   "execution_count": null,
   "metadata": {},
   "outputs": [],
   "source": []
  }
 ],
 "metadata": {
  "kernelspec": {
   "display_name": "Python 3",
   "language": "python",
   "name": "python3"
  },
  "language_info": {
   "codemirror_mode": {
    "name": "ipython",
    "version": 3
   },
   "file_extension": ".py",
   "mimetype": "text/x-python",
   "name": "python",
   "nbconvert_exporter": "python",
   "pygments_lexer": "ipython3",
   "version": "3.6.4"
  }
 },
 "nbformat": 4,
 "nbformat_minor": 2
}
